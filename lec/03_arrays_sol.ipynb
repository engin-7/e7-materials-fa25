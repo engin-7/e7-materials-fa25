{
 "cells": [
  {
   "cell_type": "markdown",
   "id": "60e7adae",
   "metadata": {},
   "source": [
    "# Introduction to Computer Programming and Numerical Methods\n",
    "\n",
    "> **Mohamad M. Hallal, PhD** <br> Teaching Professor, UC Berkeley\n",
    "\n",
    "[![License](https://img.shields.io/badge/license-CC%20BY--NC--ND%204.0-blue)](https://creativecommons.org/licenses/by-nc-nd/4.0/)\n",
    "***"
   ]
  },
  {
   "cell_type": "markdown",
   "id": "87237015",
   "metadata": {},
   "source": [
    "# NumPy Arrays \n",
    "\n",
    "1. [**Introduction to NumPy Arrays**](#s1)\n",
    "2. [**Indexing Arrays**](#s2)\n",
    "3. [**Manipulating Arrays**](#s3)\n",
    "4. [**Array Methods**](#s4)\n",
    "5. [**Arithmetic and Comparison Operations**](#s5)\n",
    "\n",
    "***"
   ]
  },
  {
   "cell_type": "markdown",
   "id": "5ec4d4b6",
   "metadata": {},
   "source": [
    "# 0. Motivation\n",
    "\n",
    "While Python's built-in data structures like lists and tuples are versatile, they may not always provide the performance and efficiency required for complex numerical computations, especially when dealing with large datasets or multidimensional arrays. This is where NumPy comes into play. NumPy, short for \"Numerical Python\", is one of the most used modules for scientific and numerical applications. NumPy is a large and extensive module, and this section is just a brief introduction. In addition to performance benefits, NumPy provides a wide range of mathematical functions for array manipulation, linear algebra, and more. These functions are optimized for efficiency and are essential for various scientific and engineering applications.\n",
    "\n",
    "**Learning objectives:**\n",
    "\n",
    "* Create 1-D and 2-D arrays using different methods\n",
    "* Access individual elements and slices of arrays using indexing and slicing techniques\n",
    "* Modify elements and slices of arrays\n",
    "* Perform arithmetic and comparison operations on arrays\n",
    "* Use advanced indexing methods like boolean indexing to access and modify array elements"
   ]
  },
  {
   "cell_type": "markdown",
   "id": "e83a6060",
   "metadata": {},
   "source": [
    "# 1. Introduction to NumPy Arrays <a id=\"s1\"></a>\n",
    "\n",
    "To utilize NumPy, it must first be imported.  A conventional way to import it is to use `np` as a shortened name: `import numpy as np`\n",
    "\n",
    "<div class=\"alert alert-block alert-warning\"> <b>NOTE!</b> While you could use any name, <code>np</code> is widely accepted by the community and it is a good practice to use it for consistency and readability.</div>\n",
    "\n",
    "## 1.1. 1-D Array (or Vector)\n",
    "\n",
    "The main data structure in NumPy is the `ndarray`, which stands for N-dimensional array. When working with NumPy, an `ndarray` is simply referred to as an array. It contains data of the same type, such as integers or floating-point values. \n",
    "\n",
    "To define an array in Python, you can use the `np.array()` function. This function takes as input a list `[]` or a tuple `()` and converts it to a NumPy array. You can also provide an argument of type `range` to `np.array()`. So, the items are put inside square brackets `np.array([...])` or a second set of parentheses `np.array((...))`, and are separated by commas `,`.\n",
    "\n",
    "**Examples:**\n",
    "\n",
    "```python\n",
    ">>> array1 = np.array([1, 2, 3, 4])   # Using a list\n",
    ">>> array2 = np.array((1, 2, 3, 4))   # Using a tuple\n",
    ">>> array3 = np.array(range(1, 5))    # Using a range\n",
    "```\n",
    "\n",
    "<div class=\"alert alert-block alert-info\"> <b>TRY IT!</b> Create the following array in NumPy and then check its type using <code>type()</code>: <br> <br> $x = \\begin{pmatrix}  -2 & 4 & 3 & 12\\\\ \\end{pmatrix}$ <br></div> "
   ]
  },
  {
   "cell_type": "code",
   "execution_count": 1,
   "id": "a4bd9bad",
   "metadata": {},
   "outputs": [
    {
     "data": {
      "text/plain": [
       "numpy.ndarray"
      ]
     },
     "execution_count": 1,
     "metadata": {},
     "output_type": "execute_result"
    }
   ],
   "source": [
    "import numpy as np\n",
    "x = np.array((-2, 4, 3, 12))\n",
    "type(x)"
   ]
  },
  {
   "cell_type": "markdown",
   "id": "ab9f5c32",
   "metadata": {},
   "source": [
    "## 1.2. 2-D Array (or Matrix)\n",
    "\n",
    "The above variable `x` is a 1-D array, also known as a vector. We can also define a 2-D array, also known as a matrix. A 2-D array is essentially a collection of 1-D arrays (rows), stacked one after another. To define a 2-D array, you use `np.array()` with a list of lists, where each row is a list: `np.array([[row1], [row2], ...])` or a tuple of tuples, where each row is a tuple: `np.array(((row1), (row2), ...))`. The items within each row are separated by commas `,`, and the lists or tuples that enclose each row are also separated by commas `,`.\n",
    "\n",
    "**Examples:**\n",
    "\n",
    "```python\n",
    ">>> array1 = np.array([[1, 2, 3], [4, 5, 6]])   # Using nested lists\n",
    ">>> array2 = np.array(((1, 2, 3), (4, 5, 6)))   # Using nested tuples\n",
    "```\n",
    "\n",
    "<div class=\"alert alert-block alert-info\"> <b>TRY IT!</b> Create the following array and then check its type using <code>type()</code>: <br> <br> $y = \\begin{pmatrix} 1 & 4 & 3 \\\\ 9 & 2 & 7 \\\\ \\end{pmatrix}$ <br></div> "
   ]
  },
  {
   "cell_type": "code",
   "execution_count": 57,
   "id": "f00266f2",
   "metadata": {},
   "outputs": [
    {
     "data": {
      "text/plain": [
       "numpy.ndarray"
      ]
     },
     "execution_count": 57,
     "metadata": {},
     "output_type": "execute_result"
    }
   ],
   "source": [
    "y = np.array(((1, 4, 3), (9, 2, 7)))\n",
    "\n",
    "type(y)"
   ]
  },
  {
   "cell_type": "markdown",
   "id": "629e3df8",
   "metadata": {},
   "source": [
    "## 1.3. Array Attributes\n",
    "\n",
    "In NumPy, arrays have attributes that provide useful information about their shape, size, and dimensionality. These attributes help you understand the structure of the array and perform operations accordingly. Here are some of the common attributes:\n",
    "* [`array_name.shape`](https://numpy.org/doc/stable/reference/generated/numpy.ndarray.shape.html): returns the shape of `array_name`\n",
    "> returns a `tuple` with `(n_rows, n_columns)`, where the first element is the number of rows and the second element is the number of columns in the array\n",
    "\n",
    "* [`array_name.size`](https://numpy.org/doc/stable/reference/generated/numpy.ndarray.size.html#numpy.ndarray.size): returns the total number of elements in `array_name` \n",
    "> this is the number of rows times number of columns\n",
    "* [`array_name.ndim`](https://numpy.org/doc/stable/reference/generated/numpy.ndarray.ndim.html#numpy.ndarray.ndim): returns the number of dimensions of `array_name`\n",
    "> this indicates whether the array is 1-D, 2-D. etc.\n",
    "\n",
    "These are just a few of the attributes available for NumPy arrays. For a complete list, you can refer to the [official documentation](https://numpy.org/doc/stable/reference/generated/numpy.ndarray.html).\n",
    "\n",
    "<br>\n",
    "\n",
    "<center><figure>\n",
    "  <img src=\"https://docs.google.com/drawings/d/1vNr9OCNVuha4NLtoAi7udvnXe9mO-Lyhd9aBglaaz94/pub?w=1440&h=1080\" style=\"width:50%\">\n",
    "    <figcaption style=\"text-align:center\"><strong> <br> NumPy array attributes</strong></figcaption>   \n",
    "</figure></center>\n",
    "\n",
    "<br>\n",
    "\n",
    "<div class=\"alert alert-block alert-info\"> <b>TRY IT!</b> Get the dimension, shape, and size of array <code>y</code>.</div> "
   ]
  },
  {
   "cell_type": "code",
   "execution_count": 5,
   "id": "228d6a39",
   "metadata": {},
   "outputs": [
    {
     "data": {
      "text/plain": [
       "2"
      ]
     },
     "execution_count": 5,
     "metadata": {},
     "output_type": "execute_result"
    }
   ],
   "source": [
    "y.ndim"
   ]
  },
  {
   "cell_type": "code",
   "execution_count": 7,
   "id": "0e64ade8-6f8e-4bee-8338-f478a49258c4",
   "metadata": {},
   "outputs": [
    {
     "data": {
      "text/plain": [
       "(2, 3)"
      ]
     },
     "execution_count": 7,
     "metadata": {},
     "output_type": "execute_result"
    }
   ],
   "source": [
    "y.shape"
   ]
  },
  {
   "cell_type": "code",
   "execution_count": 9,
   "id": "1f544a56-1eeb-4f4a-a917-cbabadba8013",
   "metadata": {},
   "outputs": [
    {
     "data": {
      "text/plain": [
       "6"
      ]
     },
     "execution_count": 9,
     "metadata": {},
     "output_type": "execute_result"
    }
   ],
   "source": [
    "y.size"
   ]
  },
  {
   "cell_type": "markdown",
   "id": "fffdcbfc",
   "metadata": {},
   "source": [
    "<div class=\"alert alert-block alert-warning\"> <b>NOTE!</b> Notice that we used <code>y.shape</code> instead of <code>y.shape()</code>. This is because <code>shape</code> is an <strong>attribute</strong>, which is a value associated with an object. For now you need to remember that when we call an attribute on an object, we do not use parentheses. You can always try both and see which works!</div>\n",
    "\n",
    "## 1.4. Other Ways for Creating Arrays\n",
    "\n",
    "In addition to `np.array()`, NumPy provides several functions for creating arrays with specific patterns or sequences. For instance, if we want to create the array `z = [1, 2, 3, ..., 365]`, it would be very cumbersome to manually type each value from 1 through 365. Below, we introduce several functions for efficiently creating arrays that have a pattern.\n",
    "\n",
    "|           | `np.arange()`                                  | `np.linspace()`                                            |\n",
    "|:----------|:-----------------------------------------------|:-----------------------------------------------------------|\n",
    "| **Generates** | Evenly spaced values within a specified range  | Evenly spaced values within a specified range          |\n",
    "| **Arguments** | `start`: Start value (optional, default 0)     | `start`: Start value (required)                        |\n",
    "|           | `stop`: End value (required)                   | `stop`: End value (required)                               |\n",
    "|           | `step`: Increment (optional, default 1)        | `num`: Number of values to generate (optional, default 50) |\n",
    "| **End Value** | Exclusive                                    | Inclusive                                                |\n",
    "\n",
    "### 1.4.1. `np.arange()`\n",
    "\n",
    "For creating arrays with **evenly spaced values** within a specific range, where you know the increment between the values, it is useful to use the `np.arange()` function:\n",
    "\n",
    "```python\n",
    "np.arange(start, stop, step)\n",
    "```\n",
    "\n",
    "where:\n",
    "\n",
    "* `start`: a number specifying the start value of the array. This is an optional argument. If not specified, it defaults to 0.\n",
    "* `stop`: a number specifying the end value of the array (exclusive). This is a required argument.\n",
    "* `step`: a number specifying the increment in the values of the array (`step` $\\neq 0$). This is an optional argument. If not specified, it defaults to 1. The `step` can be positive or negative and the value in index `i` will simply be `start + step*i`\n",
    "\n",
    "The resulting array will include values from `start` up to, **but not including**, `stop`, with a spacing of `step` between each two values.\n",
    "\n",
    "<div class=\"alert alert-block alert-warning\"> <b>NOTE!</b> This should sound familiar. We have seen the <code>range()</code> function before. However, <code>range()</code> is used for integer sequences only, while <code>np.arange()</code> can take non-integer values as well. For integer arguments, the functions are roughly equivalent.</div>\n",
    "\n",
    "<div class=\"alert alert-block alert-info\"> <b>TRY IT!</b> Create an array with $[0.5, 1.0, 1.5, 2.0, ..., 6.0, 6.5]$. <br> &emsp;&emsp;&emsp;&ensp; Create an array with $[0, 1, 2, ..., 6]$.</div> "
   ]
  },
  {
   "cell_type": "code",
   "execution_count": 21,
   "id": "574b7153",
   "metadata": {},
   "outputs": [
    {
     "data": {
      "text/plain": [
       "array([0.5, 1. , 1.5, 2. , 2.5, 3. , 3.5, 4. , 4.5, 5. , 5.5, 6. , 6.5])"
      ]
     },
     "execution_count": 21,
     "metadata": {},
     "output_type": "execute_result"
    }
   ],
   "source": [
    "np.arange(0.5, 7, 0.5)"
   ]
  },
  {
   "cell_type": "markdown",
   "id": "421fd743",
   "metadata": {},
   "source": [
    "<div class=\"alert alert-block alert-info\"> <b>TRY IT!</b> Run the code below and change the values for start, stop, and step to check how they affect the array.</div> "
   ]
  },
  {
   "cell_type": "code",
   "execution_count": 23,
   "id": "c19dccb3",
   "metadata": {},
   "outputs": [
    {
     "data": {
      "application/vnd.jupyter.widget-view+json": {
       "model_id": "2f92d029bcba48778b8eebfc224cce0e",
       "version_major": 2,
       "version_minor": 0
      },
      "text/plain": [
       "interactive(children=(IntSlider(value=0, description='start', min=-100), IntSlider(value=0, description='stop'…"
      ]
     },
     "metadata": {},
     "output_type": "display_data"
    }
   ],
   "source": [
    "import ipywidgets as widgets  # import ipywidgets package for interactive widgets\n",
    "\n",
    "# create 3 sliders for start, stop, and step\n",
    "@widgets.interact(start=(-100, 100), stop=(-100, 100), step=(-5, 10, 0.5))\n",
    "\n",
    "# define a function that takes the values from the sliders and returns the ndarray\n",
    "def arange(start, stop, step):\n",
    "    print(f'\\n >>> np.arange(start={start}, stop={stop}, step={step:.2f}) \\n')\n",
    "    print(np.arange(start, stop, step))\n",
    "    return"
   ]
  },
  {
   "cell_type": "markdown",
   "id": "e2bc64a2",
   "metadata": {},
   "source": [
    "### 1.4.2. `np.linspace()`\n",
    "\n",
    "For creating arrays with **evenly spaced values** within a specific range, where you know the total number of values, it is useful to use the `np.linspace()` function:\n",
    "\n",
    "```python\n",
    "np.linspace(start, stop, num)\n",
    "```\n",
    "\n",
    "where:\n",
    "\n",
    "* `start`: a number specifying the start value of the array. Here, this is a required argument.\n",
    "* `stop`: a number specifying the end value of the array (inclusive). This is a required argument.\n",
    "* `num`: an integer specifying the number of evenly spaced points to generate between `start` and `stop`, including `start` and `stop`. This is an optional argument. If not specified, it defaults to 50.\n",
    "\n",
    "The resulting array will include `num` values between `start` and `stop`, inclusive of both endpoints.\n",
    "\n",
    "<div class=\"alert alert-block alert-info\"> <b>TRY IT!</b> Create an array starting at 3, ending at 9, and containing 10 evenly spaced elements.</div> "
   ]
  },
  {
   "cell_type": "code",
   "execution_count": 86,
   "id": "761275e3",
   "metadata": {},
   "outputs": [
    {
     "data": {
      "text/plain": [
       "array([3., 4., 5., 6., 7., 8., 9.])"
      ]
     },
     "execution_count": 86,
     "metadata": {},
     "output_type": "execute_result"
    }
   ],
   "source": [
    "np.linspace(3, 9, 7)"
   ]
  },
  {
   "cell_type": "markdown",
   "id": "5c351730",
   "metadata": {},
   "source": [
    "<div class=\"alert alert-block alert-info\"> <b>TRY IT!</b> Run the code below and change the values for start, stop, and num to check how they affect the array.</div> "
   ]
  },
  {
   "cell_type": "code",
   "execution_count": 27,
   "id": "bc2264dc",
   "metadata": {},
   "outputs": [
    {
     "data": {
      "application/vnd.jupyter.widget-view+json": {
       "model_id": "7b3564fbbb3f45e18bdd7342e1094b2c",
       "version_major": 2,
       "version_minor": 0
      },
      "text/plain": [
       "interactive(children=(IntSlider(value=0, description='start', min=-100), IntSlider(value=0, description='stop'…"
      ]
     },
     "metadata": {},
     "output_type": "display_data"
    }
   ],
   "source": [
    "import ipywidgets as widgets  # import ipywidgets package for interactive widgets\n",
    "\n",
    "# create 3 sliders for start, stop, and step\n",
    "@widgets.interact(start=(-100, 100), stop=(-100, 100), num=(0, 100))\n",
    "\n",
    "# define a function that takes the values from the sliders and returns the ndarray\n",
    "def linspace(start, stop, num):\n",
    "    print(f'\\n >>> np.linspace(start={start}, stop={stop}, num={num}) \\n')\n",
    "    print(np.linspace(start, stop, num))\n",
    "    return"
   ]
  },
  {
   "cell_type": "markdown",
   "id": "86433cdb",
   "metadata": {},
   "source": [
    "### 1.4.3. Other Functions\n",
    "\n",
    "In addition to `np.arange()` and `np.linspace()`, NumPy provides several other functions for creating predefined arrays, which can be highly useful in various numerical computations. Three commonly used functions are:\n",
    "\n",
    "* `np.zeros(shape)`: Returns an array filled with zeros, with the specified shape.\n",
    "* `np.ones(shape)`: Returns an array filled with ones, with the specified shape.\n",
    "* `np.empty(shape)`: Returns an uninitialized array with the specified shape. The values in the array will be arbitrary and may vary.\n",
    "\n",
    "All of these functions take an input argument `shape`, which specifies the shape of the array. This should be of type `tuple` with `(n_rows, n_columns)`. If you only need a 1-D array, you can specify just one number instead of both the number of rows and number of columns.\n",
    "\n",
    "<div class=\"alert alert-block alert-warning\"> <b>NOTE!</b> When calling these functions to create 2-D arrays, make sure to include two sets of parentheses, one for the function itself and one for the <code>shape</code> argument: <code>np.zeros((n_rows, n_columns))</code>.</div>\n",
    "\n",
    "<div class=\"alert alert-block alert-info\"> <b>TRY IT!</b> Create a 3 by 5 array with all the elements as 0. <br> &emsp;&emsp;&emsp;&ensp; Create a 1-D empty array with 10 elements.</div> "
   ]
  },
  {
   "cell_type": "code",
   "execution_count": 29,
   "id": "3725b980",
   "metadata": {},
   "outputs": [
    {
     "data": {
      "text/plain": [
       "array([[0., 0., 0., 0., 0.],\n",
       "       [0., 0., 0., 0., 0.],\n",
       "       [0., 0., 0., 0., 0.]])"
      ]
     },
     "execution_count": 29,
     "metadata": {},
     "output_type": "execute_result"
    }
   ],
   "source": [
    "np.zeros((3, 5))"
   ]
  },
  {
   "cell_type": "code",
   "execution_count": 35,
   "id": "570d2045-2489-46b1-9434-ffcb35c89e74",
   "metadata": {},
   "outputs": [
    {
     "data": {
      "text/plain": [
       "array([3.        , 3.66666667, 4.33333333, 5.        , 5.66666667,\n",
       "       6.33333333, 7.        , 7.66666667, 8.33333333, 9.        ])"
      ]
     },
     "execution_count": 35,
     "metadata": {},
     "output_type": "execute_result"
    }
   ],
   "source": [
    "np.empty(10)"
   ]
  },
  {
   "cell_type": "markdown",
   "id": "879dc0d8",
   "metadata": {},
   "source": [
    "<div class=\"alert alert-block alert-warning\"> <b>NOTE!</b> The empty array is not really empty, it is filled with random numbers.</div>\n",
    "\n",
    "There are other functions in NumPy for creating arrays. You can read about them in the [official documentation](https://numpy.org/doc/stable/reference/routines.array-creation.html).\n",
    "\n",
    "## 1.5. Membership Operators\n",
    "\n",
    "We can check whether a specific value is present in an array using the membership operators: `in` and `not in`.\n",
    "\n",
    "\n",
    "```python\n",
    "value in array_name\n",
    "value not in array_name\n",
    "```\n",
    "\n",
    "<div class=\"alert alert-block alert-info\"> <b>TRY IT!</b> Check if 0 is in an empty array with 10 rows and 10 columns.</div> "
   ]
  },
  {
   "cell_type": "code",
   "execution_count": 37,
   "id": "6f17c293",
   "metadata": {},
   "outputs": [
    {
     "data": {
      "text/plain": [
       "True"
      ]
     },
     "execution_count": 37,
     "metadata": {},
     "output_type": "execute_result"
    }
   ],
   "source": [
    "0 in np.empty((10, 10))"
   ]
  },
  {
   "cell_type": "code",
   "execution_count": 39,
   "id": "de203ac5-fe83-48e3-acfd-e725367d939c",
   "metadata": {},
   "outputs": [
    {
     "data": {
      "text/plain": [
       "array([[4.94065646e-324, 6.95230721e-310, 3.77960219e-321,\n",
       "                    nan, 4.94065646e-322, 3.74168656e+233,\n",
       "        5.26520936e+170, 1.16226599e-012, 7.75110943e+228,\n",
       "        4.52338016e+257],\n",
       "       [2.65497546e-260, 6.01355013e-154, 3.54000724e-062,\n",
       "        3.50669712e-033, 1.03278300e-047, 1.35888042e-153,\n",
       "        1.69299977e-052, 8.15052254e-043, 1.58687178e-047,\n",
       "        1.03345067e-047],\n",
       "       [1.65488217e-153, 9.73711752e-072, 6.74195429e-067,\n",
       "        6.22669418e-038, 6.22436687e-038, 2.48882177e-091,\n",
       "        1.58687180e-047, 7.70210591e-043, 1.14460514e-071,\n",
       "        2.21134729e-052],\n",
       "       [2.48523325e-091, 2.00417370e-052, 3.65800218e-086,\n",
       "        2.00417370e-052, 3.50668240e-033, 5.98154816e-154,\n",
       "        4.01397422e-057, 4.66020281e-086, 4.08072630e-033,\n",
       "        6.04414100e-154],\n",
       "       [2.47379808e-091, 3.50669712e-033, 8.54516547e-072,\n",
       "        1.48123091e-259, 2.00392185e-076, 6.01358422e-154,\n",
       "        8.98353468e-067, 4.43687444e-038, 1.50833175e-153,\n",
       "        7.11404559e-038],\n",
       "       [5.51675445e-048, 1.14460514e-071, 2.90963082e-033,\n",
       "        1.28400112e-153, 8.98353464e-067, 9.69268480e-072,\n",
       "        6.22669418e-038, 4.01147766e-057, 6.04708858e-154,\n",
       "        3.53914842e-057],\n",
       "       [1.17177350e-047, 1.58687178e-047, 1.12913400e-042,\n",
       "        6.04270712e-154, 1.69299186e-052, 3.45767128e-086,\n",
       "        1.14460514e-071, 6.01355010e-154, 2.45787488e-154,\n",
       "        3.85528727e-057],\n",
       "       [4.86442110e-086, 8.23591486e-067, 1.58660135e-047,\n",
       "        2.99070647e-067, 1.25670088e-071, 1.12620884e-153,\n",
       "        3.84061628e+140, 4.47268601e-033, 6.35219789e-067,\n",
       "        1.36900906e-071],\n",
       "       [2.73700656e-057, 6.04270141e-154, 1.65882301e-076,\n",
       "        4.26119170e-086, 1.39897575e-259, 1.48608912e-076,\n",
       "        4.56345591e-072, 5.15627949e-062, 6.77544614e-043,\n",
       "        1.50570965e-153],\n",
       "       [2.42383228e-052, 1.02586645e-071, 6.01347002e-154,\n",
       "        2.36942801e-038, 1.17820501e-047, 1.48374205e-076,\n",
       "        6.03982767e-154, 6.01347002e-154, 5.88568417e+294,\n",
       "        0.00000000e+000]])"
      ]
     },
     "execution_count": 39,
     "metadata": {},
     "output_type": "execute_result"
    }
   ],
   "source": [
    "np.empty((10, 10))"
   ]
  },
  {
   "cell_type": "markdown",
   "id": "c8a59d34",
   "metadata": {},
   "source": [
    "# 2. Indexing Arrays <a id=\"s2\"></a>\n",
    "\n",
    "Similar to built-in data structures (e.g., `list`, `tuple`), an `ndarray` has indexes to indicate the location of each element.\n",
    "\n",
    "Consider for example the following array: $x = \\begin{pmatrix}  -2 & 4 & 3 & 12\\\\ \\end{pmatrix}$\n",
    "\n",
    "<br>\n",
    "\n",
    "<center><figure>\n",
    "  <img src=\"https://docs.google.com/drawings/d/e/2PACX-1vSpHjTf3tUlTWKDpaCfoUcVC_O59_Q2LJfFW4tpHku465W1BLrUfHPyAJ0J2_0ZbQHXpzlpfmA0GJHB/pub?w=446&h=134\n",
    "\" style=\"width:30%\">\n",
    "    <figcaption style=\"text-align:center\"><strong> <br> Indexing elements in a 1-D NumPy array</strong></figcaption>   \n",
    "</figure></center>\n",
    "\n",
    "The concept of indexing in NumPy arrays is consistent with that of other data structures in Python, both for positive and negative indexing.\n",
    "\n",
    "## 2.1. Single Element Indexing\n",
    "\n",
    "In Python, we can access any value of a NumPy array using square brackets and the index of the desired element: `array_name[index]`\n",
    "\n",
    "Let's use $x = \\begin{pmatrix}  -2 & 4 & 3 & 12\\\\ \\end{pmatrix}$ as an example.\n",
    "\n",
    "<div class=\"alert alert-block alert-info\"> <b>TRY IT!</b> Get the first and second elements of <code>x</code> and add them. Repeat this using negative indexing.</div> "
   ]
  },
  {
   "cell_type": "code",
   "execution_count": 43,
   "id": "53502df8",
   "metadata": {},
   "outputs": [
    {
     "name": "stdout",
     "output_type": "stream",
     "text": [
      "2\n",
      "2\n"
     ]
    }
   ],
   "source": [
    "# using positive indexing\n",
    "print(x[0] + x[1])\n",
    "\n",
    "# using negative indexing\n",
    "print(x[-4] + x[-3])"
   ]
  },
  {
   "cell_type": "markdown",
   "id": "a5a3b4bc",
   "metadata": {},
   "source": [
    "For 2-D arrays, indexing is slightly different, since we have rows and columns. To index a 2-D array, we need to indicate the index of the row and the column, separated by a comma, using: `array_name[row_index, column_index]`. Think of 2-D arrays like a table with rows and columns, as shown in the illustration below. If you only think about the row index or the column index, then it is similar to a 1-D array. Negative indexing also works with 2-D arrays, similar to 1-D arrays.\n",
    "\n",
    "<br>\n",
    "\n",
    "<center><figure>\n",
    "  <img src=\"https://docs.google.com/drawings/d/e/2PACX-1vSJpIGPqprNzpn7yNRyUR0rKEgBWtzVLcnp6Xs9T-9wRup9RNO7-D-uOQe7NRrWTYKxZSZqLTjEEnq5/pub?w=928&h=323\n",
    "\" style=\"width:70%\">\n",
    "    <figcaption style=\"text-align:center\"><strong>Indexing elements in a 2-D NumPy array</strong></figcaption>   \n",
    "</figure></center>\n",
    "\n",
    "Let's use $y = \\begin{pmatrix} 1 & 4 & 3 \\\\ 9 & 2 & 7 \\\\ \\end{pmatrix}$ as an example.\n",
    "\n",
    "<div class=\"alert alert-block alert-info\"> <b>TRY IT!</b> Using negative indexing, get the element at the last row and last column of <code>y</code>.</div> "
   ]
  },
  {
   "cell_type": "code",
   "execution_count": 45,
   "id": "316d559b",
   "metadata": {
    "scrolled": true
   },
   "outputs": [
    {
     "data": {
      "text/plain": [
       "7"
      ]
     },
     "execution_count": 45,
     "metadata": {},
     "output_type": "execute_result"
    }
   ],
   "source": [
    "y[-1, -1]"
   ]
  },
  {
   "cell_type": "markdown",
   "id": "5dcd2c9f",
   "metadata": {},
   "source": [
    "## 2.2. Slicing\n",
    "\n",
    "We can also access a sequence of elements from a NumPy array using slicing, similar to other data structures.\n",
    "\n",
    "In general, the syntax for slicing in Python is `array_name[start:end:step]`, where:\n",
    "* `start`: an integer specifying the starting index (included). If `start` is not specified, slicing will start from index 0 (first position).\n",
    "* `end`: an integer specifying the ending index (excluded). If `end` is not specified, slicing will end at the last index.\n",
    "* `step`: an integer specifying the step between the indexes. If `step` is not specified, the result will be equivalent to using `step = 1`. If `step` is specified, the result will be elements with the following indexes: \n",
    "\n",
    "$$[\\text{start, start + step, start + 2 $\\times$ step, ...}]$$\n",
    "\n",
    "When slicing in Python, the **upper-bound is exclusive**, which means that `array_name[1:3]` actually takes a slice from indexes 1 $\\rightarrow$ 2 instead of 1 $\\rightarrow$ 3. \n",
    "\n",
    "Let's use $w = \\begin{pmatrix}0 & 1 & 2 & 3 & 4 & 5 & ... & 98 & 99 & 100\\\\\\end{pmatrix}$ as an example.\n",
    "\n",
    "<div class=\"alert alert-block alert-info\"> <b>TRY IT!</b> Run the code below and change the values for start, end, and step to check how they affect slicing.</div> "
   ]
  },
  {
   "cell_type": "code",
   "execution_count": 47,
   "id": "c8ed7fa9",
   "metadata": {},
   "outputs": [
    {
     "data": {
      "application/vnd.jupyter.widget-view+json": {
       "model_id": "8226728d873b477ea84b9c7be1b382b3",
       "version_major": 2,
       "version_minor": 0
      },
      "text/plain": [
       "interactive(children=(IntSlider(value=50, description='start', max=101), IntSlider(value=50, description='end'…"
      ]
     },
     "metadata": {},
     "output_type": "display_data"
    }
   ],
   "source": [
    "import ipywidgets as widgets  # import ipywidgets package for interactive widgets\n",
    "\n",
    "# create array w\n",
    "w = np.arange(0, 101, 1)\n",
    "\n",
    "# create 3 sliders for start, end, and step\n",
    "@widgets.interact(start=(0,101), end=(0,101), step=(1,10))\n",
    "\n",
    "# define a function that takes the values from the sliders and slices w\n",
    "def slicing(start, end, step):\n",
    "    print(f'\\n >>> w[{start}:{end}:{step}] \\n')\n",
    "    print(w[start:end:step])\n",
    "    return"
   ]
  },
  {
   "cell_type": "markdown",
   "id": "82bbd1e8",
   "metadata": {},
   "source": [
    "<div class=\"alert alert-block alert-info\"> <b>TRY IT!</b> Check the outputs of <code>w[:10]</code>, <code>w[:]</code>, and <code>w[::2]</code>.</div> "
   ]
  },
  {
   "cell_type": "code",
   "execution_count": 49,
   "id": "bade238e",
   "metadata": {},
   "outputs": [
    {
     "name": "stdout",
     "output_type": "stream",
     "text": [
      "[0 1 2 3 4 5 6 7 8 9]\n",
      "[  0   1   2   3   4   5   6   7   8   9  10  11  12  13  14  15  16  17\n",
      "  18  19  20  21  22  23  24  25  26  27  28  29  30  31  32  33  34  35\n",
      "  36  37  38  39  40  41  42  43  44  45  46  47  48  49  50  51  52  53\n",
      "  54  55  56  57  58  59  60  61  62  63  64  65  66  67  68  69  70  71\n",
      "  72  73  74  75  76  77  78  79  80  81  82  83  84  85  86  87  88  89\n",
      "  90  91  92  93  94  95  96  97  98  99 100]\n",
      "[  0   2   4   6   8  10  12  14  16  18  20  22  24  26  28  30  32  34\n",
      "  36  38  40  42  44  46  48  50  52  54  56  58  60  62  64  66  68  70\n",
      "  72  74  76  78  80  82  84  86  88  90  92  94  96  98 100]\n"
     ]
    }
   ],
   "source": [
    "# elements from index 0 (included) to 10 (excluded, so index 9, which is 10-1)\n",
    "print(w[:10]) \n",
    "\n",
    "# the whole array, equivalent to [0:101:1] in this case\n",
    "print(w[:]) \n",
    "\n",
    "# every other element starting from the beginning, equivalent to [0:101:2] in this case\n",
    "print(w[::2]) "
   ]
  },
  {
   "cell_type": "markdown",
   "id": "18e373b5",
   "metadata": {},
   "source": [
    "You can also use negative indexes when slicing, similar to lists and tuples.\n",
    "\n",
    "Let's use $w = \\begin{pmatrix}0 & 1 & 2 & 3 & 4 & 5 & ... & 98 & 99 & 100\\\\\\end{pmatrix}$ as an example.\n",
    "\n",
    "```python\n",
    "In [2]: w[:-1]\n",
    "Out[2]: [ 0  1 2 3 4 ... 99]       \n",
    "```\n",
    "\n",
    "<div class=\"alert alert-block alert-info\"> <b>TRY IT!</b> Run the code below and change the values for start, end, and step to check how they affect slicing.</div> "
   ]
  },
  {
   "cell_type": "code",
   "execution_count": 51,
   "id": "5d477d00",
   "metadata": {},
   "outputs": [
    {
     "data": {
      "application/vnd.jupyter.widget-view+json": {
       "model_id": "1616cffc616047928cc7a499a66f0d71",
       "version_major": 2,
       "version_minor": 0
      },
      "text/plain": [
       "interactive(children=(IntSlider(value=-52, description='start', max=-1, min=-102), IntSlider(value=-52, descri…"
      ]
     },
     "metadata": {},
     "output_type": "display_data"
    }
   ],
   "source": [
    "import ipywidgets as widgets  # import ipywidgets package for interactive widgets\n",
    "\n",
    "# create array w\n",
    "w = np.arange(0, 101, 1)\n",
    "\n",
    "# create 3 sliders for start, end, and step\n",
    "@widgets.interact(start=(-102,-1), end=(-102,-1), step=(-10,2))\n",
    "\n",
    "# define a function that takes the values from the sliders and slices w\n",
    "def slicing(start, end, step):\n",
    "    print(f'\\n >>> w[{start}:{end}:{step}] \\n')\n",
    "    print(w[start:end:step])\n",
    "    return"
   ]
  },
  {
   "cell_type": "markdown",
   "id": "d29507f4",
   "metadata": {},
   "source": [
    "Slicing also works with 2-D arrays. If you only think about the row slicing or the column slicing, then each is similar to a 1-D array.\n",
    "\n",
    "The general syntax for slicing a 2-D array is `array_name[start_row:end_row:step_row, start_col:end_col:step_col]`, where:\n",
    "* `start_row`: The starting index for rows (inclusive).\n",
    "* `end_row`: The ending index for rows (exclusive).\n",
    "* `step_row`: The step size for rows.\n",
    "* `start_col`: The starting index for columns (inclusive).\n",
    "* `end_col`: The ending index for columns (exclusive).\n",
    "* `step_col`: The step size for columns.\n",
    "\n",
    "If `start`, `end`, or `step` are not specified, they default to 0, the size of the dimension, and 1, respectively.\n",
    "\n",
    "Let's use $y = \\begin{pmatrix} 1 & 4 & 3 \\\\ 9 & 2 & 7 \\\\ \\end{pmatrix}$ as an example.\n",
    "\n",
    "<div class=\"alert alert-block alert-info\"> <b>TRY IT!</b> Get the first and third columns of <code>y</code>.</div> "
   ]
  },
  {
   "cell_type": "code",
   "execution_count": 59,
   "id": "50ba2d9d",
   "metadata": {},
   "outputs": [
    {
     "data": {
      "text/plain": [
       "array([[1, 3],\n",
       "       [9, 7]])"
      ]
     },
     "execution_count": 59,
     "metadata": {},
     "output_type": "execute_result"
    }
   ],
   "source": [
    "y[:, ::2]"
   ]
  },
  {
   "cell_type": "markdown",
   "id": "5050bfad",
   "metadata": {},
   "source": [
    "## 2.3. Mutating an Array\n",
    "\n",
    "NumPy arrays are **mutable**, which means that their contents **can** be modified.\n",
    "\n",
    "You can use single element indexing and the assignment operator to modify a value of an array. You can also reassign multiple elements of an array to a single value using slicing, or alternatively, to multiple values as long as both the shape of the elements being assigned and the shape of the elements assigned are the same.  \n",
    "\n",
    "**Examples:**\n",
    "\n",
    "```python\n",
    ">>> array = np.arange(1,6)\n",
    ">>> print(array)\n",
    "\n",
    "[1 2 3 4 5]\n",
    "\n",
    ">>> array[1] = 10              # single element modification\n",
    ">>> print(array)\n",
    "\n",
    "[ 1 10  3  4  5]\n",
    "\n",
    ">>> array[1:3] = 10            # multiple element modification to a single element\n",
    ">>> print(array)\n",
    "\n",
    "[ 1 10 10  4  5]\n",
    "\n",
    ">>> array[1:3] = [-1, 0]       # multiple element modification to multiple elements\n",
    ">>> print(array)\n",
    "\n",
    "[ 1 -1  0  4  5]\n",
    "```\n",
    "\n",
    "Let's use $x = \\begin{pmatrix}  -2 & 4 & 3 & 12\\\\ \\end{pmatrix}$ as an example.\n",
    "\n",
    "<div class=\"alert alert-block alert-info\"> <b>TRY IT!</b> Reassign the second element of <code>x</code> to 25.<br> &emsp;&emsp;&emsp;&ensp; Reassign the first and second elements of <code>x</code> to 19.<br> &emsp;&emsp;&emsp;&ensp; Reassign the second and fourth elements of <code>x</code> to 5 and 7, respectively.</div> "
   ]
  },
  {
   "cell_type": "code",
   "execution_count": 65,
   "id": "f8f28441",
   "metadata": {},
   "outputs": [
    {
     "name": "stdout",
     "output_type": "stream",
     "text": [
      "[-2 25  3 12]\n",
      "[19 19  3 12]\n",
      "[19  5  3  7]\n"
     ]
    }
   ],
   "source": [
    "x = np.array([-2, 4, 3, 12])\n",
    "\n",
    "# reassign a single element to a single value\n",
    "x[1] = 25\n",
    "print(x)\n",
    "\n",
    "# reassign multiple elements to a single value\n",
    "x[:2] = 19\n",
    "print(x)\n",
    "\n",
    "# reassign multiple elements to a multiple values\n",
    "x[1::2] = [5, 7]\n",
    "print(x)"
   ]
  },
  {
   "cell_type": "markdown",
   "id": "7a5a48dd",
   "metadata": {},
   "source": [
    "# 3. Manipulating Arrays <a id=\"s3\"></a>\n",
    "\n",
    "Although reassigning values of an array can be helpful, this cannot be used to grow the array (i.e., add a new element to the array). NumPy provides several functions that can be used to manipulate arrays efficiently. \n",
    "\n",
    "## 3.1. Adding and Removing Elements\n",
    "\n",
    "There are different functions that can be used to add or remove elements from an array, including:\n",
    "\n",
    "* [`np.append(array, values)`](https://numpy.org/doc/stable/reference/generated/numpy.append.html#numpy.append): Append `values` to the end of `array`, where `values` can be a single value or array-like.\n",
    "\n",
    "* [`np.insert(array, ind, values)`](https://numpy.org/doc/stable/reference/generated/numpy.insert.html#numpy.insert): Insert `values` into `array` before index(es) `ind`. Both `values` and `ind` can be a single value or array-like.\n",
    "\n",
    "* [`np.delete(array, ind)`](https://numpy.org/doc/stable/reference/generated/numpy.delete.html#numpy.delete): Delete element(s) from `array` with index(es) `ind`, which can be a single value or array-like.\n",
    "\n",
    "* [`np.unique(array)`](https://numpy.org/doc/stable/reference/generated/numpy.unique.html#numpy.unique): Find the unique elements of `array` and return them in sorted order.\n",
    "\n",
    "<div class=\"alert alert-block alert-warning\"> <b>NOTE!</b> These functions will not automatically change the array. To change the array, you have to reassign it: <code>array = np.append(array, values)</code>.</div>\n",
    "\n",
    "| `input`      | Function                   |  Output            |\n",
    "| :----------: | :------------------------- | :----------------- |\n",
    "| 😎😂🤩😎🤔 | `np.append(input, 🎉)`    | 😎😂🤩😎🤔🎉    |\n",
    "| 😎😂🤩😎🤔 | `np.insert(input, 1, 🎉)` | 😎🎉😂🤩😎🤔    |\n",
    "| 😎😂🤩😎🤔 | `np.delete(input, 1)`     | 😎🤩😎🤔         |\n",
    "| 😎😂🤩😎🤔 | `np.unique(input)`        | 😎😂🤩🤔         |\n",
    "\n",
    "Let's use $x = \\begin{pmatrix}  -2 & 4 & 3 & 12\\\\ \\end{pmatrix}$ as an example.\n",
    "\n",
    "<div class=\"alert alert-block alert-info\"> <b>TRY IT!</b> Append the value 1 to the end of <code>x</code>.<br> &emsp;&emsp;&emsp;&ensp; Insert the values 8 and 9 before the first element of <code>x</code>.</div> "
   ]
  },
  {
   "cell_type": "code",
   "execution_count": null,
   "id": "2be1429b",
   "metadata": {},
   "outputs": [],
   "source": [
    "x = np.array([-2, 4, 3, 12])\n",
    "\n",
    "# append\n",
    "print(...)\n",
    "\n",
    "# insert\n",
    "print(...)\n",
    "\n",
    "# x remains unchanged\n",
    "print(x)"
   ]
  },
  {
   "cell_type": "markdown",
   "id": "434e2538",
   "metadata": {},
   "source": [
    "## 3.2. Concatenating and Splitting Arrays\n",
    "\n",
    "In addition to manipulating single arrays, NumPy also provides functions to combine multiple arrays into one and to split a single array into multiple arrays. Some of these functions include:\n",
    "\n",
    "* [`np.concatenate((array1, array2,...))`](https://numpy.org/doc/stable/reference/generated/numpy.concatenate.html#numpy.concatenate): Concatenate (join) two or more arrays of the same shape.\n",
    "\n",
    "* [`np.split(array, ind_or_sections)`](https://numpy.org/doc/stable/reference/generated/numpy.split.html#numpy.split): Split `array` into multiple sub-arrays. If `ind_or_sections` is an integer, N, the array will be divided into N equal arrays along axis. If `ind_or_sections` is a 1-D array of sorted integers, the entries indicate the indexes at which the split will be performed.\n",
    "\n",
    "<br>\n",
    "\n",
    "<center><figure>\n",
    "  <img src=\"https://docs.google.com/drawings/d/1I4O9hdVlt2xGRmrCsFtFsMNM7QYtO6QuDJZ87CTRBDc/pub?w=1440&h=1080\" style=\"width:75%\">\n",
    "    <figcaption style=\"text-align:center\"><strong> <br> Concatenate examples</strong></figcaption>   \n",
    "</figure></center>\n",
    "\n",
    "<br>\n",
    "\n",
    "***\n",
    "\n",
    "<br>\n",
    "\n",
    "<center><figure>\n",
    "  <img src=\"https://docs.google.com/drawings/d/1WTiwIO8lGrKc2J3zwlOqaIQ5qPBs138QYQCF2hUNK58/pub?w=1440&h=1080\" style=\"width:70%\">\n",
    "    <figcaption style=\"text-align:center\"><strong> <br> Split examples</strong></figcaption>   \n",
    "</figure></center>\n",
    "\n",
    "<br>\n",
    "\n",
    "Let's use $x = \\begin{pmatrix}  -2 & 4 & 3 & 12\\\\ \\end{pmatrix}$ and $v = \\begin{pmatrix}  13 & 4 & 5 & 2\\\\ \\end{pmatrix}$ as an example.\n",
    "\n",
    "<div class=\"alert alert-block alert-info\"> <b>TRY IT!</b> Concatenate <code>x</code> and <code>v</code>.<br> &emsp;&emsp;&emsp;&ensp; Split <code>x</code> into two sub-arrays.</div> "
   ]
  },
  {
   "cell_type": "code",
   "execution_count": null,
   "id": "193bd9d0",
   "metadata": {},
   "outputs": [],
   "source": [
    "x = np.array([-2, 4, 3, 12])\n",
    "v = np.array([13, 4, 5, 2])\n",
    "\n",
    "# concatenate\n",
    "\n",
    "# split\n"
   ]
  },
  {
   "cell_type": "markdown",
   "id": "49a995d9",
   "metadata": {},
   "source": [
    "There are other functions in NumPy for manipulating arrays. You can read about them in the [official documentation](https://numpy.org/doc/stable/reference/routines.array-manipulation.html#array-manipulation-routines).\n",
    "\n",
    "# 4. Array Methods <a id=\"s4\"></a>\n",
    "\n",
    "NumPy arrays have many methods, which manipulate its data or perform actions on an array. Some of the common methods are:\n",
    "* [`array_name.cumsum()`](https://numpy.org/doc/stable/reference/generated/numpy.ndarray.cumsum.html#numpy.ndarray.cumsum): returns the cumulative sum of the array elements along the given axis\n",
    "* [`array_name.max()`](https://numpy.org/doc/stable/reference/generated/numpy.ndarray.max.html): returns the maximum of the array elements along the given axis\n",
    "* [`array_name.mean()`](https://numpy.org/doc/stable/reference/generated/numpy.ndarray.mean.html): returns the average of the array elements along the given axis\n",
    "* [`array_name.min()`](https://numpy.org/doc/stable/reference/generated/numpy.ndarray.min.html#numpy.ndarray.min): returns the minimum of the array elements along the given axis\n",
    "* [`array_name.sort()`](https://numpy.org/doc/stable/reference/generated/numpy.ndarray.html): sorts the array elements\n",
    "* [`array_name.sum()`](https://numpy.org/doc/stable/reference/generated/numpy.ndarray.sum.html): returns the sum of the array elements along the given axis\n",
    "\n",
    "There are other methods in NumPy for manipulating and performing actions on arrays. You can read about them in the [official documentation](https://numpy.org/doc/stable/reference/generated/numpy.ndarray.html).\n",
    "\n",
    "Let's use $x = \\begin{pmatrix}  -2 & 4 & 3 & 12\\\\ \\end{pmatrix}$ as an example.\n",
    "\n",
    "<div class=\"alert alert-block alert-info\"> <b>TRY IT!</b> Get the mean of <code>x</code>.<br> &emsp;&emsp;&emsp;&ensp; Get the sum of <code>x</code>.</div> "
   ]
  },
  {
   "cell_type": "code",
   "execution_count": 69,
   "id": "7db692fe",
   "metadata": {},
   "outputs": [
    {
     "data": {
      "text/plain": [
       "17"
      ]
     },
     "execution_count": 69,
     "metadata": {},
     "output_type": "execute_result"
    }
   ],
   "source": [
    "x = np.array([-2, 4, 3, 12])\n",
    "\n",
    "# mean\n",
    "x.mean()\n",
    "# sum\n",
    "x.sum()"
   ]
  },
  {
   "cell_type": "markdown",
   "id": "143030b5",
   "metadata": {},
   "source": [
    "<div class=\"alert alert-block alert-warning\"> <b>NOTE!</b> Notice that we used <code>x.sum()</code> instead of <code>x.sum</code>. This is because <code>sum</code> is a <strong>method</strong>, which is a function associated with an object. For now you need to remember that when we call a method on an object, we need to use parentheses. You can always try both and see which works!</div>\n",
    "\n",
    "# 5. Arithmetic and Comparison Operations <a id=\"s5\"></a>\n",
    "\n",
    "Some of the arithmetic and comparison operators we have used on scalar objects can also be used on arrays. These arithmetic and comparison operations behave differently compared to Python lists or tuples.\n",
    "\n",
    "## 5.1. Arithmetic Operations\n",
    "\n",
    "Basic arithmetic is defined for arrays. However, there are operations between a scalar (a single number) and an array and operations between two arrays. We will start with operations between a scalar and an array. To illustrate, let $c$ be a scalar, and $A$ be an array.\n",
    "\n",
    "* `A + c`: adds $c$ to every element of $A$ \n",
    "* `A − c`: subtracts $c$ from every element of $A$\n",
    "* `A * c`: multiplies every element of $A$ by $c$\n",
    "* `A / c`: divides every element of $A$ by $c$\n",
    "* `A ** c`: raises every element of $A$ to the power $c$\n",
    "\n",
    "These apply to 1-D and 2-D arrays.\n",
    "\n",
    "Let's use $y = \\begin{pmatrix} 1 & 4 & 3 \\\\ 9 & 2 & 7 \\\\ \\end{pmatrix}$ as an example.\n",
    "\n",
    "<div class=\"alert alert-block alert-info\"> <b>TRY IT!</b> Square the values of <code>y</code>.</div> "
   ]
  },
  {
   "cell_type": "code",
   "execution_count": 73,
   "id": "bd69b1cf",
   "metadata": {},
   "outputs": [
    {
     "name": "stdout",
     "output_type": "stream",
     "text": [
      "[[ 1 16  9]\n",
      " [81  4 49]]\n",
      "[[1 4 3]\n",
      " [9 2 7]]\n"
     ]
    }
   ],
   "source": [
    "# y squared\n",
    "print(y ** 2)\n",
    "# y remains unchanged\n",
    "print(y)"
   ]
  },
  {
   "cell_type": "markdown",
   "id": "46093f9b",
   "metadata": {},
   "source": [
    "<div class=\"alert alert-block alert-warning\"> <b>NOTE!</b> We did not reassign <code>y</code> when doing the above operation (we did not, for example, use <code>y = y ** 2</code>). Therefore, <code>y</code> remains unchanged.</div>\n",
    "\n",
    "We can also perform operations between two or more arrays. Let $A1$ and $A2$ be two arrays of the **same shape**.\n",
    "* `A1 + A2`: takes every element of $A1$ and add it to the corresponding element of $A2$ in the same index\n",
    "* `A1 - A2`: takes every element of $A2$ and subtracts it from the corresponding element of $A1$ in the same index\n",
    "* `A1 * A2`: takes every element of $A1$ and multiplies it by the corresponding element of $A2$ in the same index\n",
    "* `A1 / A2`: takes every element of $A1$ and divides it by the corresponding element of $A2$ in the same index\n",
    "* `A1 ** A2`: takes every element of $A1$ and raises it to the power the corresponding element of $A2$ in the same index\n",
    "\n",
    "<div class=\"alert alert-block alert-warning\"> <b>NOTE!</b> If you have taken linear algebra, you will notice that <code>A1 * A2</code> is different from that standard array multiplication. Standard array multiplication will be described in a later chapter. The operations above are known as element-by-element operations.</div>\n",
    "\n",
    "Let's use $y = \\begin{pmatrix} 1 & 4 & 3 \\\\ 9 & 2 & 7 \\\\ \\end{pmatrix}$ and $z = \\begin{pmatrix} 1 & 2 & 3 \\\\ 4 & 5 & 6 \\\\ \\end{pmatrix}$ as an example.\n",
    "\n",
    "<div class=\"alert alert-block alert-info\"> <b>TRY IT!</b> Perform element-by-element multiplication between <code>y</code> and <code>z</code>.</div> "
   ]
  },
  {
   "cell_type": "code",
   "execution_count": 75,
   "id": "8b6479d2",
   "metadata": {},
   "outputs": [
    {
     "data": {
      "text/plain": [
       "array([[ 1,  8,  9],\n",
       "       [36, 10, 42]])"
      ]
     },
     "execution_count": 75,
     "metadata": {},
     "output_type": "execute_result"
    }
   ],
   "source": [
    "y = np.array([[1, 4, 3], [9, 2, 7]])\n",
    "z = np.array([[1, 2, 3], [4, 5, 6]])\n",
    "\n",
    "# element-by-element multiplication\n",
    "y * z"
   ]
  },
  {
   "cell_type": "markdown",
   "id": "b7f53e91",
   "metadata": {},
   "source": [
    "NumPy has many mathematical functions, such as `np.sin()`, `np.cos()`, etc., that can take arrays as input arguments. The output is an array that includes the outputs of the function evaluated for every element of the input array. A list of mathematical funcitons in NumPy can be found in the [official documentation](https://numpy.org/doc/stable/reference/routines.math.html).\n",
    "\n",
    "<div class=\"alert alert-block alert-warning\"> <b>NOTE!</b> While many of these functions are similar to those available in the <code>math</code> module, you cannot use the functions from <code>math</code> directly on NumPy arrays. Instead, you should use the equivalent functions available in the NumPy module.</div>\n",
    "\n",
    "Let's use $y = \\begin{pmatrix} 1 & 4 & 3 \\\\ 9 & 2 & 7 \\\\ \\end{pmatrix}$ as an example.\n",
    "\n",
    "<div class=\"alert alert-block alert-info\"> <b>TRY IT!</b> Compute the square root of <code>y</code> using <code>np.sqrt()</code>.</div> "
   ]
  },
  {
   "cell_type": "code",
   "execution_count": 77,
   "id": "659f7963",
   "metadata": {
    "scrolled": true
   },
   "outputs": [
    {
     "data": {
      "text/plain": [
       "array([[1.        , 2.        , 1.73205081],\n",
       "       [3.        , 1.41421356, 2.64575131]])"
      ]
     },
     "execution_count": 77,
     "metadata": {},
     "output_type": "execute_result"
    }
   ],
   "source": [
    "np.sqrt(y)"
   ]
  },
  {
   "cell_type": "markdown",
   "id": "dd8a45ff",
   "metadata": {},
   "source": [
    "## 5.2. Comparison Operations\n",
    "\n",
    "Logical expressions can be applied to arrays in NumPy, allowing for comparisons between elements within arrays or between arrays and scalars.\n",
    "\n",
    "### 5.2.1. Comparisons Between a Scalar and an Array\n",
    "\n",
    "When comparing a scalar to an array, the comparison is performed between the scalar and **each element** of the array. The output will be an array of the same shape as the original array, containing `True` or `False` based on the result of the comparison.\n",
    "\n",
    "### 5.2.2. Comparisons Between Two Arrays\n",
    "\n",
    "When comparing two arrays of the **same shape**, the comparison is conducted element-wise (i.e., **element-by-element**). The output will be an array of the same shape as the original arrays, containing `True` or `False` based on the result of the comparison for each corresponding pair of elements.\n",
    "\n",
    "Let's use $y = \\begin{pmatrix} 1 & 4 & 3 \\\\ 9 & 2 & 7 \\\\ \\end{pmatrix}$ and $z = \\begin{pmatrix} 1 & 2 & 3 \\\\ 4 & 5 & 6 \\\\ \\end{pmatrix}$ as an example.\n",
    "\n",
    "<div class=\"alert alert-block alert-info\"> <b>TRY IT!</b> Check which elements of <code>y</code> are greater than 3. Check which elements of <code>y</code> are equal to the corresponding element of <code>z</code>.</div> "
   ]
  },
  {
   "cell_type": "code",
   "execution_count": 81,
   "id": "20f413e9",
   "metadata": {
    "scrolled": true
   },
   "outputs": [
    {
     "data": {
      "text/plain": [
       "array([[ True, False,  True],\n",
       "       [False, False, False]])"
      ]
     },
     "execution_count": 81,
     "metadata": {},
     "output_type": "execute_result"
    }
   ],
   "source": [
    "# greater than 3\n",
    "y > 3\n",
    "# equal to z\n",
    "y == z"
   ]
  },
  {
   "cell_type": "markdown",
   "id": "f1b33ba5",
   "metadata": {},
   "source": [
    "### 5.2.3. Logical Operators\n",
    "\n",
    "The standard logical operators `and` and `or` are not directly applicable to NumPy arrays. Attempting to use these operators directly with arrays will raise an error.\n",
    "\n",
    "To perform element-wise logical AND and OR operations between two arrays, you should use NumPy's specialized logical functions:\n",
    "\n",
    "* `np.logical_and(expression1, expression2)`: Performs element-wise logical AND operation between corresponding elements of `expression1` and `expression2`.\n",
    "* `np.logical_or(expression1, expression2)`: Performs element-wise logical OR operation between corresponding elements of `expression1` and `expression2`.\n",
    "\n",
    "### 5.2.4. Indexing Elements Based on Logical Expressions\n",
    "\n",
    "Python allows indexing elements of an array based on logical expressions, which is particularly useful for extracting specific elements that satisfy certain conditions. Instead of giving the values of the indexes, a logical expression can be used directly to filter the elements of the array.\n",
    "\n",
    "Let's use $y = \\begin{pmatrix} 1 & 4 & 3 \\\\ 9 & 2 & 7 \\\\ \\end{pmatrix}$ as an example.\n",
    "\n",
    "<div class=\"alert alert-block alert-info\"> <b>TRY IT!</b> Create a new array that contains all the elements of <code>y</code> that are strictly greater than 3.<br> &emsp;&emsp;&emsp;&ensp; Assign all the values of <code>y</code> that are greater than 3 the value 0.</div> "
   ]
  },
  {
   "cell_type": "code",
   "execution_count": null,
   "id": "571ed806",
   "metadata": {},
   "outputs": [],
   "source": [
    "y = np.array([[1, 4, 3], [9, 2, 7]])\n",
    "\n",
    "# new array\n",
    "\n",
    "# indexing with logical expression\n",
    "\n",
    "print(y)"
   ]
  }
 ],
 "metadata": {
  "kernelspec": {
   "display_name": "Python 3 (ipykernel)",
   "language": "python",
   "name": "python3"
  },
  "language_info": {
   "codemirror_mode": {
    "name": "ipython",
    "version": 3
   },
   "file_extension": ".py",
   "mimetype": "text/x-python",
   "name": "python",
   "nbconvert_exporter": "python",
   "pygments_lexer": "ipython3",
   "version": "3.12.4"
  },
  "widgets": {
   "application/vnd.jupyter.widget-state+json": {
    "state": {
     "01862c4fb87c4c2d972d8c228ad399fd": {
      "model_module": "@jupyter-widgets/controls",
      "model_module_version": "2.0.0",
      "model_name": "IntSliderModel",
      "state": {
       "behavior": "drag-tap",
       "description": "stop",
       "layout": "IPY_MODEL_1ca8c74ff0964c65add189da1e51797f",
       "min": -100,
       "style": "IPY_MODEL_fe41d282155942ab8f8633e15b6fe65e",
       "value": 27
      }
     },
     "037e5e10842e43a98a91ddab9d7a01b9": {
      "model_module": "@jupyter-widgets/output",
      "model_module_version": "1.0.0",
      "model_name": "OutputModel",
      "state": {
       "layout": "IPY_MODEL_0cf2ac999e3b4746b5464d6f244dfa62",
       "outputs": [
        {
         "name": "stdout",
         "output_type": "stream",
         "text": "\n >>> np.linspace(start=-34, stop=23, num=22) \n\n[-34.         -31.28571429 -28.57142857 -25.85714286 -23.14285714\n -20.42857143 -17.71428571 -15.         -12.28571429  -9.57142857\n  -6.85714286  -4.14285714  -1.42857143   1.28571429   4.\n   6.71428571   9.42857143  12.14285714  14.85714286  17.57142857\n  20.28571429  23.        ]\n"
        }
       ]
      }
     },
     "0c1975991b93486fac9eab7fdbdc9926": {
      "model_module": "@jupyter-widgets/base",
      "model_module_version": "2.0.0",
      "model_name": "LayoutModel",
      "state": {}
     },
     "0c1a35acc8934726b0aa5fe1a41b7bf0": {
      "model_module": "@jupyter-widgets/base",
      "model_module_version": "2.0.0",
      "model_name": "LayoutModel",
      "state": {}
     },
     "0cae9b22620049e38ca2867f64c8e8ca": {
      "model_module": "@jupyter-widgets/output",
      "model_module_version": "1.0.0",
      "model_name": "OutputModel",
      "state": {
       "layout": "IPY_MODEL_299ead1bfd6f4209a1420af5a002c7f0",
       "outputs": [
        {
         "name": "stdout",
         "output_type": "stream",
         "text": "\n >>> w[30:63:8] \n\n[30 38 46 54 62]\n"
        }
       ]
      }
     },
     "0cf2ac999e3b4746b5464d6f244dfa62": {
      "model_module": "@jupyter-widgets/base",
      "model_module_version": "2.0.0",
      "model_name": "LayoutModel",
      "state": {}
     },
     "1616cffc616047928cc7a499a66f0d71": {
      "model_module": "@jupyter-widgets/controls",
      "model_module_version": "2.0.0",
      "model_name": "VBoxModel",
      "state": {
       "_dom_classes": [
        "widget-interact"
       ],
       "children": [
        "IPY_MODEL_5842be18ff484e4aa66008035065fec7",
        "IPY_MODEL_1fc53567e301425dac8ec92bcb8d4fc4",
        "IPY_MODEL_839e9c6ffa87444eba320a5dea14c8bc",
        "IPY_MODEL_5bd70b3ecf5d4ecabaffa5842d7b214d"
       ],
       "layout": "IPY_MODEL_287cf0d51d784ac8889c3fdae0342ade"
      }
     },
     "16770655ab4e4a1da4ed233850390b24": {
      "model_module": "@jupyter-widgets/controls",
      "model_module_version": "2.0.0",
      "model_name": "IntSliderModel",
      "state": {
       "behavior": "drag-tap",
       "description": "start",
       "layout": "IPY_MODEL_55e9a778a3824da198c970e79eef9bef",
       "max": 101,
       "style": "IPY_MODEL_c72e9ad51a2840faa5eda8cacb9a8525",
       "value": 30
      }
     },
     "1ca8c74ff0964c65add189da1e51797f": {
      "model_module": "@jupyter-widgets/base",
      "model_module_version": "2.0.0",
      "model_name": "LayoutModel",
      "state": {}
     },
     "1fc53567e301425dac8ec92bcb8d4fc4": {
      "model_module": "@jupyter-widgets/controls",
      "model_module_version": "2.0.0",
      "model_name": "IntSliderModel",
      "state": {
       "behavior": "drag-tap",
       "description": "end",
       "layout": "IPY_MODEL_979075b2df22403f886dfeb17abf5b1a",
       "max": -1,
       "min": -102,
       "style": "IPY_MODEL_6bcfaac206b8450cb20ae5589428ce85",
       "value": -77
      }
     },
     "277ed28437214d7caed614e0d6473d6b": {
      "model_module": "@jupyter-widgets/controls",
      "model_module_version": "2.0.0",
      "model_name": "SliderStyleModel",
      "state": {
       "description_width": ""
      }
     },
     "287cf0d51d784ac8889c3fdae0342ade": {
      "model_module": "@jupyter-widgets/base",
      "model_module_version": "2.0.0",
      "model_name": "LayoutModel",
      "state": {}
     },
     "2958fca04c9f4fbfa365c917986f7c65": {
      "model_module": "@jupyter-widgets/base",
      "model_module_version": "2.0.0",
      "model_name": "LayoutModel",
      "state": {}
     },
     "299ead1bfd6f4209a1420af5a002c7f0": {
      "model_module": "@jupyter-widgets/base",
      "model_module_version": "2.0.0",
      "model_name": "LayoutModel",
      "state": {}
     },
     "2f92d029bcba48778b8eebfc224cce0e": {
      "model_module": "@jupyter-widgets/controls",
      "model_module_version": "2.0.0",
      "model_name": "VBoxModel",
      "state": {
       "_dom_classes": [
        "widget-interact"
       ],
       "children": [
        "IPY_MODEL_43961607666a4d69b89eb22ec23903b5",
        "IPY_MODEL_01862c4fb87c4c2d972d8c228ad399fd",
        "IPY_MODEL_b3dcd6d6432a46e8869b7a1e7ee12b7d",
        "IPY_MODEL_4903f38056bf466ea39aa06f4d6930e4"
       ],
       "layout": "IPY_MODEL_bedc40c4a594442e8a4fa01dfbbe7436"
      }
     },
     "3035f0cc003c4ae8929b810d5958091b": {
      "model_module": "@jupyter-widgets/base",
      "model_module_version": "2.0.0",
      "model_name": "LayoutModel",
      "state": {}
     },
     "304523408772431fbbe1cf83d8a626c9": {
      "model_module": "@jupyter-widgets/controls",
      "model_module_version": "2.0.0",
      "model_name": "SliderStyleModel",
      "state": {
       "description_width": ""
      }
     },
     "3afcb4799ff0487899e5951a58fb5897": {
      "model_module": "@jupyter-widgets/controls",
      "model_module_version": "2.0.0",
      "model_name": "IntSliderModel",
      "state": {
       "behavior": "drag-tap",
       "description": "num",
       "layout": "IPY_MODEL_2958fca04c9f4fbfa365c917986f7c65",
       "style": "IPY_MODEL_5d82a2c16a704c63a0d6c4e9012c34cc",
       "value": 22
      }
     },
     "43961607666a4d69b89eb22ec23903b5": {
      "model_module": "@jupyter-widgets/controls",
      "model_module_version": "2.0.0",
      "model_name": "IntSliderModel",
      "state": {
       "behavior": "drag-tap",
       "description": "start",
       "layout": "IPY_MODEL_c6f2e1fcdf314c6fa16b7a59b952327c",
       "min": -100,
       "style": "IPY_MODEL_da891a1c5d0d4877bca51ae5af27b06d",
       "value": -60
      }
     },
     "4903f38056bf466ea39aa06f4d6930e4": {
      "model_module": "@jupyter-widgets/output",
      "model_module_version": "1.0.0",
      "model_name": "OutputModel",
      "state": {
       "layout": "IPY_MODEL_3035f0cc003c4ae8929b810d5958091b",
       "outputs": [
        {
         "name": "stdout",
         "output_type": "stream",
         "text": "\n >>> np.arange(start=-60, stop=27, step=0.50) \n\n[-60.  -59.5 -59.  -58.5 -58.  -57.5 -57.  -56.5 -56.  -55.5 -55.  -54.5\n -54.  -53.5 -53.  -52.5 -52.  -51.5 -51.  -50.5 -50.  -49.5 -49.  -48.5\n -48.  -47.5 -47.  -46.5 -46.  -45.5 -45.  -44.5 -44.  -43.5 -43.  -42.5\n -42.  -41.5 -41.  -40.5 -40.  -39.5 -39.  -38.5 -38.  -37.5 -37.  -36.5\n -36.  -35.5 -35.  -34.5 -34.  -33.5 -33.  -32.5 -32.  -31.5 -31.  -30.5\n -30.  -29.5 -29.  -28.5 -28.  -27.5 -27.  -26.5 -26.  -25.5 -25.  -24.5\n -24.  -23.5 -23.  -22.5 -22.  -21.5 -21.  -20.5 -20.  -19.5 -19.  -18.5\n -18.  -17.5 -17.  -16.5 -16.  -15.5 -15.  -14.5 -14.  -13.5 -13.  -12.5\n -12.  -11.5 -11.  -10.5 -10.   -9.5  -9.   -8.5  -8.   -7.5  -7.   -6.5\n  -6.   -5.5  -5.   -4.5  -4.   -3.5  -3.   -2.5  -2.   -1.5  -1.   -0.5\n   0.    0.5   1.    1.5   2.    2.5   3.    3.5   4.    4.5   5.    5.5\n   6.    6.5   7.    7.5   8.    8.5   9.    9.5  10.   10.5  11.   11.5\n  12.   12.5  13.   13.5  14.   14.5  15.   15.5  16.   16.5  17.   17.5\n  18.   18.5  19.   19.5  20.   20.5  21.   21.5  22.   22.5  23.   23.5\n  24.   24.5  25.   25.5  26.   26.5]\n"
        }
       ]
      }
     },
     "4d21db380b9b4df8807e90fa09a3e8f6": {
      "model_module": "@jupyter-widgets/base",
      "model_module_version": "2.0.0",
      "model_name": "LayoutModel",
      "state": {}
     },
     "55e9a778a3824da198c970e79eef9bef": {
      "model_module": "@jupyter-widgets/base",
      "model_module_version": "2.0.0",
      "model_name": "LayoutModel",
      "state": {}
     },
     "5842be18ff484e4aa66008035065fec7": {
      "model_module": "@jupyter-widgets/controls",
      "model_module_version": "2.0.0",
      "model_name": "IntSliderModel",
      "state": {
       "behavior": "drag-tap",
       "description": "start",
       "layout": "IPY_MODEL_7b8d4449f3f84572a21dbe0efdf6187d",
       "max": -1,
       "min": -102,
       "style": "IPY_MODEL_632c9298ebbe42c98707fe6ba31c6c23",
       "value": -35
      }
     },
     "5bd70b3ecf5d4ecabaffa5842d7b214d": {
      "model_module": "@jupyter-widgets/output",
      "model_module_version": "1.0.0",
      "model_name": "OutputModel",
      "state": {
       "layout": "IPY_MODEL_87a5ec4830804fafb002e5ca863a3b6f",
       "outputs": [
        {
         "name": "stdout",
         "output_type": "stream",
         "text": "\n >>> w[-35:-77:-8] \n\n[66 58 50 42 34 26]\n"
        }
       ]
      }
     },
     "5d82a2c16a704c63a0d6c4e9012c34cc": {
      "model_module": "@jupyter-widgets/controls",
      "model_module_version": "2.0.0",
      "model_name": "SliderStyleModel",
      "state": {
       "description_width": ""
      }
     },
     "632c9298ebbe42c98707fe6ba31c6c23": {
      "model_module": "@jupyter-widgets/controls",
      "model_module_version": "2.0.0",
      "model_name": "SliderStyleModel",
      "state": {
       "description_width": ""
      }
     },
     "6bcfaac206b8450cb20ae5589428ce85": {
      "model_module": "@jupyter-widgets/controls",
      "model_module_version": "2.0.0",
      "model_name": "SliderStyleModel",
      "state": {
       "description_width": ""
      }
     },
     "7b3564fbbb3f45e18bdd7342e1094b2c": {
      "model_module": "@jupyter-widgets/controls",
      "model_module_version": "2.0.0",
      "model_name": "VBoxModel",
      "state": {
       "_dom_classes": [
        "widget-interact"
       ],
       "children": [
        "IPY_MODEL_e741f697051c461eaf9bbdda04de18e1",
        "IPY_MODEL_c67f700f2e4f403280b7b3869ba21fcf",
        "IPY_MODEL_3afcb4799ff0487899e5951a58fb5897",
        "IPY_MODEL_037e5e10842e43a98a91ddab9d7a01b9"
       ],
       "layout": "IPY_MODEL_b8ad2df15c1346d0a2cb33cf6ada35d8"
      }
     },
     "7b8d4449f3f84572a21dbe0efdf6187d": {
      "model_module": "@jupyter-widgets/base",
      "model_module_version": "2.0.0",
      "model_name": "LayoutModel",
      "state": {}
     },
     "7e8106f8c2ab487ebf80c4a2be2143e0": {
      "model_module": "@jupyter-widgets/controls",
      "model_module_version": "2.0.0",
      "model_name": "IntSliderModel",
      "state": {
       "behavior": "drag-tap",
       "description": "end",
       "layout": "IPY_MODEL_4d21db380b9b4df8807e90fa09a3e8f6",
       "max": 101,
       "style": "IPY_MODEL_d03f44cb691e4c46a61933b4f316fb49",
       "value": 63
      }
     },
     "8226728d873b477ea84b9c7be1b382b3": {
      "model_module": "@jupyter-widgets/controls",
      "model_module_version": "2.0.0",
      "model_name": "VBoxModel",
      "state": {
       "_dom_classes": [
        "widget-interact"
       ],
       "children": [
        "IPY_MODEL_16770655ab4e4a1da4ed233850390b24",
        "IPY_MODEL_7e8106f8c2ab487ebf80c4a2be2143e0",
        "IPY_MODEL_9e462613450346ca899e02ad2f718519",
        "IPY_MODEL_0cae9b22620049e38ca2867f64c8e8ca"
       ],
       "layout": "IPY_MODEL_0c1a35acc8934726b0aa5fe1a41b7bf0"
      }
     },
     "839e9c6ffa87444eba320a5dea14c8bc": {
      "model_module": "@jupyter-widgets/controls",
      "model_module_version": "2.0.0",
      "model_name": "IntSliderModel",
      "state": {
       "behavior": "drag-tap",
       "description": "step",
       "layout": "IPY_MODEL_0c1975991b93486fac9eab7fdbdc9926",
       "max": 2,
       "min": -10,
       "style": "IPY_MODEL_277ed28437214d7caed614e0d6473d6b",
       "value": -8
      }
     },
     "87a5ec4830804fafb002e5ca863a3b6f": {
      "model_module": "@jupyter-widgets/base",
      "model_module_version": "2.0.0",
      "model_name": "LayoutModel",
      "state": {}
     },
     "968f420b735d46b9aa26a8be18d14d6b": {
      "model_module": "@jupyter-widgets/base",
      "model_module_version": "2.0.0",
      "model_name": "LayoutModel",
      "state": {}
     },
     "979075b2df22403f886dfeb17abf5b1a": {
      "model_module": "@jupyter-widgets/base",
      "model_module_version": "2.0.0",
      "model_name": "LayoutModel",
      "state": {}
     },
     "9e462613450346ca899e02ad2f718519": {
      "model_module": "@jupyter-widgets/controls",
      "model_module_version": "2.0.0",
      "model_name": "IntSliderModel",
      "state": {
       "behavior": "drag-tap",
       "description": "step",
       "layout": "IPY_MODEL_fb9ba8a4f1a445caa1527f7428c7dac1",
       "max": 10,
       "min": 1,
       "style": "IPY_MODEL_d07b79082b0d43e1ac24dbe8ba668ddd",
       "value": 8
      }
     },
     "b3dcd6d6432a46e8869b7a1e7ee12b7d": {
      "model_module": "@jupyter-widgets/controls",
      "model_module_version": "2.0.0",
      "model_name": "FloatSliderModel",
      "state": {
       "behavior": "drag-tap",
       "description": "step",
       "layout": "IPY_MODEL_d6171223a0874bc0b7ee9f28c54b5826",
       "max": 10,
       "min": -5,
       "step": 0.5,
       "style": "IPY_MODEL_304523408772431fbbe1cf83d8a626c9",
       "value": 0.5000000000000009
      }
     },
     "b8ad2df15c1346d0a2cb33cf6ada35d8": {
      "model_module": "@jupyter-widgets/base",
      "model_module_version": "2.0.0",
      "model_name": "LayoutModel",
      "state": {}
     },
     "bedc40c4a594442e8a4fa01dfbbe7436": {
      "model_module": "@jupyter-widgets/base",
      "model_module_version": "2.0.0",
      "model_name": "LayoutModel",
      "state": {}
     },
     "c67f700f2e4f403280b7b3869ba21fcf": {
      "model_module": "@jupyter-widgets/controls",
      "model_module_version": "2.0.0",
      "model_name": "IntSliderModel",
      "state": {
       "behavior": "drag-tap",
       "description": "stop",
       "layout": "IPY_MODEL_f592945334d640f9b42883c78307dfb4",
       "min": -100,
       "style": "IPY_MODEL_d242923a158f49c5b2aaaaaf8609e3b9",
       "value": 23
      }
     },
     "c6f2e1fcdf314c6fa16b7a59b952327c": {
      "model_module": "@jupyter-widgets/base",
      "model_module_version": "2.0.0",
      "model_name": "LayoutModel",
      "state": {}
     },
     "c72e9ad51a2840faa5eda8cacb9a8525": {
      "model_module": "@jupyter-widgets/controls",
      "model_module_version": "2.0.0",
      "model_name": "SliderStyleModel",
      "state": {
       "description_width": ""
      }
     },
     "d03f44cb691e4c46a61933b4f316fb49": {
      "model_module": "@jupyter-widgets/controls",
      "model_module_version": "2.0.0",
      "model_name": "SliderStyleModel",
      "state": {
       "description_width": ""
      }
     },
     "d07b79082b0d43e1ac24dbe8ba668ddd": {
      "model_module": "@jupyter-widgets/controls",
      "model_module_version": "2.0.0",
      "model_name": "SliderStyleModel",
      "state": {
       "description_width": ""
      }
     },
     "d242923a158f49c5b2aaaaaf8609e3b9": {
      "model_module": "@jupyter-widgets/controls",
      "model_module_version": "2.0.0",
      "model_name": "SliderStyleModel",
      "state": {
       "description_width": ""
      }
     },
     "d6171223a0874bc0b7ee9f28c54b5826": {
      "model_module": "@jupyter-widgets/base",
      "model_module_version": "2.0.0",
      "model_name": "LayoutModel",
      "state": {}
     },
     "da891a1c5d0d4877bca51ae5af27b06d": {
      "model_module": "@jupyter-widgets/controls",
      "model_module_version": "2.0.0",
      "model_name": "SliderStyleModel",
      "state": {
       "description_width": ""
      }
     },
     "e741f697051c461eaf9bbdda04de18e1": {
      "model_module": "@jupyter-widgets/controls",
      "model_module_version": "2.0.0",
      "model_name": "IntSliderModel",
      "state": {
       "behavior": "drag-tap",
       "description": "start",
       "layout": "IPY_MODEL_968f420b735d46b9aa26a8be18d14d6b",
       "min": -100,
       "style": "IPY_MODEL_ed9bcee40c5d455e9a5a934a5dcbb088",
       "value": -34
      }
     },
     "ed9bcee40c5d455e9a5a934a5dcbb088": {
      "model_module": "@jupyter-widgets/controls",
      "model_module_version": "2.0.0",
      "model_name": "SliderStyleModel",
      "state": {
       "description_width": ""
      }
     },
     "f592945334d640f9b42883c78307dfb4": {
      "model_module": "@jupyter-widgets/base",
      "model_module_version": "2.0.0",
      "model_name": "LayoutModel",
      "state": {}
     },
     "fb9ba8a4f1a445caa1527f7428c7dac1": {
      "model_module": "@jupyter-widgets/base",
      "model_module_version": "2.0.0",
      "model_name": "LayoutModel",
      "state": {}
     },
     "fe41d282155942ab8f8633e15b6fe65e": {
      "model_module": "@jupyter-widgets/controls",
      "model_module_version": "2.0.0",
      "model_name": "SliderStyleModel",
      "state": {
       "description_width": ""
      }
     }
    },
    "version_major": 2,
    "version_minor": 0
   }
  }
 },
 "nbformat": 4,
 "nbformat_minor": 5
}
