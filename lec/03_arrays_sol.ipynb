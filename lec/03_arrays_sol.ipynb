{
 "cells": [
  {
   "cell_type": "markdown",
   "id": "60e7adae",
   "metadata": {},
   "source": [
    "# Introduction to Computer Programming and Numerical Methods\n",
    "\n",
    "> **Mohamad M. Hallal, PhD** <br> Teaching Professor, UC Berkeley\n",
    "\n",
    "[![License](https://img.shields.io/badge/license-CC%20BY--NC--ND%204.0-blue)](https://creativecommons.org/licenses/by-nc-nd/4.0/)\n",
    "***"
   ]
  },
  {
   "cell_type": "markdown",
   "id": "87237015",
   "metadata": {},
   "source": [
    "# NumPy Arrays \n",
    "\n",
    "1. [**Introduction to NumPy Arrays**](#s1)\n",
    "2. [**Indexing Arrays**](#s2)\n",
    "3. [**Manipulating Arrays**](#s3)\n",
    "4. [**Array Methods**](#s4)\n",
    "5. [**Arithmetic and Comparison Operations**](#s5)\n",
    "\n",
    "***"
   ]
  },
  {
   "cell_type": "markdown",
   "id": "5ec4d4b6",
   "metadata": {},
   "source": [
    "# 0. Motivation\n",
    "\n",
    "While Python's built-in data structures like lists and tuples are versatile, they may not always provide the performance and efficiency required for complex numerical computations, especially when dealing with large datasets or multidimensional arrays. This is where NumPy comes into play. NumPy, short for \"Numerical Python\", is one of the most used modules for scientific and numerical applications. NumPy is a large and extensive module, and this section is just a brief introduction. In addition to performance benefits, NumPy provides a wide range of mathematical functions for array manipulation, linear algebra, and more. These functions are optimized for efficiency and are essential for various scientific and engineering applications.\n",
    "\n",
    "**Learning objectives:**\n",
    "\n",
    "* Create 1-D and 2-D arrays using different methods\n",
    "* Access individual elements and slices of arrays using indexing and slicing techniques\n",
    "* Modify elements and slices of arrays\n",
    "* Perform arithmetic and comparison operations on arrays\n",
    "* Use advanced indexing methods like boolean indexing to access and modify array elements"
   ]
  },
  {
   "cell_type": "markdown",
   "id": "e83a6060",
   "metadata": {},
   "source": [
    "# 1. Introduction to NumPy Arrays <a id=\"s1\"></a>\n",
    "\n",
    "To utilize NumPy, it must first be imported.  A conventional way to import it is to use `np` as a shortened name: `import numpy as np`\n",
    "\n",
    "<div class=\"alert alert-block alert-warning\"> <b>NOTE!</b> While you could use any name, <code>np</code> is widely accepted by the community and it is a good practice to use it for consistency and readability.</div>\n",
    "\n",
    "## 1.1. 1-D Array (or Vector)\n",
    "\n",
    "The main data structure in NumPy is the `ndarray`, which stands for N-dimensional array. When working with NumPy, an `ndarray` is simply referred to as an array. It contains data of the same type, such as integers or floating-point values. \n",
    "\n",
    "To define an array in Python, you can use the `np.array()` function. This function takes as input a list `[]` or a tuple `()` and converts it to a NumPy array. You can also provide an argument of type `range` to `np.array()`. So, the items are put inside square brackets `np.array([...])` or a second set of parentheses `np.array((...))`, and are separated by commas `,`.\n",
    "\n",
    "**Examples:**\n",
    "\n",
    "```python\n",
    ">>> array1 = np.array([1, 2, 3, 4])   # Using a list\n",
    ">>> array2 = np.array((1, 2, 3, 4))   # Using a tuple\n",
    ">>> array3 = np.array(range(1, 5))    # Using a range\n",
    "```\n",
    "\n",
    "<div class=\"alert alert-block alert-info\"> <b>TRY IT!</b> Create the following array in NumPy and then check its type using <code>type()</code>: <br> <br> $x = \\begin{pmatrix}  -2 & 4 & 3 & 12\\\\ \\end{pmatrix}$ <br></div> "
   ]
  },
  {
   "cell_type": "code",
   "execution_count": 83,
   "id": "a4bd9bad",
   "metadata": {},
   "outputs": [
    {
     "data": {
      "text/plain": [
       "numpy.ndarray"
      ]
     },
     "execution_count": 83,
     "metadata": {},
     "output_type": "execute_result"
    }
   ],
   "source": [
    "import numpy as np\n",
    "x = np.array((-2, 4, 3, 12))\n",
    "type(x)"
   ]
  },
  {
   "cell_type": "markdown",
   "id": "ab9f5c32",
   "metadata": {},
   "source": [
    "## 1.2. 2-D Array (or Matrix)\n",
    "\n",
    "The above variable `x` is a 1-D array, also known as a vector. We can also define a 2-D array, also known as a matrix. A 2-D array is essentially a collection of 1-D arrays (rows), stacked one after another. To define a 2-D array, you use `np.array()` with a list of lists, where each row is a list: `np.array([[row1], [row2], ...])` or a tuple of tuples, where each row is a tuple: `np.array(((row1), (row2), ...))`. The items within each row are separated by commas `,`, and the lists or tuples that enclose each row are also separated by commas `,`.\n",
    "\n",
    "**Examples:**\n",
    "\n",
    "```python\n",
    ">>> array1 = np.array([[1, 2, 3], [4, 5, 6]])   # Using nested lists\n",
    ">>> array2 = np.array(((1, 2, 3), (4, 5, 6)))   # Using nested tuples\n",
    "```\n",
    "\n",
    "<div class=\"alert alert-block alert-info\"> <b>TRY IT!</b> Create the following array and then check its type using <code>type()</code>: <br> <br> $y = \\begin{pmatrix} 1 & 4 & 3 \\\\ 9 & 2 & 7 \\\\ \\end{pmatrix}$ <br></div> "
   ]
  },
  {
   "cell_type": "code",
   "execution_count": 85,
   "id": "f00266f2",
   "metadata": {},
   "outputs": [
    {
     "data": {
      "text/plain": [
       "numpy.ndarray"
      ]
     },
     "execution_count": 85,
     "metadata": {},
     "output_type": "execute_result"
    }
   ],
   "source": [
    "y = np.array(((1, 4, 3), (9, 2, 7)))\n",
    "\n",
    "type(y)"
   ]
  },
  {
   "cell_type": "markdown",
   "id": "629e3df8",
   "metadata": {},
   "source": [
    "## 1.3. Array Attributes\n",
    "\n",
    "In NumPy, arrays have attributes that provide useful information about their shape, size, and dimensionality. These attributes help you understand the structure of the array and perform operations accordingly. Here are some of the common attributes:\n",
    "* [`array_name.shape`](https://numpy.org/doc/stable/reference/generated/numpy.ndarray.shape.html): returns the shape of `array_name`\n",
    "> returns a `tuple` with `(n_rows, n_columns)`, where the first element is the number of rows and the second element is the number of columns in the array\n",
    "\n",
    "* [`array_name.size`](https://numpy.org/doc/stable/reference/generated/numpy.ndarray.size.html#numpy.ndarray.size): returns the total number of elements in `array_name` \n",
    "> this is the number of rows times number of columns\n",
    "* [`array_name.ndim`](https://numpy.org/doc/stable/reference/generated/numpy.ndarray.ndim.html#numpy.ndarray.ndim): returns the number of dimensions of `array_name`\n",
    "> this indicates whether the array is 1-D, 2-D. etc.\n",
    "\n",
    "These are just a few of the attributes available for NumPy arrays. For a complete list, you can refer to the [official documentation](https://numpy.org/doc/stable/reference/generated/numpy.ndarray.html).\n",
    "\n",
    "<br>\n",
    "\n",
    "<center><figure>\n",
    "  <img src=\"https://docs.google.com/drawings/d/1vNr9OCNVuha4NLtoAi7udvnXe9mO-Lyhd9aBglaaz94/pub?w=1440&h=1080\" style=\"width:50%\">\n",
    "    <figcaption style=\"text-align:center\"><strong> <br> NumPy array attributes</strong></figcaption>   \n",
    "</figure></center>\n",
    "\n",
    "<br>\n",
    "\n",
    "<div class=\"alert alert-block alert-info\"> <b>TRY IT!</b> Get the dimension, shape, and size of array <code>y</code>.</div> "
   ]
  },
  {
   "cell_type": "code",
   "execution_count": 87,
   "id": "228d6a39",
   "metadata": {},
   "outputs": [
    {
     "data": {
      "text/plain": [
       "2"
      ]
     },
     "execution_count": 87,
     "metadata": {},
     "output_type": "execute_result"
    }
   ],
   "source": [
    "y.ndim"
   ]
  },
  {
   "cell_type": "code",
   "execution_count": 88,
   "id": "0e64ade8-6f8e-4bee-8338-f478a49258c4",
   "metadata": {},
   "outputs": [
    {
     "data": {
      "text/plain": [
       "(2, 3)"
      ]
     },
     "execution_count": 88,
     "metadata": {},
     "output_type": "execute_result"
    }
   ],
   "source": [
    "y.shape"
   ]
  },
  {
   "cell_type": "code",
   "execution_count": 89,
   "id": "1f544a56-1eeb-4f4a-a917-cbabadba8013",
   "metadata": {},
   "outputs": [
    {
     "data": {
      "text/plain": [
       "6"
      ]
     },
     "execution_count": 89,
     "metadata": {},
     "output_type": "execute_result"
    }
   ],
   "source": [
    "y.size"
   ]
  },
  {
   "cell_type": "markdown",
   "id": "fffdcbfc",
   "metadata": {},
   "source": [
    "<div class=\"alert alert-block alert-warning\"> <b>NOTE!</b> Notice that we used <code>y.shape</code> instead of <code>y.shape()</code>. This is because <code>shape</code> is an <strong>attribute</strong>, which is a value associated with an object. For now you need to remember that when we call an attribute on an object, we do not use parentheses. You can always try both and see which works!</div>\n",
    "\n",
    "## 1.4. Other Ways for Creating Arrays\n",
    "\n",
    "In addition to `np.array()`, NumPy provides several functions for creating arrays with specific patterns or sequences. For instance, if we want to create the array `z = [1, 2, 3, ..., 365]`, it would be very cumbersome to manually type each value from 1 through 365. Below, we introduce several functions for efficiently creating arrays that have a pattern.\n",
    "\n",
    "|           | `np.arange()`                                  | `np.linspace()`                                            |\n",
    "|:----------|:-----------------------------------------------|:-----------------------------------------------------------|\n",
    "| **Generates** | Evenly spaced values within a specified range  | Evenly spaced values within a specified range          |\n",
    "| **Arguments** | `start`: Start value (optional, default 0)     | `start`: Start value (required)                        |\n",
    "|           | `stop`: End value (required)                   | `stop`: End value (required)                               |\n",
    "|           | `step`: Increment (optional, default 1)        | `num`: Number of values to generate (optional, default 50) |\n",
    "| **End Value** | Exclusive                                    | Inclusive                                                |\n",
    "\n",
    "### 1.4.1. `np.arange()`\n",
    "\n",
    "For creating arrays with **evenly spaced values** within a specific range, where you know the increment between the values, it is useful to use the `np.arange()` function:\n",
    "\n",
    "```python\n",
    "np.arange(start, stop, step)\n",
    "```\n",
    "\n",
    "where:\n",
    "\n",
    "* `start`: a number specifying the start value of the array. This is an optional argument. If not specified, it defaults to 0.\n",
    "* `stop`: a number specifying the end value of the array (exclusive). This is a required argument.\n",
    "* `step`: a number specifying the increment in the values of the array (`step` $\\neq 0$). This is an optional argument. If not specified, it defaults to 1. The `step` can be positive or negative and the value in index `i` will simply be `start + step*i`\n",
    "\n",
    "The resulting array will include values from `start` up to, **but not including**, `stop`, with a spacing of `step` between each two values.\n",
    "\n",
    "<div class=\"alert alert-block alert-warning\"> <b>NOTE!</b> This should sound familiar. We have seen the <code>range()</code> function before. However, <code>range()</code> is used for integer sequences only, while <code>np.arange()</code> can take non-integer values as well. For integer arguments, the functions are roughly equivalent.</div>\n",
    "\n",
    "<div class=\"alert alert-block alert-info\"> <b>TRY IT!</b> Create an array with $[0.5, 1.0, 1.5, 2.0, ..., 6.0, 6.5]$. <br> &emsp;&emsp;&emsp;&ensp; Create an array with $[0, 1, 2, ..., 6]$.</div> "
   ]
  },
  {
   "cell_type": "code",
   "execution_count": 91,
   "id": "574b7153",
   "metadata": {},
   "outputs": [
    {
     "data": {
      "text/plain": [
       "array([0.5, 1. , 1.5, 2. , 2.5, 3. , 3.5, 4. , 4.5, 5. , 5.5, 6. , 6.5])"
      ]
     },
     "execution_count": 91,
     "metadata": {},
     "output_type": "execute_result"
    }
   ],
   "source": [
    "np.arange(0.5, 7, 0.5)"
   ]
  },
  {
   "cell_type": "markdown",
   "id": "421fd743",
   "metadata": {},
   "source": [
    "<div class=\"alert alert-block alert-info\"> <b>TRY IT!</b> Run the code below and change the values for start, stop, and step to check how they affect the array.</div> "
   ]
  },
  {
   "cell_type": "code",
   "execution_count": 93,
   "id": "c19dccb3",
   "metadata": {},
   "outputs": [
    {
     "data": {
      "application/vnd.jupyter.widget-view+json": {
       "model_id": "0ed25452030b480193e0c08a4351d5b9",
       "version_major": 2,
       "version_minor": 0
      },
      "text/plain": [
       "interactive(children=(IntSlider(value=0, description='start', min=-100), IntSlider(value=0, description='stop'…"
      ]
     },
     "metadata": {},
     "output_type": "display_data"
    }
   ],
   "source": [
    "import ipywidgets as widgets  # import ipywidgets package for interactive widgets\n",
    "\n",
    "# create 3 sliders for start, stop, and step\n",
    "@widgets.interact(start=(-100, 100), stop=(-100, 100), step=(-5, 10, 0.5))\n",
    "\n",
    "# define a function that takes the values from the sliders and returns the ndarray\n",
    "def arange(start, stop, step):\n",
    "    print(f'\\n >>> np.arange(start={start}, stop={stop}, step={step:.2f}) \\n')\n",
    "    print(np.arange(start, stop, step))\n",
    "    return"
   ]
  },
  {
   "cell_type": "markdown",
   "id": "e2bc64a2",
   "metadata": {},
   "source": [
    "### 1.4.2. `np.linspace()`\n",
    "\n",
    "For creating arrays with **evenly spaced values** within a specific range, where you know the total number of values, it is useful to use the `np.linspace()` function:\n",
    "\n",
    "```python\n",
    "np.linspace(start, stop, num)\n",
    "```\n",
    "\n",
    "where:\n",
    "\n",
    "* `start`: a number specifying the start value of the array. Here, this is a required argument.\n",
    "* `stop`: a number specifying the end value of the array (inclusive). This is a required argument.\n",
    "* `num`: an integer specifying the number of evenly spaced points to generate between `start` and `stop`, including `start` and `stop`. This is an optional argument. If not specified, it defaults to 50.\n",
    "\n",
    "The resulting array will include `num` values between `start` and `stop`, inclusive of both endpoints.\n",
    "\n",
    "<div class=\"alert alert-block alert-info\"> <b>TRY IT!</b> Create an array starting at 3, ending at 9, and containing 10 evenly spaced elements.</div> "
   ]
  },
  {
   "cell_type": "code",
   "execution_count": 95,
   "id": "761275e3",
   "metadata": {},
   "outputs": [
    {
     "data": {
      "text/plain": [
       "array([3., 4., 5., 6., 7., 8., 9.])"
      ]
     },
     "execution_count": 95,
     "metadata": {},
     "output_type": "execute_result"
    }
   ],
   "source": [
    "np.linspace(3, 9, 7)"
   ]
  },
  {
   "cell_type": "markdown",
   "id": "5c351730",
   "metadata": {},
   "source": [
    "<div class=\"alert alert-block alert-info\"> <b>TRY IT!</b> Run the code below and change the values for start, stop, and num to check how they affect the array.</div> "
   ]
  },
  {
   "cell_type": "code",
   "execution_count": 97,
   "id": "bc2264dc",
   "metadata": {},
   "outputs": [
    {
     "data": {
      "application/vnd.jupyter.widget-view+json": {
       "model_id": "5cd7e66d13be429186695de8535296c5",
       "version_major": 2,
       "version_minor": 0
      },
      "text/plain": [
       "interactive(children=(IntSlider(value=0, description='start', min=-100), IntSlider(value=0, description='stop'…"
      ]
     },
     "metadata": {},
     "output_type": "display_data"
    }
   ],
   "source": [
    "import ipywidgets as widgets  # import ipywidgets package for interactive widgets\n",
    "\n",
    "# create 3 sliders for start, stop, and step\n",
    "@widgets.interact(start=(-100, 100), stop=(-100, 100), num=(0, 100))\n",
    "\n",
    "# define a function that takes the values from the sliders and returns the ndarray\n",
    "def linspace(start, stop, num):\n",
    "    print(f'\\n >>> np.linspace(start={start}, stop={stop}, num={num}) \\n')\n",
    "    print(np.linspace(start, stop, num))\n",
    "    return"
   ]
  },
  {
   "cell_type": "markdown",
   "id": "86433cdb",
   "metadata": {},
   "source": [
    "### 1.4.3. Other Functions\n",
    "\n",
    "In addition to `np.arange()` and `np.linspace()`, NumPy provides several other functions for creating predefined arrays, which can be highly useful in various numerical computations. Three commonly used functions are:\n",
    "\n",
    "* `np.zeros(shape)`: Returns an array filled with zeros, with the specified shape.\n",
    "* `np.ones(shape)`: Returns an array filled with ones, with the specified shape.\n",
    "* `np.empty(shape)`: Returns an uninitialized array with the specified shape. The values in the array will be arbitrary and may vary.\n",
    "\n",
    "All of these functions take an input argument `shape`, which specifies the shape of the array. This should be of type `tuple` with `(n_rows, n_columns)`. If you only need a 1-D array, you can specify just one number instead of both the number of rows and number of columns.\n",
    "\n",
    "<div class=\"alert alert-block alert-warning\"> <b>NOTE!</b> When calling these functions to create 2-D arrays, make sure to include two sets of parentheses, one for the function itself and one for the <code>shape</code> argument: <code>np.zeros((n_rows, n_columns))</code>.</div>\n",
    "\n",
    "<div class=\"alert alert-block alert-info\"> <b>TRY IT!</b> Create a 3 by 5 array with all the elements as 0. <br> &emsp;&emsp;&emsp;&ensp; Create a 1-D empty array with 10 elements.</div> "
   ]
  },
  {
   "cell_type": "code",
   "execution_count": 99,
   "id": "3725b980",
   "metadata": {},
   "outputs": [
    {
     "data": {
      "text/plain": [
       "array([[0., 0., 0., 0., 0.],\n",
       "       [0., 0., 0., 0., 0.],\n",
       "       [0., 0., 0., 0., 0.]])"
      ]
     },
     "execution_count": 99,
     "metadata": {},
     "output_type": "execute_result"
    }
   ],
   "source": [
    "np.zeros((3, 5))"
   ]
  },
  {
   "cell_type": "code",
   "execution_count": 100,
   "id": "570d2045-2489-46b1-9434-ffcb35c89e74",
   "metadata": {},
   "outputs": [
    {
     "data": {
      "text/plain": [
       "array([6.23042070e-307, 4.67296746e-307, 1.69121096e-306, 7.56595733e-307,\n",
       "       1.24610723e-306, 1.42419938e-306, 7.56603881e-307, 8.45603440e-307,\n",
       "       4.45046008e-307, 2.37667058e-312])"
      ]
     },
     "execution_count": 100,
     "metadata": {},
     "output_type": "execute_result"
    }
   ],
   "source": [
    "np.empty(10)"
   ]
  },
  {
   "cell_type": "markdown",
   "id": "879dc0d8",
   "metadata": {},
   "source": [
    "<div class=\"alert alert-block alert-warning\"> <b>NOTE!</b> The empty array is not really empty, it is filled with random numbers.</div>\n",
    "\n",
    "There are other functions in NumPy for creating arrays. You can read about them in the [official documentation](https://numpy.org/doc/stable/reference/routines.array-creation.html).\n",
    "\n",
    "## 1.5. Membership Operators\n",
    "\n",
    "We can check whether a specific value is present in an array using the membership operators: `in` and `not in`.\n",
    "\n",
    "\n",
    "```python\n",
    "value in array_name\n",
    "value not in array_name\n",
    "```\n",
    "\n",
    "<div class=\"alert alert-block alert-info\"> <b>TRY IT!</b> Check if 0 is in an empty array with 10 rows and 10 columns.</div> "
   ]
  },
  {
   "cell_type": "code",
   "execution_count": 102,
   "id": "6f17c293",
   "metadata": {},
   "outputs": [
    {
     "data": {
      "text/plain": [
       "False"
      ]
     },
     "execution_count": 102,
     "metadata": {},
     "output_type": "execute_result"
    }
   ],
   "source": [
    "0 in np.empty((10, 10))"
   ]
  },
  {
   "cell_type": "code",
   "execution_count": 103,
   "id": "de203ac5-fe83-48e3-acfd-e725367d939c",
   "metadata": {},
   "outputs": [
    {
     "data": {
      "text/plain": [
       "array([[4.94065646e-324, 6.95286549e-310, 3.72525497e-321,\n",
       "                    nan, 1.29565751e-318, 1.15998412e-028,\n",
       "        5.28562262e+180, 5.56640274e+228, 3.06836156e+257,\n",
       "        6.32281399e+203],\n",
       "       [1.18687556e+266, 9.05570012e+164, 1.85413779e+150,\n",
       "        5.56661649e+228, 1.14489238e+243, 2.59903827e-144,\n",
       "        1.04914792e-153, 4.64757042e+151, 2.59903818e-144,\n",
       "        1.39554722e+228],\n",
       "       [1.85413779e+150, 4.71294511e+257, 2.88577677e+214,\n",
       "        3.30176813e+180, 3.69028917e+180, 5.31955820e+233,\n",
       "        5.03872123e+175, 6.07721476e+247, 1.07027274e+200,\n",
       "        2.88067937e+214],\n",
       "       [4.82337433e+228, 1.30388153e-076, 1.53179783e+262,\n",
       "        3.80985054e+180, 9.61987663e+228, 4.32268334e-096,\n",
       "        4.97620061e+151, 1.04716880e-142, 1.05996186e-153,\n",
       "        3.75923100e+199],\n",
       "       [2.93283351e+222, 1.15358086e+214, 2.41317590e+185,\n",
       "        1.06456327e-094, 1.14115712e+243, 7.54330344e-143,\n",
       "        1.05996186e-153, 6.02175030e+151, 2.93283352e+222,\n",
       "        3.43655782e+228],\n",
       "       [1.41722866e+190, 2.88577677e+214, 7.29529359e+175,\n",
       "        1.16367716e-028, 2.59045999e-144, 1.16293761e-028,\n",
       "        2.59045999e-144, 1.30083819e-142, 1.05996186e-153,\n",
       "        1.94921122e-153],\n",
       "       [9.62723615e+183, 2.02646850e+267, 1.06456327e-094,\n",
       "        1.10336683e+161, 4.52341208e+257, 8.80405133e+199,\n",
       "        4.74543632e+170, 1.16441573e-028, 2.59045999e-144,\n",
       "        9.79696205e+252],\n",
       "       [1.16540277e-028, 2.59045999e-144, 9.79696205e+252,\n",
       "        1.16442440e-028, 2.59045999e-144, 2.11335760e+214,\n",
       "        4.52341208e+257, 8.80405133e+199, 1.94920209e-153,\n",
       "        6.30930548e+188],\n",
       "       [1.20113910e-142, 1.05996186e-153, 5.28353303e+180,\n",
       "        1.10350999e+161, 2.93283351e+222, 1.23402561e+243,\n",
       "        2.21209561e+214, 4.26954135e+257, 4.52341208e+257,\n",
       "        8.80405133e+199],\n",
       "       [1.99914642e+161, 9.97725165e-143, 1.05996186e-153,\n",
       "        1.04596908e-142, 1.05996186e-153, 6.20762325e+276,\n",
       "        6.96413552e+252, 1.06456327e-094, 1.29468411e-311,\n",
       "        1.08750629e-311]])"
      ]
     },
     "execution_count": 103,
     "metadata": {},
     "output_type": "execute_result"
    }
   ],
   "source": [
    "np.empty((10, 10))"
   ]
  },
  {
   "cell_type": "markdown",
   "id": "c8a59d34",
   "metadata": {},
   "source": [
    "# 2. Indexing Arrays <a id=\"s2\"></a>\n",
    "\n",
    "Similar to built-in data structures (e.g., `list`, `tuple`), an `ndarray` has indexes to indicate the location of each element.\n",
    "\n",
    "Consider for example the following array: $x = \\begin{pmatrix}  -2 & 4 & 3 & 12\\\\ \\end{pmatrix}$\n",
    "\n",
    "<br>\n",
    "\n",
    "<center><figure>\n",
    "  <img src=\"https://docs.google.com/drawings/d/e/2PACX-1vSpHjTf3tUlTWKDpaCfoUcVC_O59_Q2LJfFW4tpHku465W1BLrUfHPyAJ0J2_0ZbQHXpzlpfmA0GJHB/pub?w=446&h=134\n",
    "\" style=\"width:30%\">\n",
    "    <figcaption style=\"text-align:center\"><strong> <br> Indexing elements in a 1-D NumPy array</strong></figcaption>   \n",
    "</figure></center>\n",
    "\n",
    "The concept of indexing in NumPy arrays is consistent with that of other data structures in Python, both for positive and negative indexing.\n",
    "\n",
    "## 2.1. Single Element Indexing\n",
    "\n",
    "In Python, we can access any value of a NumPy array using square brackets and the index of the desired element: `array_name[index]`\n",
    "\n",
    "Let's use $x = \\begin{pmatrix}  -2 & 4 & 3 & 12\\\\ \\end{pmatrix}$ as an example.\n",
    "\n",
    "<div class=\"alert alert-block alert-info\"> <b>TRY IT!</b> Get the first and second elements of <code>x</code> and add them. Repeat this using negative indexing.</div> "
   ]
  },
  {
   "cell_type": "code",
   "execution_count": 105,
   "id": "53502df8",
   "metadata": {},
   "outputs": [
    {
     "name": "stdout",
     "output_type": "stream",
     "text": [
      "2\n",
      "2\n"
     ]
    }
   ],
   "source": [
    "# using positive indexing\n",
    "print(x[0] + x[1])\n",
    "\n",
    "# using negative indexing\n",
    "print(x[-4] + x[-3])"
   ]
  },
  {
   "cell_type": "markdown",
   "id": "a5a3b4bc",
   "metadata": {},
   "source": [
    "For 2-D arrays, indexing is slightly different, since we have rows and columns. To index a 2-D array, we need to indicate the index of the row and the column, separated by a comma, using: `array_name[row_index, column_index]`. Think of 2-D arrays like a table with rows and columns, as shown in the illustration below. If you only think about the row index or the column index, then it is similar to a 1-D array. Negative indexing also works with 2-D arrays, similar to 1-D arrays.\n",
    "\n",
    "<br>\n",
    "\n",
    "<center><figure>\n",
    "  <img src=\"https://docs.google.com/drawings/d/e/2PACX-1vSJpIGPqprNzpn7yNRyUR0rKEgBWtzVLcnp6Xs9T-9wRup9RNO7-D-uOQe7NRrWTYKxZSZqLTjEEnq5/pub?w=928&h=323\n",
    "\" style=\"width:70%\">\n",
    "    <figcaption style=\"text-align:center\"><strong>Indexing elements in a 2-D NumPy array</strong></figcaption>   \n",
    "</figure></center>\n",
    "\n",
    "Let's use $y = \\begin{pmatrix} 1 & 4 & 3 \\\\ 9 & 2 & 7 \\\\ \\end{pmatrix}$ as an example.\n",
    "\n",
    "<div class=\"alert alert-block alert-info\"> <b>TRY IT!</b> Using negative indexing, get the element at the last row and last column of <code>y</code>.</div> "
   ]
  },
  {
   "cell_type": "code",
   "execution_count": 107,
   "id": "316d559b",
   "metadata": {
    "scrolled": true
   },
   "outputs": [
    {
     "data": {
      "text/plain": [
       "7"
      ]
     },
     "execution_count": 107,
     "metadata": {},
     "output_type": "execute_result"
    }
   ],
   "source": [
    "y[-1, -1]"
   ]
  },
  {
   "cell_type": "markdown",
   "id": "5dcd2c9f",
   "metadata": {},
   "source": [
    "## 2.2. Slicing\n",
    "\n",
    "We can also access a sequence of elements from a NumPy array using slicing, similar to other data structures.\n",
    "\n",
    "In general, the syntax for slicing in Python is `array_name[start:end:step]`, where:\n",
    "* `start`: an integer specifying the starting index (included). If `start` is not specified, slicing will start from index 0 (first position).\n",
    "* `end`: an integer specifying the ending index (excluded). If `end` is not specified, slicing will end at the last index.\n",
    "* `step`: an integer specifying the step between the indexes. If `step` is not specified, the result will be equivalent to using `step = 1`. If `step` is specified, the result will be elements with the following indexes: \n",
    "\n",
    "$$[\\text{start, start + step, start + 2 $\\times$ step, ...}]$$\n",
    "\n",
    "When slicing in Python, the **upper-bound is exclusive**, which means that `array_name[1:3]` actually takes a slice from indexes 1 $\\rightarrow$ 2 instead of 1 $\\rightarrow$ 3. \n",
    "\n",
    "Let's use $w = \\begin{pmatrix}0 & 1 & 2 & 3 & 4 & 5 & ... & 98 & 99 & 100\\\\\\end{pmatrix}$ as an example.\n",
    "\n",
    "<div class=\"alert alert-block alert-info\"> <b>TRY IT!</b> Run the code below and change the values for start, end, and step to check how they affect slicing.</div> "
   ]
  },
  {
   "cell_type": "code",
   "execution_count": 109,
   "id": "c8ed7fa9",
   "metadata": {},
   "outputs": [
    {
     "data": {
      "application/vnd.jupyter.widget-view+json": {
       "model_id": "faaf34c89dce4005a359a0155123fba1",
       "version_major": 2,
       "version_minor": 0
      },
      "text/plain": [
       "interactive(children=(IntSlider(value=50, description='start', max=101), IntSlider(value=50, description='end'…"
      ]
     },
     "metadata": {},
     "output_type": "display_data"
    }
   ],
   "source": [
    "import ipywidgets as widgets  # import ipywidgets package for interactive widgets\n",
    "\n",
    "# create array w\n",
    "w = np.arange(0, 101, 1)\n",
    "\n",
    "# create 3 sliders for start, end, and step\n",
    "@widgets.interact(start=(0,101), end=(0,101), step=(1,10))\n",
    "\n",
    "# define a function that takes the values from the sliders and slices w\n",
    "def slicing(start, end, step):\n",
    "    print(f'\\n >>> w[{start}:{end}:{step}] \\n')\n",
    "    print(w[start:end:step])\n",
    "    return"
   ]
  },
  {
   "cell_type": "markdown",
   "id": "82bbd1e8",
   "metadata": {},
   "source": [
    "<div class=\"alert alert-block alert-info\"> <b>TRY IT!</b> Check the outputs of <code>w[:10]</code>, <code>w[:]</code>, and <code>w[::2]</code>.</div> "
   ]
  },
  {
   "cell_type": "code",
   "execution_count": 111,
   "id": "bade238e",
   "metadata": {},
   "outputs": [
    {
     "name": "stdout",
     "output_type": "stream",
     "text": [
      "[0 1 2 3 4 5 6 7 8 9]\n",
      "[  0   1   2   3   4   5   6   7   8   9  10  11  12  13  14  15  16  17\n",
      "  18  19  20  21  22  23  24  25  26  27  28  29  30  31  32  33  34  35\n",
      "  36  37  38  39  40  41  42  43  44  45  46  47  48  49  50  51  52  53\n",
      "  54  55  56  57  58  59  60  61  62  63  64  65  66  67  68  69  70  71\n",
      "  72  73  74  75  76  77  78  79  80  81  82  83  84  85  86  87  88  89\n",
      "  90  91  92  93  94  95  96  97  98  99 100]\n",
      "[  0   2   4   6   8  10  12  14  16  18  20  22  24  26  28  30  32  34\n",
      "  36  38  40  42  44  46  48  50  52  54  56  58  60  62  64  66  68  70\n",
      "  72  74  76  78  80  82  84  86  88  90  92  94  96  98 100]\n"
     ]
    }
   ],
   "source": [
    "# elements from index 0 (included) to 10 (excluded, so index 9, which is 10-1)\n",
    "print(w[:10]) \n",
    "\n",
    "# the whole array, equivalent to [0:101:1] in this case\n",
    "print(w[:]) \n",
    "\n",
    "# every other element starting from the beginning, equivalent to [0:101:2] in this case\n",
    "print(w[::2]) "
   ]
  },
  {
   "cell_type": "markdown",
   "id": "18e373b5",
   "metadata": {},
   "source": [
    "You can also use negative indexes when slicing, similar to lists and tuples.\n",
    "\n",
    "Let's use $w = \\begin{pmatrix}0 & 1 & 2 & 3 & 4 & 5 & ... & 98 & 99 & 100\\\\\\end{pmatrix}$ as an example.\n",
    "\n",
    "```python\n",
    "In [2]: w[:-1]\n",
    "Out[2]: [ 0  1 2 3 4 ... 99]       \n",
    "```\n",
    "\n",
    "<div class=\"alert alert-block alert-info\"> <b>TRY IT!</b> Run the code below and change the values for start, end, and step to check how they affect slicing.</div> "
   ]
  },
  {
   "cell_type": "code",
   "execution_count": 113,
   "id": "5d477d00",
   "metadata": {},
   "outputs": [
    {
     "data": {
      "application/vnd.jupyter.widget-view+json": {
       "model_id": "fc7bf7e72fcf46c6aa8e16800589ed4d",
       "version_major": 2,
       "version_minor": 0
      },
      "text/plain": [
       "interactive(children=(IntSlider(value=-52, description='start', max=-1, min=-102), IntSlider(value=-52, descri…"
      ]
     },
     "metadata": {},
     "output_type": "display_data"
    }
   ],
   "source": [
    "import ipywidgets as widgets  # import ipywidgets package for interactive widgets\n",
    "\n",
    "# create array w\n",
    "w = np.arange(0, 101, 1)\n",
    "\n",
    "# create 3 sliders for start, end, and step\n",
    "@widgets.interact(start=(-102,-1), end=(-102,-1), step=(-10,2))\n",
    "\n",
    "# define a function that takes the values from the sliders and slices w\n",
    "def slicing(start, end, step):\n",
    "    print(f'\\n >>> w[{start}:{end}:{step}] \\n')\n",
    "    print(w[start:end:step])\n",
    "    return"
   ]
  },
  {
   "cell_type": "markdown",
   "id": "d29507f4",
   "metadata": {},
   "source": [
    "Slicing also works with 2-D arrays. If you only think about the row slicing or the column slicing, then each is similar to a 1-D array.\n",
    "\n",
    "The general syntax for slicing a 2-D array is `array_name[start_row:end_row:step_row, start_col:end_col:step_col]`, where:\n",
    "* `start_row`: The starting index for rows (inclusive).\n",
    "* `end_row`: The ending index for rows (exclusive).\n",
    "* `step_row`: The step size for rows.\n",
    "* `start_col`: The starting index for columns (inclusive).\n",
    "* `end_col`: The ending index for columns (exclusive).\n",
    "* `step_col`: The step size for columns.\n",
    "\n",
    "If `start`, `end`, or `step` are not specified, they default to 0, the size of the dimension, and 1, respectively.\n",
    "\n",
    "Let's use $y = \\begin{pmatrix} 1 & 4 & 3 \\\\ 9 & 2 & 7 \\\\ \\end{pmatrix}$ as an example.\n",
    "\n",
    "<div class=\"alert alert-block alert-info\"> <b>TRY IT!</b> Get the first and third columns of <code>y</code>.</div> "
   ]
  },
  {
   "cell_type": "code",
   "execution_count": 115,
   "id": "50ba2d9d",
   "metadata": {},
   "outputs": [
    {
     "data": {
      "text/plain": [
       "array([[1, 3],\n",
       "       [9, 7]])"
      ]
     },
     "execution_count": 115,
     "metadata": {},
     "output_type": "execute_result"
    }
   ],
   "source": [
    "y[:, ::2]"
   ]
  },
  {
   "cell_type": "markdown",
   "id": "5050bfad",
   "metadata": {},
   "source": [
    "## 2.3. Mutating an Array\n",
    "\n",
    "NumPy arrays are **mutable**, which means that their contents **can** be modified.\n",
    "\n",
    "You can use single element indexing and the assignment operator to modify a value of an array. You can also reassign multiple elements of an array to a single value using slicing, or alternatively, to multiple values as long as both the shape of the elements being assigned and the shape of the elements assigned are the same.  \n",
    "\n",
    "**Examples:**\n",
    "\n",
    "```python\n",
    ">>> array = np.arange(1,6)\n",
    ">>> print(array)\n",
    "\n",
    "[1 2 3 4 5]\n",
    "\n",
    ">>> array[1] = 10              # single element modification\n",
    ">>> print(array)\n",
    "\n",
    "[ 1 10  3  4  5]\n",
    "\n",
    ">>> array[1:3] = 10            # multiple element modification to a single element\n",
    ">>> print(array)\n",
    "\n",
    "[ 1 10 10  4  5]\n",
    "\n",
    ">>> array[1:3] = [-1, 0]       # multiple element modification to multiple elements\n",
    ">>> print(array)\n",
    "\n",
    "[ 1 -1  0  4  5]\n",
    "```\n",
    "\n",
    "Let's use $x = \\begin{pmatrix}  -2 & 4 & 3 & 12\\\\ \\end{pmatrix}$ as an example.\n",
    "\n",
    "<div class=\"alert alert-block alert-info\"> <b>TRY IT!</b> Reassign the second element of <code>x</code> to 25.<br> &emsp;&emsp;&emsp;&ensp; Reassign the first and second elements of <code>x</code> to 19.<br> &emsp;&emsp;&emsp;&ensp; Reassign the second and fourth elements of <code>x</code> to 5 and 7, respectively.</div> "
   ]
  },
  {
   "cell_type": "code",
   "execution_count": 117,
   "id": "f8f28441",
   "metadata": {},
   "outputs": [
    {
     "name": "stdout",
     "output_type": "stream",
     "text": [
      "[-2 25  3 12]\n",
      "[19 19  3 12]\n",
      "[19  5  3  7]\n"
     ]
    }
   ],
   "source": [
    "x = np.array([-2, 4, 3, 12])\n",
    "\n",
    "# reassign a single element to a single value\n",
    "x[1] = 25\n",
    "print(x)\n",
    "\n",
    "# reassign multiple elements to a single value\n",
    "x[:2] = 19\n",
    "print(x)\n",
    "\n",
    "# reassign multiple elements to a multiple values\n",
    "x[1::2] = [5, 7]\n",
    "print(x)"
   ]
  },
  {
   "cell_type": "markdown",
   "id": "7a5a48dd",
   "metadata": {},
   "source": [
    "# 3. Manipulating Arrays <a id=\"s3\"></a>\n",
    "\n",
    "Although reassigning values of an array can be helpful, this cannot be used to grow the array (i.e., add a new element to the array). NumPy provides several functions that can be used to manipulate arrays efficiently. \n",
    "\n",
    "## 3.1. Adding and Removing Elements\n",
    "\n",
    "There are different functions that can be used to add or remove elements from an array, including:\n",
    "\n",
    "* [`np.append(array, values)`](https://numpy.org/doc/stable/reference/generated/numpy.append.html#numpy.append): Append `values` to the end of `array`, where `values` can be a single value or array-like.\n",
    "\n",
    "* [`np.insert(array, ind, values)`](https://numpy.org/doc/stable/reference/generated/numpy.insert.html#numpy.insert): Insert `values` into `array` before index(es) `ind`. Both `values` and `ind` can be a single value or array-like.\n",
    "\n",
    "* [`np.delete(array, ind)`](https://numpy.org/doc/stable/reference/generated/numpy.delete.html#numpy.delete): Delete element(s) from `array` with index(es) `ind`, which can be a single value or array-like.\n",
    "\n",
    "* [`np.unique(array)`](https://numpy.org/doc/stable/reference/generated/numpy.unique.html#numpy.unique): Find the unique elements of `array` and return them in sorted order.\n",
    "\n",
    "<div class=\"alert alert-block alert-warning\"> <b>NOTE!</b> These functions will not automatically change the array. To change the array, you have to reassign it: <code>array = np.append(array, values)</code>.</div>\n",
    "\n",
    "| `input`      | Function                   |  Output            |\n",
    "| :----------: | :------------------------- | :----------------- |\n",
    "| 😎😂🤩😎🤔 | `np.append(input, 🎉)`    | 😎😂🤩😎🤔🎉    |\n",
    "| 😎😂🤩😎🤔 | `np.insert(input, 1, 🎉)` | 😎🎉😂🤩😎🤔    |\n",
    "| 😎😂🤩😎🤔 | `np.delete(input, 1)`     | 😎🤩😎🤔         |\n",
    "| 😎😂🤩😎🤔 | `np.unique(input)`        | 😎😂🤩🤔         |\n",
    "\n",
    "Let's use $x = \\begin{pmatrix}  -2 & 4 & 3 & 12\\\\ \\end{pmatrix}$ as an example.\n",
    "\n",
    "<div class=\"alert alert-block alert-info\"> <b>TRY IT!</b> Append the value 1 to the end of <code>x</code>.<br> &emsp;&emsp;&emsp;&ensp; Insert the values 8 and 9 before the first element of <code>x</code>.</div> "
   ]
  },
  {
   "cell_type": "code",
   "execution_count": 119,
   "id": "2be1429b",
   "metadata": {},
   "outputs": [
    {
     "name": "stdout",
     "output_type": "stream",
     "text": [
      "Ellipsis\n",
      "Ellipsis\n",
      "[-2  4  3 12]\n"
     ]
    }
   ],
   "source": [
    "x = np.array([-2, 4, 3, 12])\n",
    "\n",
    "# append\n",
    "print(...)\n",
    "\n",
    "# insert\n",
    "print(...)\n",
    "\n",
    "# x remains unchanged\n",
    "print(x)"
   ]
  },
  {
   "cell_type": "markdown",
   "id": "434e2538",
   "metadata": {},
   "source": [
    "## 3.2. Concatenating and Splitting Arrays\n",
    "\n",
    "In addition to manipulating single arrays, NumPy also provides functions to combine multiple arrays into one and to split a single array into multiple arrays. Some of these functions include:\n",
    "\n",
    "* [`np.concatenate((array1, array2,...))`](https://numpy.org/doc/stable/reference/generated/numpy.concatenate.html#numpy.concatenate): Concatenate (join) two or more arrays of the same shape.\n",
    "\n",
    "* [`np.split(array, ind_or_sections)`](https://numpy.org/doc/stable/reference/generated/numpy.split.html#numpy.split): Split `array` into multiple sub-arrays. If `ind_or_sections` is an integer, N, the array will be divided into N equal arrays along axis. If `ind_or_sections` is a 1-D array of sorted integers, the entries indicate the indexes at which the split will be performed.\n",
    "\n",
    "<br>\n",
    "\n",
    "<center><figure>\n",
    "  <img src=\"https://docs.google.com/drawings/d/1I4O9hdVlt2xGRmrCsFtFsMNM7QYtO6QuDJZ87CTRBDc/pub?w=1440&h=1080\" style=\"width:75%\">\n",
    "    <figcaption style=\"text-align:center\"><strong> <br> Concatenate examples</strong></figcaption>   \n",
    "</figure></center>\n",
    "\n",
    "<br>\n",
    "\n",
    "***\n",
    "\n",
    "<br>\n",
    "\n",
    "<center><figure>\n",
    "  <img src=\"https://docs.google.com/drawings/d/1WTiwIO8lGrKc2J3zwlOqaIQ5qPBs138QYQCF2hUNK58/pub?w=1440&h=1080\" style=\"width:70%\">\n",
    "    <figcaption style=\"text-align:center\"><strong> <br> Split examples</strong></figcaption>   \n",
    "</figure></center>\n",
    "\n",
    "<br>\n",
    "\n",
    "Let's use $x = \\begin{pmatrix}  -2 & 4 & 3 & 12\\\\ \\end{pmatrix}$ and $v = \\begin{pmatrix}  13 & 4 & 5 & 2\\\\ \\end{pmatrix}$ as an example.\n",
    "\n",
    "<div class=\"alert alert-block alert-info\"> <b>TRY IT!</b> Concatenate <code>x</code> and <code>v</code>.<br> &emsp;&emsp;&emsp;&ensp; Split <code>x</code> into two sub-arrays.</div> "
   ]
  },
  {
   "cell_type": "code",
   "execution_count": 165,
   "id": "193bd9d0",
   "metadata": {},
   "outputs": [
    {
     "name": "stdout",
     "output_type": "stream",
     "text": [
      "[-2  4  3 12 13  4  5  2]\n",
      "[array([-2,  4]), array([ 3, 12])]\n"
     ]
    }
   ],
   "source": [
    "x = np.array([-2, 4, 3, 12])\n",
    "v = np.array([13, 4, 5, 2])\n",
    "\n",
    "# concatenate\n",
    "print(np.concatenate((x, v)))\n",
    "# split\n",
    "print(np.split(x, 2))"
   ]
  },
  {
   "cell_type": "code",
   "execution_count": 183,
   "id": "f57c2c76-c157-4e0c-ba17-cbf8f7f7e1e4",
   "metadata": {},
   "outputs": [],
   "source": [
    "a, b = np.split(x, 2)"
   ]
  },
  {
   "cell_type": "code",
   "execution_count": 185,
   "id": "61602d96-c467-4ade-a125-cfbc71cf3bf3",
   "metadata": {},
   "outputs": [
    {
     "data": {
      "text/plain": [
       "array([-2,  4])"
      ]
     },
     "execution_count": 185,
     "metadata": {},
     "output_type": "execute_result"
    }
   ],
   "source": [
    "a"
   ]
  },
  {
   "cell_type": "code",
   "execution_count": 187,
   "id": "70fd56e7-41b1-4251-a5a3-e9501e0c0419",
   "metadata": {},
   "outputs": [
    {
     "name": "stdout",
     "output_type": "stream",
     "text": [
      "[[-2  4  3 12]\n",
      " [13  4  5  2]]\n"
     ]
    }
   ],
   "source": [
    "x = np.array([-2, 4, 3, 12])\n",
    "v = np.array([13, 4, 5, 2])\n",
    "\n",
    "print(np.vstack((x, v)))"
   ]
  },
  {
   "cell_type": "markdown",
   "id": "49a995d9",
   "metadata": {},
   "source": [
    "There are other functions in NumPy for manipulating arrays. You can read about them in the [official documentation](https://numpy.org/doc/stable/reference/routines.array-manipulation.html#array-manipulation-routines).\n",
    "\n",
    "# 4. Array Methods <a id=\"s4\"></a>\n",
    "\n",
    "NumPy arrays have many methods, which manipulate its data or perform actions on an array. Some of the common methods are:\n",
    "* [`array_name.cumsum()`](https://numpy.org/doc/stable/reference/generated/numpy.ndarray.cumsum.html#numpy.ndarray.cumsum): returns the cumulative sum of the array elements along the given axis\n",
    "* [`array_name.max()`](https://numpy.org/doc/stable/reference/generated/numpy.ndarray.max.html): returns the maximum of the array elements along the given axis\n",
    "* [`array_name.mean()`](https://numpy.org/doc/stable/reference/generated/numpy.ndarray.mean.html): returns the average of the array elements along the given axis\n",
    "* [`array_name.min()`](https://numpy.org/doc/stable/reference/generated/numpy.ndarray.min.html#numpy.ndarray.min): returns the minimum of the array elements along the given axis\n",
    "* [`array_name.sort()`](https://numpy.org/doc/stable/reference/generated/numpy.ndarray.html): sorts the array elements\n",
    "* [`array_name.sum()`](https://numpy.org/doc/stable/reference/generated/numpy.ndarray.sum.html): returns the sum of the array elements along the given axis\n",
    "\n",
    "There are other methods in NumPy for manipulating and performing actions on arrays. You can read about them in the [official documentation](https://numpy.org/doc/stable/reference/generated/numpy.ndarray.html).\n",
    "\n",
    "Let's use $x = \\begin{pmatrix}  -2 & 4 & 3 & 12\\\\ \\end{pmatrix}$ as an example.\n",
    "\n",
    "<div class=\"alert alert-block alert-info\"> <b>TRY IT!</b> Get the mean of <code>x</code>.<br> &emsp;&emsp;&emsp;&ensp; Get the sum of <code>x</code>.</div> "
   ]
  },
  {
   "cell_type": "code",
   "execution_count": 123,
   "id": "7db692fe",
   "metadata": {},
   "outputs": [
    {
     "data": {
      "text/plain": [
       "17"
      ]
     },
     "execution_count": 123,
     "metadata": {},
     "output_type": "execute_result"
    }
   ],
   "source": [
    "x = np.array([-2, 4, 3, 12])\n",
    "\n",
    "# mean\n",
    "x.mean()\n",
    "# sum\n",
    "x.sum()"
   ]
  },
  {
   "cell_type": "markdown",
   "id": "143030b5",
   "metadata": {},
   "source": [
    "<div class=\"alert alert-block alert-warning\"> <b>NOTE!</b> Notice that we used <code>x.sum()</code> instead of <code>x.sum</code>. This is because <code>sum</code> is a <strong>method</strong>, which is a function associated with an object. For now you need to remember that when we call a method on an object, we need to use parentheses. You can always try both and see which works!</div>\n",
    "\n",
    "# 5. Arithmetic and Comparison Operations <a id=\"s5\"></a>\n",
    "\n",
    "Some of the arithmetic and comparison operators we have used on scalar objects can also be used on arrays. These arithmetic and comparison operations behave differently compared to Python lists or tuples.\n",
    "\n",
    "## 5.1. Arithmetic Operations\n",
    "\n",
    "Basic arithmetic is defined for arrays. However, there are operations between a scalar (a single number) and an array and operations between two arrays. We will start with operations between a scalar and an array. To illustrate, let $c$ be a scalar, and $A$ be an array.\n",
    "\n",
    "* `A + c`: adds $c$ to every element of $A$ \n",
    "* `A − c`: subtracts $c$ from every element of $A$\n",
    "* `A * c`: multiplies every element of $A$ by $c$\n",
    "* `A / c`: divides every element of $A$ by $c$\n",
    "* `A ** c`: raises every element of $A$ to the power $c$\n",
    "\n",
    "These apply to 1-D and 2-D arrays.\n",
    "\n",
    "Let's use $y = \\begin{pmatrix} 1 & 4 & 3 \\\\ 9 & 2 & 7 \\\\ \\end{pmatrix}$ as an example.\n",
    "\n",
    "<div class=\"alert alert-block alert-info\"> <b>TRY IT!</b> Square the values of <code>y</code>.</div> "
   ]
  },
  {
   "cell_type": "code",
   "execution_count": 125,
   "id": "bd69b1cf",
   "metadata": {},
   "outputs": [
    {
     "name": "stdout",
     "output_type": "stream",
     "text": [
      "[[ 1 16  9]\n",
      " [81  4 49]]\n",
      "[[1 4 3]\n",
      " [9 2 7]]\n"
     ]
    }
   ],
   "source": [
    "# y squared\n",
    "print(y ** 2)\n",
    "# y remains unchanged\n",
    "print(y)"
   ]
  },
  {
   "cell_type": "markdown",
   "id": "46093f9b",
   "metadata": {},
   "source": [
    "<div class=\"alert alert-block alert-warning\"> <b>NOTE!</b> We did not reassign <code>y</code> when doing the above operation (we did not, for example, use <code>y = y ** 2</code>). Therefore, <code>y</code> remains unchanged.</div>\n",
    "\n",
    "We can also perform operations between two or more arrays. Let $A1$ and $A2$ be two arrays of the **same shape**.\n",
    "* `A1 + A2`: takes every element of $A1$ and add it to the corresponding element of $A2$ in the same index\n",
    "* `A1 - A2`: takes every element of $A2$ and subtracts it from the corresponding element of $A1$ in the same index\n",
    "* `A1 * A2`: takes every element of $A1$ and multiplies it by the corresponding element of $A2$ in the same index\n",
    "* `A1 / A2`: takes every element of $A1$ and divides it by the corresponding element of $A2$ in the same index\n",
    "* `A1 ** A2`: takes every element of $A1$ and raises it to the power the corresponding element of $A2$ in the same index\n",
    "\n",
    "<div class=\"alert alert-block alert-warning\"> <b>NOTE!</b> If you have taken linear algebra, you will notice that <code>A1 * A2</code> is different from that standard array multiplication. Standard array multiplication will be described in a later chapter. The operations above are known as element-by-element operations.</div>\n",
    "\n",
    "Let's use $y = \\begin{pmatrix} 1 & 4 & 3 \\\\ 9 & 2 & 7 \\\\ \\end{pmatrix}$ and $z = \\begin{pmatrix} 1 & 2 & 3 \\\\ 4 & 5 & 6 \\\\ \\end{pmatrix}$ as an example.\n",
    "\n",
    "<div class=\"alert alert-block alert-info\"> <b>TRY IT!</b> Perform element-by-element multiplication between <code>y</code> and <code>z</code>.</div> "
   ]
  },
  {
   "cell_type": "code",
   "execution_count": 127,
   "id": "8b6479d2",
   "metadata": {},
   "outputs": [
    {
     "data": {
      "text/plain": [
       "array([[ 1,  8,  9],\n",
       "       [36, 10, 42]])"
      ]
     },
     "execution_count": 127,
     "metadata": {},
     "output_type": "execute_result"
    }
   ],
   "source": [
    "y = np.array([[1, 4, 3], [9, 2, 7]])\n",
    "z = np.array([[1, 2, 3], [4, 5, 6]])\n",
    "\n",
    "# element-by-element multiplication\n",
    "y * z"
   ]
  },
  {
   "cell_type": "markdown",
   "id": "b7f53e91",
   "metadata": {},
   "source": [
    "NumPy has many mathematical functions, such as `np.sin()`, `np.cos()`, etc., that can take arrays as input arguments. The output is an array that includes the outputs of the function evaluated for every element of the input array. A list of mathematical funcitons in NumPy can be found in the [official documentation](https://numpy.org/doc/stable/reference/routines.math.html).\n",
    "\n",
    "<div class=\"alert alert-block alert-warning\"> <b>NOTE!</b> While many of these functions are similar to those available in the <code>math</code> module, you cannot use the functions from <code>math</code> directly on NumPy arrays. Instead, you should use the equivalent functions available in the NumPy module.</div>\n",
    "\n",
    "Let's use $y = \\begin{pmatrix} 1 & 4 & 3 \\\\ 9 & 2 & 7 \\\\ \\end{pmatrix}$ as an example.\n",
    "\n",
    "<div class=\"alert alert-block alert-info\"> <b>TRY IT!</b> Compute the square root of <code>y</code> using <code>np.sqrt()</code>.</div> "
   ]
  },
  {
   "cell_type": "code",
   "execution_count": 129,
   "id": "659f7963",
   "metadata": {
    "scrolled": true
   },
   "outputs": [
    {
     "data": {
      "text/plain": [
       "array([[1.        , 2.        , 1.73205081],\n",
       "       [3.        , 1.41421356, 2.64575131]])"
      ]
     },
     "execution_count": 129,
     "metadata": {},
     "output_type": "execute_result"
    }
   ],
   "source": [
    "np.sqrt(y)"
   ]
  },
  {
   "cell_type": "markdown",
   "id": "dd8a45ff",
   "metadata": {},
   "source": [
    "## 5.2. Comparison Operations\n",
    "\n",
    "Logical expressions can be applied to arrays in NumPy, allowing for comparisons between elements within arrays or between arrays and scalars.\n",
    "\n",
    "### 5.2.1. Comparisons Between a Scalar and an Array\n",
    "\n",
    "When comparing a scalar to an array, the comparison is performed between the scalar and **each element** of the array. The output will be an array of the same shape as the original array, containing `True` or `False` based on the result of the comparison.\n",
    "\n",
    "### 5.2.2. Comparisons Between Two Arrays\n",
    "\n",
    "When comparing two arrays of the **same shape**, the comparison is conducted element-wise (i.e., **element-by-element**). The output will be an array of the same shape as the original arrays, containing `True` or `False` based on the result of the comparison for each corresponding pair of elements.\n",
    "\n",
    "Let's use $y = \\begin{pmatrix} 1 & 4 & 3 \\\\ 9 & 2 & 7 \\\\ \\end{pmatrix}$ and $z = \\begin{pmatrix} 1 & 2 & 3 \\\\ 4 & 5 & 6 \\\\ \\end{pmatrix}$ as an example.\n",
    "\n",
    "<div class=\"alert alert-block alert-info\"> <b>TRY IT!</b> Check which elements of <code>y</code> are greater than 3. Check which elements of <code>y</code> are equal to the corresponding element of <code>z</code>.</div> "
   ]
  },
  {
   "cell_type": "code",
   "execution_count": 81,
   "id": "20f413e9",
   "metadata": {
    "scrolled": true
   },
   "outputs": [
    {
     "data": {
      "text/plain": [
       "array([[ True, False,  True],\n",
       "       [False, False, False]])"
      ]
     },
     "execution_count": 81,
     "metadata": {},
     "output_type": "execute_result"
    }
   ],
   "source": [
    "# greater than 3\n",
    "y > 3\n",
    "# equal to z\n",
    "y == z"
   ]
  },
  {
   "cell_type": "markdown",
   "id": "f1b33ba5",
   "metadata": {},
   "source": [
    "### 5.2.3. Logical Operators\n",
    "\n",
    "The standard logical operators `and` and `or` are not directly applicable to NumPy arrays. Attempting to use these operators directly with arrays will raise an error.\n",
    "\n",
    "To perform element-wise logical AND and OR operations between two arrays, you should use NumPy's specialized logical functions:\n",
    "\n",
    "* `np.logical_and(expression1, expression2)`: Performs element-wise logical AND operation between corresponding elements of `expression1` and `expression2`.\n",
    "* `np.logical_or(expression1, expression2)`: Performs element-wise logical OR operation between corresponding elements of `expression1` and `expression2`.\n",
    "\n",
    "### 5.2.4. Indexing Elements Based on Logical Expressions\n",
    "\n",
    "Python allows indexing elements of an array based on logical expressions, which is particularly useful for extracting specific elements that satisfy certain conditions. Instead of giving the values of the indexes, a logical expression can be used directly to filter the elements of the array.\n",
    "\n",
    "Let's use $y = \\begin{pmatrix} 1 & 4 & 3 \\\\ 9 & 2 & 7 \\\\ \\end{pmatrix}$ as an example.\n",
    "\n",
    "<div class=\"alert alert-block alert-info\"> <b>TRY IT!</b> Create a new array that contains all the elements of <code>y</code> that are strictly greater than 3.<br> &emsp;&emsp;&emsp;&ensp; Assign all the values of <code>y</code> that are greater than 3 the value 0.</div> "
   ]
  },
  {
   "cell_type": "code",
   "execution_count": 171,
   "id": "571ed806",
   "metadata": {},
   "outputs": [
    {
     "name": "stdout",
     "output_type": "stream",
     "text": [
      "[4 9 7]\n",
      "[[1 0 3]\n",
      " [0 2 0]]\n"
     ]
    }
   ],
   "source": [
    "y = np.array([[1, 4, 3], [9, 2, 7]])\n",
    "\n",
    "# new array\n",
    "print(y[y > 3])\n",
    "# indexing with logical expression\n",
    "y[y>3] = 0\n",
    "print(y)"
   ]
  },
  {
   "cell_type": "code",
   "execution_count": 177,
   "id": "3fbf8546-0452-4435-98e3-c6bfe7624ae2",
   "metadata": {},
   "outputs": [
    {
     "data": {
      "text/plain": [
       "array([[False,  True, False],\n",
       "       [ True, False,  True]])"
      ]
     },
     "execution_count": 177,
     "metadata": {},
     "output_type": "execute_result"
    }
   ],
   "source": [
    "y > 3"
   ]
  },
  {
   "cell_type": "code",
   "execution_count": 175,
   "id": "77d30bbc-0c81-493b-a35e-f372ec423121",
   "metadata": {},
   "outputs": [
    {
     "name": "stdout",
     "output_type": "stream",
     "text": [
      "[[0 4 0]\n",
      " [9 0 7]]\n"
     ]
    }
   ],
   "source": [
    "y = np.array([[1, 4, 3], [9, 2, 7]])\n",
    "y[y<=3] = 0\n",
    "print(y)"
   ]
  }
 ],
 "metadata": {
  "kernelspec": {
   "display_name": "Python 3 (ipykernel)",
   "language": "python",
   "name": "python3"
  },
  "language_info": {
   "codemirror_mode": {
    "name": "ipython",
    "version": 3
   },
   "file_extension": ".py",
   "mimetype": "text/x-python",
   "name": "python",
   "nbconvert_exporter": "python",
   "pygments_lexer": "ipython3",
   "version": "3.12.4"
  },
  "widgets": {
   "application/vnd.jupyter.widget-state+json": {
    "state": {
     "011f7be2aabe4ee6b04c6676ee6550b7": {
      "model_module": "@jupyter-widgets/base",
      "model_module_version": "2.0.0",
      "model_name": "LayoutModel",
      "state": {}
     },
     "06410165f2d741cf9a1be7e3ca99a82c": {
      "model_module": "@jupyter-widgets/output",
      "model_module_version": "1.0.0",
      "model_name": "OutputModel",
      "state": {
       "layout": "IPY_MODEL_12cf0a8b1a5c4c058d21025fe86073ca",
       "outputs": [
        {
         "name": "stdout",
         "output_type": "stream",
         "text": "\n >>> np.linspace(start=0, stop=0, num=50) \n\n[0. 0. 0. 0. 0. 0. 0. 0. 0. 0. 0. 0. 0. 0. 0. 0. 0. 0. 0. 0. 0. 0. 0. 0.\n 0. 0. 0. 0. 0. 0. 0. 0. 0. 0. 0. 0. 0. 0. 0. 0. 0. 0. 0. 0. 0. 0. 0. 0.\n 0. 0.]\n"
        }
       ]
      }
     },
     "06ab781271854fc6969977659b06a8e9": {
      "model_module": "@jupyter-widgets/controls",
      "model_module_version": "2.0.0",
      "model_name": "SliderStyleModel",
      "state": {
       "description_width": ""
      }
     },
     "07f439994d0b40c28812c6e1ae2ebb66": {
      "model_module": "@jupyter-widgets/controls",
      "model_module_version": "2.0.0",
      "model_name": "IntSliderModel",
      "state": {
       "behavior": "drag-tap",
       "description": "stop",
       "layout": "IPY_MODEL_8aafdfd841bf41fab59dbaf8b069b2d2",
       "min": -100,
       "style": "IPY_MODEL_5dbbdc14dea248f2923af0d15073dd4b"
      }
     },
     "0964bad9eb6344b29743b2e48773ecab": {
      "model_module": "@jupyter-widgets/controls",
      "model_module_version": "2.0.0",
      "model_name": "SliderStyleModel",
      "state": {
       "description_width": ""
      }
     },
     "0af078c7bfb644a59eaa398caa86d8e6": {
      "model_module": "@jupyter-widgets/controls",
      "model_module_version": "2.0.0",
      "model_name": "FloatSliderModel",
      "state": {
       "behavior": "drag-tap",
       "description": "step",
       "layout": "IPY_MODEL_83a0ecb90d744526b0cce5c67a3f7988",
       "max": 10,
       "min": -5,
       "step": 0.5,
       "style": "IPY_MODEL_5cc50d7feaa240efa5306ea4b2d167ed",
       "value": 2.000000000000001
      }
     },
     "0cd26b9e68eb4cfc8d33cb0fd6abe2bd": {
      "model_module": "@jupyter-widgets/output",
      "model_module_version": "1.0.0",
      "model_name": "OutputModel",
      "state": {
       "layout": "IPY_MODEL_6172f93f56864b2cab9ae9f3ce6ef9f8",
       "outputs": [
        {
         "name": "stdout",
         "output_type": "stream",
         "text": "\n >>> np.arange(start=0, stop=0, step=2.00) \n\n[]\n"
        }
       ]
      }
     },
     "0d59b050e1354d47bc0433a0a14395ad": {
      "model_module": "@jupyter-widgets/base",
      "model_module_version": "2.0.0",
      "model_name": "LayoutModel",
      "state": {}
     },
     "0ed25452030b480193e0c08a4351d5b9": {
      "model_module": "@jupyter-widgets/controls",
      "model_module_version": "2.0.0",
      "model_name": "VBoxModel",
      "state": {
       "_dom_classes": [
        "widget-interact"
       ],
       "children": [
        "IPY_MODEL_ef3b55612acd447f8a4b0564bea74f17",
        "IPY_MODEL_5c076828fdef4201865148147580d949",
        "IPY_MODEL_ab5a9cede1a54fa3bccc80149c0447c1",
        "IPY_MODEL_0cd26b9e68eb4cfc8d33cb0fd6abe2bd"
       ],
       "layout": "IPY_MODEL_b85b4c51c0b34a8f8ba4c08231c0262d"
      }
     },
     "12b3c90c6075415cb8d55495f7d507e9": {
      "model_module": "@jupyter-widgets/base",
      "model_module_version": "2.0.0",
      "model_name": "LayoutModel",
      "state": {}
     },
     "12cf0a8b1a5c4c058d21025fe86073ca": {
      "model_module": "@jupyter-widgets/base",
      "model_module_version": "2.0.0",
      "model_name": "LayoutModel",
      "state": {}
     },
     "16b9e3e26896454ca11369a24bb3a297": {
      "model_module": "@jupyter-widgets/controls",
      "model_module_version": "2.0.0",
      "model_name": "SliderStyleModel",
      "state": {
       "description_width": ""
      }
     },
     "19789320651043369ff80b5b203bd384": {
      "model_module": "@jupyter-widgets/controls",
      "model_module_version": "2.0.0",
      "model_name": "IntSliderModel",
      "state": {
       "behavior": "drag-tap",
       "description": "end",
       "layout": "IPY_MODEL_f7545add19254771bb5f53fecbd82502",
       "max": -1,
       "min": -102,
       "style": "IPY_MODEL_68ca84815dc24ca5829bee2503b020f5",
       "value": -52
      }
     },
     "1b116550b182499799d23d8287fe92f9": {
      "model_module": "@jupyter-widgets/controls",
      "model_module_version": "2.0.0",
      "model_name": "SliderStyleModel",
      "state": {
       "description_width": ""
      }
     },
     "21d0d34ac3954ec2adb08368b1199b4e": {
      "model_module": "@jupyter-widgets/base",
      "model_module_version": "2.0.0",
      "model_name": "LayoutModel",
      "state": {}
     },
     "24c5d0f0a7a34f5eb2a8625339ff74ed": {
      "model_module": "@jupyter-widgets/controls",
      "model_module_version": "2.0.0",
      "model_name": "SliderStyleModel",
      "state": {
       "description_width": ""
      }
     },
     "284b8a5baad140dab6a9287d3b99df7e": {
      "model_module": "@jupyter-widgets/base",
      "model_module_version": "2.0.0",
      "model_name": "LayoutModel",
      "state": {}
     },
     "28ca3837ffce42b6ad09c0e217044092": {
      "model_module": "@jupyter-widgets/controls",
      "model_module_version": "2.0.0",
      "model_name": "IntSliderModel",
      "state": {
       "behavior": "drag-tap",
       "description": "start",
       "layout": "IPY_MODEL_5fe732e4aea04c13a80eacda3c528a22",
       "max": -1,
       "min": -102,
       "style": "IPY_MODEL_0964bad9eb6344b29743b2e48773ecab",
       "value": -52
      }
     },
     "291000bb4f2143e3b1bc340231e62d3e": {
      "model_module": "@jupyter-widgets/controls",
      "model_module_version": "2.0.0",
      "model_name": "IntSliderModel",
      "state": {
       "behavior": "drag-tap",
       "description": "step",
       "layout": "IPY_MODEL_775781e42bf6495db14195c4cb541e66",
       "max": 10,
       "min": 1,
       "style": "IPY_MODEL_e2f6488ab2a8457b8c4c8768b671cdfd",
       "value": 5
      }
     },
     "296ccfebe1004edba6e0056f3d5c4886": {
      "model_module": "@jupyter-widgets/base",
      "model_module_version": "2.0.0",
      "model_name": "LayoutModel",
      "state": {}
     },
     "3034aea4aee14894959e2d541f0c1f81": {
      "model_module": "@jupyter-widgets/controls",
      "model_module_version": "2.0.0",
      "model_name": "IntSliderModel",
      "state": {
       "behavior": "drag-tap",
       "description": "step",
       "layout": "IPY_MODEL_21d0d34ac3954ec2adb08368b1199b4e",
       "max": 2,
       "min": -10,
       "style": "IPY_MODEL_24c5d0f0a7a34f5eb2a8625339ff74ed",
       "value": -4
      }
     },
     "35053511f7bf4e1c931cb9b8c6616d41": {
      "model_module": "@jupyter-widgets/controls",
      "model_module_version": "2.0.0",
      "model_name": "IntSliderModel",
      "state": {
       "behavior": "drag-tap",
       "description": "start",
       "layout": "IPY_MODEL_e5fcf6be8c8b4ba7afef543970192e7e",
       "min": -100,
       "style": "IPY_MODEL_bf23585c99a14ccda4beb2b3a95e7747"
      }
     },
     "3636b997fe7342a6ac2f81a52d3845c4": {
      "model_module": "@jupyter-widgets/base",
      "model_module_version": "2.0.0",
      "model_name": "LayoutModel",
      "state": {}
     },
     "363a8e12f1514207ac1b90b8fc684732": {
      "model_module": "@jupyter-widgets/controls",
      "model_module_version": "2.0.0",
      "model_name": "SliderStyleModel",
      "state": {
       "description_width": ""
      }
     },
     "3b633df1dcdb4c668dc41b863db463bc": {
      "model_module": "@jupyter-widgets/base",
      "model_module_version": "2.0.0",
      "model_name": "LayoutModel",
      "state": {}
     },
     "3c19e9c8347f435dbc468886e3d7f61f": {
      "model_module": "@jupyter-widgets/base",
      "model_module_version": "2.0.0",
      "model_name": "LayoutModel",
      "state": {}
     },
     "3cdf9cb8fd7e4180a2508e8756e44c4c": {
      "model_module": "@jupyter-widgets/controls",
      "model_module_version": "2.0.0",
      "model_name": "IntSliderModel",
      "state": {
       "behavior": "drag-tap",
       "description": "start",
       "layout": "IPY_MODEL_5ad5398298bd49ca934e7d144d941f4c",
       "min": -100,
       "style": "IPY_MODEL_06ab781271854fc6969977659b06a8e9"
      }
     },
     "3f243e106353445da7ef19cef1615257": {
      "model_module": "@jupyter-widgets/base",
      "model_module_version": "2.0.0",
      "model_name": "LayoutModel",
      "state": {}
     },
     "3fdbda1eb3914189b46ac984e82fc894": {
      "model_module": "@jupyter-widgets/base",
      "model_module_version": "2.0.0",
      "model_name": "LayoutModel",
      "state": {}
     },
     "461a0ea488ba48e2a9dd3b00b4abbc10": {
      "model_module": "@jupyter-widgets/base",
      "model_module_version": "2.0.0",
      "model_name": "LayoutModel",
      "state": {}
     },
     "499d64be6e5442a2818053b2862d41bc": {
      "model_module": "@jupyter-widgets/controls",
      "model_module_version": "2.0.0",
      "model_name": "IntSliderModel",
      "state": {
       "behavior": "drag-tap",
       "description": "end",
       "layout": "IPY_MODEL_4eff27aaca2a4f2dae67d13bd694e039",
       "max": 101,
       "style": "IPY_MODEL_f6ce8d39a7714793b73bfc2b98ca6297",
       "value": 50
      }
     },
     "4b6e94e27a844d6abfaddd6c2f12d9f6": {
      "model_module": "@jupyter-widgets/controls",
      "model_module_version": "2.0.0",
      "model_name": "SliderStyleModel",
      "state": {
       "description_width": ""
      }
     },
     "4eff27aaca2a4f2dae67d13bd694e039": {
      "model_module": "@jupyter-widgets/base",
      "model_module_version": "2.0.0",
      "model_name": "LayoutModel",
      "state": {}
     },
     "54242fdf4d9c4cd497dbf6c8ddd5aa7b": {
      "model_module": "@jupyter-widgets/controls",
      "model_module_version": "2.0.0",
      "model_name": "SliderStyleModel",
      "state": {
       "description_width": ""
      }
     },
     "58b4950284c84c4ea2c5e1d9ba000b31": {
      "model_module": "@jupyter-widgets/controls",
      "model_module_version": "2.0.0",
      "model_name": "VBoxModel",
      "state": {
       "_dom_classes": [
        "widget-interact"
       ],
       "children": [
        "IPY_MODEL_b65196420f9f49418fdd0d326b50a61b",
        "IPY_MODEL_cbc8ccf0c1d4438bbc885eaa943a6e47",
        "IPY_MODEL_291000bb4f2143e3b1bc340231e62d3e",
        "IPY_MODEL_aa65b9299c564d368a21914ee37d6efb"
       ],
       "layout": "IPY_MODEL_3fdbda1eb3914189b46ac984e82fc894"
      }
     },
     "5ad5398298bd49ca934e7d144d941f4c": {
      "model_module": "@jupyter-widgets/base",
      "model_module_version": "2.0.0",
      "model_name": "LayoutModel",
      "state": {}
     },
     "5c076828fdef4201865148147580d949": {
      "model_module": "@jupyter-widgets/controls",
      "model_module_version": "2.0.0",
      "model_name": "IntSliderModel",
      "state": {
       "behavior": "drag-tap",
       "description": "stop",
       "layout": "IPY_MODEL_5c205345071446f29f1d689ef0bccaff",
       "min": -100,
       "style": "IPY_MODEL_1b116550b182499799d23d8287fe92f9"
      }
     },
     "5c205345071446f29f1d689ef0bccaff": {
      "model_module": "@jupyter-widgets/base",
      "model_module_version": "2.0.0",
      "model_name": "LayoutModel",
      "state": {}
     },
     "5cc50d7feaa240efa5306ea4b2d167ed": {
      "model_module": "@jupyter-widgets/controls",
      "model_module_version": "2.0.0",
      "model_name": "SliderStyleModel",
      "state": {
       "description_width": ""
      }
     },
     "5cd7e66d13be429186695de8535296c5": {
      "model_module": "@jupyter-widgets/controls",
      "model_module_version": "2.0.0",
      "model_name": "VBoxModel",
      "state": {
       "_dom_classes": [
        "widget-interact"
       ],
       "children": [
        "IPY_MODEL_ab6b3856fae8498faf32884dda1576c5",
        "IPY_MODEL_74501f7907eb42a6aada6a54a0941db4",
        "IPY_MODEL_f801e96b96a340b28586b69f4145b182",
        "IPY_MODEL_713b57db701f4e0ba6e34f37c3de707c"
       ],
       "layout": "IPY_MODEL_0d59b050e1354d47bc0433a0a14395ad"
      }
     },
     "5dbbdc14dea248f2923af0d15073dd4b": {
      "model_module": "@jupyter-widgets/controls",
      "model_module_version": "2.0.0",
      "model_name": "SliderStyleModel",
      "state": {
       "description_width": ""
      }
     },
     "5fe732e4aea04c13a80eacda3c528a22": {
      "model_module": "@jupyter-widgets/base",
      "model_module_version": "2.0.0",
      "model_name": "LayoutModel",
      "state": {}
     },
     "6172f93f56864b2cab9ae9f3ce6ef9f8": {
      "model_module": "@jupyter-widgets/base",
      "model_module_version": "2.0.0",
      "model_name": "LayoutModel",
      "state": {}
     },
     "655eda95f9c244c69d82ba9879c6c983": {
      "model_module": "@jupyter-widgets/base",
      "model_module_version": "2.0.0",
      "model_name": "LayoutModel",
      "state": {}
     },
     "6700cadd0c0f4634a31764065a0e47e0": {
      "model_module": "@jupyter-widgets/controls",
      "model_module_version": "2.0.0",
      "model_name": "IntSliderModel",
      "state": {
       "behavior": "drag-tap",
       "description": "step",
       "layout": "IPY_MODEL_3b633df1dcdb4c668dc41b863db463bc",
       "max": 2,
       "min": -10,
       "style": "IPY_MODEL_f3d7bc80377c4f3db5d95301ea8027e6",
       "value": -4
      }
     },
     "6721092a22c74cb1a30f407e8ef4d568": {
      "model_module": "@jupyter-widgets/output",
      "model_module_version": "1.0.0",
      "model_name": "OutputModel",
      "state": {
       "layout": "IPY_MODEL_bbc9da50775b4bbd862a31b817ecffab",
       "outputs": [
        {
         "name": "stdout",
         "output_type": "stream",
         "text": "\n >>> np.arange(start=0, stop=0, step=2.00) \n\n[]\n"
        }
       ]
      }
     },
     "68ca84815dc24ca5829bee2503b020f5": {
      "model_module": "@jupyter-widgets/controls",
      "model_module_version": "2.0.0",
      "model_name": "SliderStyleModel",
      "state": {
       "description_width": ""
      }
     },
     "6d2118e2825c4925a016be89ec4060e5": {
      "model_module": "@jupyter-widgets/base",
      "model_module_version": "2.0.0",
      "model_name": "LayoutModel",
      "state": {}
     },
     "708c9daf6e634cb7939fab949d0e9fed": {
      "model_module": "@jupyter-widgets/base",
      "model_module_version": "2.0.0",
      "model_name": "LayoutModel",
      "state": {}
     },
     "713b57db701f4e0ba6e34f37c3de707c": {
      "model_module": "@jupyter-widgets/output",
      "model_module_version": "1.0.0",
      "model_name": "OutputModel",
      "state": {
       "layout": "IPY_MODEL_011f7be2aabe4ee6b04c6676ee6550b7",
       "outputs": [
        {
         "name": "stdout",
         "output_type": "stream",
         "text": "\n >>> np.linspace(start=0, stop=0, num=50) \n\n[0. 0. 0. 0. 0. 0. 0. 0. 0. 0. 0. 0. 0. 0. 0. 0. 0. 0. 0. 0. 0. 0. 0. 0.\n 0. 0. 0. 0. 0. 0. 0. 0. 0. 0. 0. 0. 0. 0. 0. 0. 0. 0. 0. 0. 0. 0. 0. 0.\n 0. 0.]\n"
        }
       ]
      }
     },
     "74501f7907eb42a6aada6a54a0941db4": {
      "model_module": "@jupyter-widgets/controls",
      "model_module_version": "2.0.0",
      "model_name": "IntSliderModel",
      "state": {
       "behavior": "drag-tap",
       "description": "stop",
       "layout": "IPY_MODEL_d1b1f0132d6f4edd8270b495295df13e",
       "min": -100,
       "style": "IPY_MODEL_363a8e12f1514207ac1b90b8fc684732"
      }
     },
     "775781e42bf6495db14195c4cb541e66": {
      "model_module": "@jupyter-widgets/base",
      "model_module_version": "2.0.0",
      "model_name": "LayoutModel",
      "state": {}
     },
     "78f277e397ba40668e20bcb1bb611578": {
      "model_module": "@jupyter-widgets/base",
      "model_module_version": "2.0.0",
      "model_name": "LayoutModel",
      "state": {}
     },
     "8363c0a2fb16414ab3da11d7fcf3a2d3": {
      "model_module": "@jupyter-widgets/controls",
      "model_module_version": "2.0.0",
      "model_name": "SliderStyleModel",
      "state": {
       "description_width": ""
      }
     },
     "83a0ecb90d744526b0cce5c67a3f7988": {
      "model_module": "@jupyter-widgets/base",
      "model_module_version": "2.0.0",
      "model_name": "LayoutModel",
      "state": {}
     },
     "8725a0fa5a214f43814954a010b3ef06": {
      "model_module": "@jupyter-widgets/controls",
      "model_module_version": "2.0.0",
      "model_name": "SliderStyleModel",
      "state": {
       "description_width": ""
      }
     },
     "8aafdfd841bf41fab59dbaf8b069b2d2": {
      "model_module": "@jupyter-widgets/base",
      "model_module_version": "2.0.0",
      "model_name": "LayoutModel",
      "state": {}
     },
     "989ce752e9a64c7a9f9eb4b3965843ce": {
      "model_module": "@jupyter-widgets/base",
      "model_module_version": "2.0.0",
      "model_name": "LayoutModel",
      "state": {}
     },
     "99858a8d454a4ec6b723fa4653872351": {
      "model_module": "@jupyter-widgets/controls",
      "model_module_version": "2.0.0",
      "model_name": "SliderStyleModel",
      "state": {
       "description_width": ""
      }
     },
     "9b37a20061a0460e8c389eecc61f2af0": {
      "model_module": "@jupyter-widgets/controls",
      "model_module_version": "2.0.0",
      "model_name": "SliderStyleModel",
      "state": {
       "description_width": ""
      }
     },
     "9c2f49fca0194080b2e133a7c95abecd": {
      "model_module": "@jupyter-widgets/controls",
      "model_module_version": "2.0.0",
      "model_name": "VBoxModel",
      "state": {
       "_dom_classes": [
        "widget-interact"
       ],
       "children": [
        "IPY_MODEL_3cdf9cb8fd7e4180a2508e8756e44c4c",
        "IPY_MODEL_a97422921ff74566a77275d1e4c9d0cb",
        "IPY_MODEL_feac51db4edd49cbb6911d9fb6b45499",
        "IPY_MODEL_06410165f2d741cf9a1be7e3ca99a82c"
       ],
       "layout": "IPY_MODEL_655eda95f9c244c69d82ba9879c6c983"
      }
     },
     "9d455d465d3543d8918b6fe80c13baea": {
      "model_module": "@jupyter-widgets/controls",
      "model_module_version": "2.0.0",
      "model_name": "SliderStyleModel",
      "state": {
       "description_width": ""
      }
     },
     "a2b936db43bd42b29f7c95df513597f3": {
      "model_module": "@jupyter-widgets/base",
      "model_module_version": "2.0.0",
      "model_name": "LayoutModel",
      "state": {}
     },
     "a5790e9798204e6ca1a7295c6344acde": {
      "model_module": "@jupyter-widgets/controls",
      "model_module_version": "2.0.0",
      "model_name": "SliderStyleModel",
      "state": {
       "description_width": ""
      }
     },
     "a6f8f9a5df924ca1bfd7ef3b3c0cf1b4": {
      "model_module": "@jupyter-widgets/base",
      "model_module_version": "2.0.0",
      "model_name": "LayoutModel",
      "state": {}
     },
     "a97422921ff74566a77275d1e4c9d0cb": {
      "model_module": "@jupyter-widgets/controls",
      "model_module_version": "2.0.0",
      "model_name": "IntSliderModel",
      "state": {
       "behavior": "drag-tap",
       "description": "stop",
       "layout": "IPY_MODEL_fa2a9acc542e4a9aa460cc652d134edc",
       "min": -100,
       "style": "IPY_MODEL_4b6e94e27a844d6abfaddd6c2f12d9f6"
      }
     },
     "aa546fed737d45288fbd073c254fed47": {
      "model_module": "@jupyter-widgets/output",
      "model_module_version": "1.0.0",
      "model_name": "OutputModel",
      "state": {
       "layout": "IPY_MODEL_6d2118e2825c4925a016be89ec4060e5",
       "outputs": [
        {
         "name": "stdout",
         "output_type": "stream",
         "text": "\n >>> w[-52:-52:-4] \n\n[]\n"
        }
       ]
      }
     },
     "aa65b9299c564d368a21914ee37d6efb": {
      "model_module": "@jupyter-widgets/output",
      "model_module_version": "1.0.0",
      "model_name": "OutputModel",
      "state": {
       "layout": "IPY_MODEL_296ccfebe1004edba6e0056f3d5c4886",
       "outputs": [
        {
         "name": "stdout",
         "output_type": "stream",
         "text": "\n >>> w[50:50:5] \n\n[]\n"
        }
       ]
      }
     },
     "ab5a9cede1a54fa3bccc80149c0447c1": {
      "model_module": "@jupyter-widgets/controls",
      "model_module_version": "2.0.0",
      "model_name": "FloatSliderModel",
      "state": {
       "behavior": "drag-tap",
       "description": "step",
       "layout": "IPY_MODEL_f99cfb13e7484b5fbb85e9dbc8db8eff",
       "max": 10,
       "min": -5,
       "step": 0.5,
       "style": "IPY_MODEL_afd0c066e99e4a7b9cafff626dec9dda",
       "value": 2.000000000000001
      }
     },
     "ab6b3856fae8498faf32884dda1576c5": {
      "model_module": "@jupyter-widgets/controls",
      "model_module_version": "2.0.0",
      "model_name": "IntSliderModel",
      "state": {
       "behavior": "drag-tap",
       "description": "start",
       "layout": "IPY_MODEL_3636b997fe7342a6ac2f81a52d3845c4",
       "min": -100,
       "style": "IPY_MODEL_9d455d465d3543d8918b6fe80c13baea"
      }
     },
     "afd0c066e99e4a7b9cafff626dec9dda": {
      "model_module": "@jupyter-widgets/controls",
      "model_module_version": "2.0.0",
      "model_name": "SliderStyleModel",
      "state": {
       "description_width": ""
      }
     },
     "b65196420f9f49418fdd0d326b50a61b": {
      "model_module": "@jupyter-widgets/controls",
      "model_module_version": "2.0.0",
      "model_name": "IntSliderModel",
      "state": {
       "behavior": "drag-tap",
       "description": "start",
       "layout": "IPY_MODEL_989ce752e9a64c7a9f9eb4b3965843ce",
       "max": 101,
       "style": "IPY_MODEL_9b37a20061a0460e8c389eecc61f2af0",
       "value": 50
      }
     },
     "b85b4c51c0b34a8f8ba4c08231c0262d": {
      "model_module": "@jupyter-widgets/base",
      "model_module_version": "2.0.0",
      "model_name": "LayoutModel",
      "state": {}
     },
     "bbc9da50775b4bbd862a31b817ecffab": {
      "model_module": "@jupyter-widgets/base",
      "model_module_version": "2.0.0",
      "model_name": "LayoutModel",
      "state": {}
     },
     "be378583ea5a4aa3add8a35ac463a5b6": {
      "model_module": "@jupyter-widgets/controls",
      "model_module_version": "2.0.0",
      "model_name": "SliderStyleModel",
      "state": {
       "description_width": ""
      }
     },
     "bf23585c99a14ccda4beb2b3a95e7747": {
      "model_module": "@jupyter-widgets/controls",
      "model_module_version": "2.0.0",
      "model_name": "SliderStyleModel",
      "state": {
       "description_width": ""
      }
     },
     "c8cbf7267ab04a0397462924cd9a8369": {
      "model_module": "@jupyter-widgets/controls",
      "model_module_version": "2.0.0",
      "model_name": "SliderStyleModel",
      "state": {
       "description_width": ""
      }
     },
     "cbc8ccf0c1d4438bbc885eaa943a6e47": {
      "model_module": "@jupyter-widgets/controls",
      "model_module_version": "2.0.0",
      "model_name": "IntSliderModel",
      "state": {
       "behavior": "drag-tap",
       "description": "end",
       "layout": "IPY_MODEL_d162eb2a07b64327abb94dc50e18bafa",
       "max": 101,
       "style": "IPY_MODEL_a5790e9798204e6ca1a7295c6344acde",
       "value": 50
      }
     },
     "cc5514519d574e849f7d2238949a06d8": {
      "model_module": "@jupyter-widgets/controls",
      "model_module_version": "2.0.0",
      "model_name": "IntSliderModel",
      "state": {
       "behavior": "drag-tap",
       "description": "end",
       "layout": "IPY_MODEL_a6f8f9a5df924ca1bfd7ef3b3c0cf1b4",
       "max": -1,
       "min": -102,
       "style": "IPY_MODEL_c8cbf7267ab04a0397462924cd9a8369",
       "value": -52
      }
     },
     "d162eb2a07b64327abb94dc50e18bafa": {
      "model_module": "@jupyter-widgets/base",
      "model_module_version": "2.0.0",
      "model_name": "LayoutModel",
      "state": {}
     },
     "d1b1f0132d6f4edd8270b495295df13e": {
      "model_module": "@jupyter-widgets/base",
      "model_module_version": "2.0.0",
      "model_name": "LayoutModel",
      "state": {}
     },
     "d583231faccc4203bf5c4b2e88423f3d": {
      "model_module": "@jupyter-widgets/controls",
      "model_module_version": "2.0.0",
      "model_name": "IntSliderModel",
      "state": {
       "behavior": "drag-tap",
       "description": "start",
       "layout": "IPY_MODEL_78f277e397ba40668e20bcb1bb611578",
       "max": 101,
       "style": "IPY_MODEL_8363c0a2fb16414ab3da11d7fcf3a2d3",
       "value": 50
      }
     },
     "d5b86cde3f674a7088c7995b18ae3742": {
      "model_module": "@jupyter-widgets/base",
      "model_module_version": "2.0.0",
      "model_name": "LayoutModel",
      "state": {}
     },
     "d69f2fef84c244f58e4fe40a7a6e4456": {
      "model_module": "@jupyter-widgets/output",
      "model_module_version": "1.0.0",
      "model_name": "OutputModel",
      "state": {
       "layout": "IPY_MODEL_12b3c90c6075415cb8d55495f7d507e9",
       "outputs": [
        {
         "name": "stdout",
         "output_type": "stream",
         "text": "\n >>> w[50:50:5] \n\n[]\n"
        }
       ]
      }
     },
     "e1bc4bb0f9644158bb4fa5a799e8575c": {
      "model_module": "@jupyter-widgets/base",
      "model_module_version": "2.0.0",
      "model_name": "LayoutModel",
      "state": {}
     },
     "e2f6488ab2a8457b8c4c8768b671cdfd": {
      "model_module": "@jupyter-widgets/controls",
      "model_module_version": "2.0.0",
      "model_name": "SliderStyleModel",
      "state": {
       "description_width": ""
      }
     },
     "e40d5e5b7de14ed39a3a9e2fdd344edc": {
      "model_module": "@jupyter-widgets/base",
      "model_module_version": "2.0.0",
      "model_name": "LayoutModel",
      "state": {}
     },
     "e5fcf6be8c8b4ba7afef543970192e7e": {
      "model_module": "@jupyter-widgets/base",
      "model_module_version": "2.0.0",
      "model_name": "LayoutModel",
      "state": {}
     },
     "ef30499bc6a343a49a6f3acce9193160": {
      "model_module": "@jupyter-widgets/output",
      "model_module_version": "1.0.0",
      "model_name": "OutputModel",
      "state": {
       "layout": "IPY_MODEL_f8b9fbb11abc4ae4852c53a20dc38dd4",
       "outputs": [
        {
         "name": "stdout",
         "output_type": "stream",
         "text": "\n >>> w[-52:-52:-4] \n\n[]\n"
        }
       ]
      }
     },
     "ef3b55612acd447f8a4b0564bea74f17": {
      "model_module": "@jupyter-widgets/controls",
      "model_module_version": "2.0.0",
      "model_name": "IntSliderModel",
      "state": {
       "behavior": "drag-tap",
       "description": "start",
       "layout": "IPY_MODEL_284b8a5baad140dab6a9287d3b99df7e",
       "min": -100,
       "style": "IPY_MODEL_99858a8d454a4ec6b723fa4653872351"
      }
     },
     "f0ab8323827648a6a1dad9165ef306a0": {
      "model_module": "@jupyter-widgets/controls",
      "model_module_version": "2.0.0",
      "model_name": "VBoxModel",
      "state": {
       "_dom_classes": [
        "widget-interact"
       ],
       "children": [
        "IPY_MODEL_35053511f7bf4e1c931cb9b8c6616d41",
        "IPY_MODEL_07f439994d0b40c28812c6e1ae2ebb66",
        "IPY_MODEL_0af078c7bfb644a59eaa398caa86d8e6",
        "IPY_MODEL_6721092a22c74cb1a30f407e8ef4d568"
       ],
       "layout": "IPY_MODEL_e1bc4bb0f9644158bb4fa5a799e8575c"
      }
     },
     "f3d7bc80377c4f3db5d95301ea8027e6": {
      "model_module": "@jupyter-widgets/controls",
      "model_module_version": "2.0.0",
      "model_name": "SliderStyleModel",
      "state": {
       "description_width": ""
      }
     },
     "f6ce8d39a7714793b73bfc2b98ca6297": {
      "model_module": "@jupyter-widgets/controls",
      "model_module_version": "2.0.0",
      "model_name": "SliderStyleModel",
      "state": {
       "description_width": ""
      }
     },
     "f7545add19254771bb5f53fecbd82502": {
      "model_module": "@jupyter-widgets/base",
      "model_module_version": "2.0.0",
      "model_name": "LayoutModel",
      "state": {}
     },
     "f801e96b96a340b28586b69f4145b182": {
      "model_module": "@jupyter-widgets/controls",
      "model_module_version": "2.0.0",
      "model_name": "IntSliderModel",
      "state": {
       "behavior": "drag-tap",
       "description": "num",
       "layout": "IPY_MODEL_a2b936db43bd42b29f7c95df513597f3",
       "style": "IPY_MODEL_be378583ea5a4aa3add8a35ac463a5b6",
       "value": 50
      }
     },
     "f8b9fbb11abc4ae4852c53a20dc38dd4": {
      "model_module": "@jupyter-widgets/base",
      "model_module_version": "2.0.0",
      "model_name": "LayoutModel",
      "state": {}
     },
     "f99cfb13e7484b5fbb85e9dbc8db8eff": {
      "model_module": "@jupyter-widgets/base",
      "model_module_version": "2.0.0",
      "model_name": "LayoutModel",
      "state": {}
     },
     "fa2a9acc542e4a9aa460cc652d134edc": {
      "model_module": "@jupyter-widgets/base",
      "model_module_version": "2.0.0",
      "model_name": "LayoutModel",
      "state": {}
     },
     "faaf34c89dce4005a359a0155123fba1": {
      "model_module": "@jupyter-widgets/controls",
      "model_module_version": "2.0.0",
      "model_name": "VBoxModel",
      "state": {
       "_dom_classes": [
        "widget-interact"
       ],
       "children": [
        "IPY_MODEL_d583231faccc4203bf5c4b2e88423f3d",
        "IPY_MODEL_499d64be6e5442a2818053b2862d41bc",
        "IPY_MODEL_facab8b3125b44b9ab934c7f44fd39a8",
        "IPY_MODEL_d69f2fef84c244f58e4fe40a7a6e4456"
       ],
       "layout": "IPY_MODEL_d5b86cde3f674a7088c7995b18ae3742"
      }
     },
     "facab8b3125b44b9ab934c7f44fd39a8": {
      "model_module": "@jupyter-widgets/controls",
      "model_module_version": "2.0.0",
      "model_name": "IntSliderModel",
      "state": {
       "behavior": "drag-tap",
       "description": "step",
       "layout": "IPY_MODEL_e40d5e5b7de14ed39a3a9e2fdd344edc",
       "max": 10,
       "min": 1,
       "style": "IPY_MODEL_54242fdf4d9c4cd497dbf6c8ddd5aa7b",
       "value": 5
      }
     },
     "fc64b1665dcf49e7965785ebff33553f": {
      "model_module": "@jupyter-widgets/controls",
      "model_module_version": "2.0.0",
      "model_name": "VBoxModel",
      "state": {
       "_dom_classes": [
        "widget-interact"
       ],
       "children": [
        "IPY_MODEL_28ca3837ffce42b6ad09c0e217044092",
        "IPY_MODEL_19789320651043369ff80b5b203bd384",
        "IPY_MODEL_3034aea4aee14894959e2d541f0c1f81",
        "IPY_MODEL_aa546fed737d45288fbd073c254fed47"
       ],
       "layout": "IPY_MODEL_3c19e9c8347f435dbc468886e3d7f61f"
      }
     },
     "fc7bf7e72fcf46c6aa8e16800589ed4d": {
      "model_module": "@jupyter-widgets/controls",
      "model_module_version": "2.0.0",
      "model_name": "VBoxModel",
      "state": {
       "_dom_classes": [
        "widget-interact"
       ],
       "children": [
        "IPY_MODEL_fc829ccedd2f4b3ca356ddf1e083b500",
        "IPY_MODEL_cc5514519d574e849f7d2238949a06d8",
        "IPY_MODEL_6700cadd0c0f4634a31764065a0e47e0",
        "IPY_MODEL_ef30499bc6a343a49a6f3acce9193160"
       ],
       "layout": "IPY_MODEL_3f243e106353445da7ef19cef1615257"
      }
     },
     "fc829ccedd2f4b3ca356ddf1e083b500": {
      "model_module": "@jupyter-widgets/controls",
      "model_module_version": "2.0.0",
      "model_name": "IntSliderModel",
      "state": {
       "behavior": "drag-tap",
       "description": "start",
       "layout": "IPY_MODEL_708c9daf6e634cb7939fab949d0e9fed",
       "max": -1,
       "min": -102,
       "style": "IPY_MODEL_16b9e3e26896454ca11369a24bb3a297",
       "value": -52
      }
     },
     "feac51db4edd49cbb6911d9fb6b45499": {
      "model_module": "@jupyter-widgets/controls",
      "model_module_version": "2.0.0",
      "model_name": "IntSliderModel",
      "state": {
       "behavior": "drag-tap",
       "description": "num",
       "layout": "IPY_MODEL_461a0ea488ba48e2a9dd3b00b4abbc10",
       "style": "IPY_MODEL_8725a0fa5a214f43814954a010b3ef06",
       "value": 50
      }
     }
    },
    "version_major": 2,
    "version_minor": 0
   }
  }
 },
 "nbformat": 4,
 "nbformat_minor": 5
}
