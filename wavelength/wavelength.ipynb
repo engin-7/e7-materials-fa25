{
 "cells": [
  {
   "cell_type": "markdown",
   "id": "fa1d1764",
   "metadata": {},
   "source": [
    "# Introduction to Computer Programming and Numerical Methods\n",
    "\n",
    "> **Mohamad M. Hallal, PhD** <br> Teaching Professor, UC Berkeley\n",
    "***"
   ]
  },
  {
   "cell_type": "markdown",
   "id": "87237015",
   "metadata": {},
   "source": [
    "# Wavelength\n",
    "#### Version 1.0\n",
    "\n",
    "This is an implementation of the [Wavelength](https://www.wavelength.zone/) game for educational purposes only.\n",
    "\n",
    "If you encounter any bugs, please let us know at engin7@berkeley.edu!\n",
    "\n",
    "**How to play:**\n",
    "* There is a spectrum of two opposing concepts such as *Hot* vs. *Cold*\n",
    "* First, run the second code cell to begin the game\n",
    "* The instructor will provide a clue during the lecture, which is based on a hidden target that only they know. The target lies somewhere between the two opposing concepts.\n",
    "* Your task is to use the slider to adjust the red dial as close to the target as possible based on the clue.\n",
    "* Once you're confident in your guess, click the **READY!** button to reveal the target. \n",
    "* The closer your dial is to the center of the target, the more points you earn.\n",
    "\n",
    "Have fun and good luck!\n",
    "\n",
    "***"
   ]
  },
  {
   "cell_type": "code",
   "execution_count": null,
   "id": "93b4c03f-fc5c-4b73-9645-3b94b1fb8d22",
   "metadata": {},
   "outputs": [],
   "source": [
    "import sys\n",
    "import os\n",
    "import numpy as np\n",
    "import csv\n",
    "import ipywidgets as widgets\n",
    "sys.path.append('resources')\n",
    "import helper\n",
    "\n",
    "helper.main(1)"
   ]
  }
 ],
 "metadata": {
  "kernelspec": {
   "display_name": "Python 3 (ipykernel)",
   "language": "python",
   "name": "python3"
  },
  "language_info": {
   "codemirror_mode": {
    "name": "ipython",
    "version": 3
   },
   "file_extension": ".py",
   "mimetype": "text/x-python",
   "name": "python",
   "nbconvert_exporter": "python",
   "pygments_lexer": "ipython3",
   "version": "3.11.13"
  }
 },
 "nbformat": 4,
 "nbformat_minor": 5
}
