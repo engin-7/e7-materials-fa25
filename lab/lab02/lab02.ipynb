{
 "cells": [
  {
   "cell_type": "code",
   "execution_count": null,
   "id": "d224df86",
   "metadata": {
    "deletable": false,
    "editable": false
   },
   "outputs": [],
   "source": [
    "# Initialize Otter\n",
    "import otter\n",
    "grader = otter.Notebook(\"lab02.ipynb\")"
   ]
  },
  {
   "cell_type": "markdown",
   "id": "5af9dc94",
   "metadata": {},
   "source": [
    "# CE 93: Lab Assignment 02\n",
    "\n",
    "You must submit the lab to Gradescope by the due date. You will submit the zip file produced by running the final cell of the assignment.\n",
    "\n",
    "## About this Lab\n",
    "The objective of this assignment is to compute numerical summaries of data in Python and to plot graphical summaries.\n",
    "\n",
    "## Instructions \n",
    "**Run the first cell, Initialize Otter**, to import the autograder and submission exporter.\n",
    "\n",
    "Throughout the assignment, replace `...` with your answers. We use `...` as a placeholder and these should be deleted and replaced with your answers.\n",
    "\n",
    "Any part listed as a \"<font color='red'>**Question**</font>\" should be answered to receive credit.\n",
    "\n",
    "**Please save your work after every question!**\n",
    "\n",
    "To read the documentation on a Python function, you can type `help()` and add the function name between parentheses.\n",
    "\n",
    "**Run the cell below**, to import the required modules."
   ]
  },
  {
   "cell_type": "code",
   "execution_count": null,
   "id": "f3463c41",
   "metadata": {},
   "outputs": [],
   "source": [
    "# Please run this cell, and do not modify the contents\n",
    "def get_hash(num):\n",
    "    \"\"\"Helper function for assessing correctness\"\"\"\n",
    "    return hashlib.md5(str(num).encode()).hexdigest()\n",
    "\n",
    "import math\n",
    "import numpy as np\n",
    "import pandas as pd\n",
    "import statistics as stats\n",
    "import matplotlib.pyplot as plt\n",
    "import matplotlib.image as mpimg\n",
    "import hashlib\n",
    "import resources"
   ]
  },
  {
   "cell_type": "markdown",
   "id": "97eac86e",
   "metadata": {},
   "source": [
    "### Introduction\n",
    "\n",
    "In this lab, we will be working with a data set of Biochemical oxygen demand (BOD), Nitrates, and Ammonia measurements along the Blackwater River. Biochemical oxygen demand, or BOD, is a measurement of the amount of oxygen consumed by the microorganisms in decomposing organic matter in some volume of water. Additionally, BOD can also be used to measure the extraction of oxygen from water via oxidation of inorganic matter, a chemical reaction as opposed to a biological one. \n",
    "\n",
    "<center><img src='resources/intro.png' width=55%/></center>  \n",
    " \n",
    "From EPA: Water Monitoring and Assessment: \n",
    "“BOD directly affects the amount of dissolved oxygen in rivers and streams. The greater the BOD, the more rapidly oxygen is depleted in the stream. This means less oxygen is available to higher forms of aquatic life. The consequences of high BOD are the same as those for low dissolved oxygen: aquatic organisms become stressed, suffocate, and die.”\n",
    "\n",
    "\n",
    "Nitrates are a very common contaminant of drinking water, especially in rural areas near agriculture. The primary sources of nitrate contamination are fertilizer, sewage, and manure. Federal regulations for nitrates were put in place because high nitrate levels can result in methemoglobinemia, or \"blue baby\" disease. They are also an indicator for other major agricultural contaminants, such as pesticides and bacteria. \n",
    "\n",
    "\n",
    "Ammonia in waterways is the result of industrial processes, wastes, and fertilizers, as well as a byproduct of drinking water disinfection with chloramines. Ammonia is toxic for aquatic life, especially in oxygen-poor environments.\n",
    "\n",
    "\n",
    "For Civil and Environmental Engineers, BOD, Nitrates, and Ammonia measurements are critical to protect the health of waterways that are impacted by various organic and inorganic pollution. The consequences of high BOD could be species depletion, damaged ecosystems, polluted water, regulatory challenges, and criminal investigations.  "
   ]
  },
  {
   "cell_type": "markdown",
   "id": "b334f350",
   "metadata": {},
   "source": [
    "### Load the data\n",
    "\n",
    "Let's load the provided data set `nutrients.csv`. These are all the features:\n",
    "\n",
    "| Feature  | Units | Description                            |\n",
    "| :-       | :-    | :-                                     |\n",
    "| BOD      | mg/L  | Biochemical oxygen demand measurements |\n",
    "| Nitrates | mg/L  | Nitrates measurements                  |\n",
    "| Ammonia  | mg/L  | Ammonia measurements                   |\n",
    "\n",
    "* Load the data using the Pandas `pd.read_csv()` function\n",
    "\n",
    "Run the cell below, which reads the data and saves it as a variable named `df`."
   ]
  },
  {
   "cell_type": "code",
   "execution_count": null,
   "id": "b0844215",
   "metadata": {},
   "outputs": [],
   "source": [
    "# read a .csv file as a DataFrame\n",
    "df = pd.read_csv('resources/nutrients.csv')\n",
    "\n",
    "# returns the first 5 rows of the data set by default\n",
    "df.head()"
   ]
  },
  {
   "cell_type": "markdown",
   "id": "db995cc8",
   "metadata": {},
   "source": [
    "### Dataframe Shape\n",
    "\n",
    "Let's check the shape (number of rows and columns) of our data set.\n",
    "\n",
    "To get the shape of a DataFrame, use `DataFrame.shape`, where `DataFrame` should be replaced with the variable name of your data (see the cell above). The `.shape` attribute returns a tuple that includes the number of rows as the first element and the number of columns as the second element: `(rows, columns)`."
   ]
  },
  {
   "cell_type": "markdown",
   "id": "fa9ac37c",
   "metadata": {
    "deletable": false,
    "editable": false
   },
   "source": [
    "<font color='red'>**Question 1.0.**</font> What is the shape of this data set? Assign the shape to `q1_0`. Use the method above to determine the shape. Do not just type the answer. (0.25 pts)\n",
    "\n",
    "Replace the `...` with your code."
   ]
  },
  {
   "cell_type": "code",
   "execution_count": null,
   "id": "7bee2c3e",
   "metadata": {
    "tags": [
     "otter_answer_cell"
    ]
   },
   "outputs": [],
   "source": [
    "# ANSWER CELL\n",
    "q1_0 = ...\n",
    "q1_0"
   ]
  },
  {
   "cell_type": "code",
   "execution_count": null,
   "id": "c54acbb1",
   "metadata": {
    "deletable": false,
    "editable": false
   },
   "outputs": [],
   "source": [
    "grader.check(\"q1.0\")"
   ]
  },
  {
   "cell_type": "markdown",
   "id": "c1de1848",
   "metadata": {},
   "source": [
    "### Column Labels\n",
    "\n",
    "Each column in a DataFrame has a label/name. Getting column labels is useful when you want to access a specific column by name.\n",
    "Let's check the column labels of the DataFrame.\n",
    "\n",
    "* Get column names using the `.columns` attribute\n",
    "\n",
    "The column labels will appear between square brackets after running the cell below."
   ]
  },
  {
   "cell_type": "code",
   "execution_count": null,
   "id": "761f5c76",
   "metadata": {},
   "outputs": [],
   "source": [
    "# return the column labels of the Dataframe\n",
    "df.columns"
   ]
  },
  {
   "cell_type": "markdown",
   "id": "2ce896bc",
   "metadata": {},
   "source": [
    "So we have three columns, with labels: \n",
    "1. 'BOD(mg/L)'\n",
    "2. 'Nitrates(mg/L)'\n",
    "3. 'Ammonia(mg/L)'"
   ]
  },
  {
   "cell_type": "markdown",
   "id": "67fa68bf",
   "metadata": {},
   "source": [
    "### Indexing Values\n",
    "\n",
    "If you want to get a specific value from the DataFrame (formally known as indexing), let's say the value for row 10 and column 10, you can NOT use `DataFrame[9, 9]`, like you would for a NumPy array. DataFrames are not two-dimensional arrays, although they share some similarities. \n",
    "\n",
    "So let's see how to do it. There are multiple ways to select and index rows and columns from DataFrames.\n",
    "\n",
    "You can index a DataFrame using `DataFrame['column label'][row]`. This will return the value of the column with the label 'column label' at row = row + 1. Remember that Python is 0-indexed. So [0] corresponds to the first row, [1] corresponds to the second row, and so on. You need to use the exact column label (aka, name). You can refer to the output above for the three column labels of our DataFrame.\n",
    "\n",
    "So, if we want the Nitrate value for the fifth row, we would use: `df['Nitrates(mg/L)'][4]` or `df[df.columns[1]][4]` (both will return same answer).\n",
    "* Note that we are using `df.columns[1]` because Nitrates are in the second column of the DataFrame (again, 0-indexing).\n",
    "* Note that we are using `[4]` to get the fifth row because Python is 0-indexed.\n",
    "\n",
    "There are more ways to index a DataFrame, but we will use this for now."
   ]
  },
  {
   "cell_type": "markdown",
   "id": "dc77e904",
   "metadata": {
    "deletable": false,
    "editable": false
   },
   "source": [
    "<font color='red'>**Question 1.1.**</font> What is the BOD in mg/L for the 30$^{th}$ row? You can refer to the column labels in the previous code cell. You can see that the first label is for BOD, so BOD is in the first column. Assign the value to `q1_1`. Use the method above to determine the value. Do not just type the answer. (0.25 pts)\n",
    "\n",
    "Replace the `...` with your code."
   ]
  },
  {
   "cell_type": "code",
   "execution_count": null,
   "id": "2afa9af7",
   "metadata": {
    "tags": [
     "otter_answer_cell"
    ]
   },
   "outputs": [],
   "source": [
    "# ANSWER CELL\n",
    "q1_1 = ...\n",
    "q1_1"
   ]
  },
  {
   "cell_type": "code",
   "execution_count": null,
   "id": "45db9fbd",
   "metadata": {
    "deletable": false,
    "editable": false
   },
   "outputs": [],
   "source": [
    "grader.check(\"q1.1\")"
   ]
  },
  {
   "cell_type": "markdown",
   "id": "db525489",
   "metadata": {},
   "source": [
    "### Create Variables from the DataFrame\n",
    "\n",
    "We will be working with different columns of the DataFrame (biochemical oxygen demand, nitrates, and ammonia). So, let's create different variables for each column in the Dataframe.\n",
    "\n",
    "We can do this in two different ways.\n",
    "* Using `DataFrame['column label']`\n",
    "* Or if you don't want to type out the full column labels, you can use `DataFrame[DataFrame.columns[column]]`, where `[column]` would be the integer index of the column you want. Remember, indexing starts at 0!"
   ]
  },
  {
   "cell_type": "markdown",
   "id": "cff32152",
   "metadata": {
    "deletable": false,
    "editable": false
   },
   "source": [
    "<font color='red'>**Question 1.2.**</font> Assign the values of biochemical oxygen demand, nitrates, and ammonia to the variables `bod`, `nit`, `amm`, respectively. (0.5 pts)\n",
    "\n",
    "Replace the `...` with your code."
   ]
  },
  {
   "cell_type": "code",
   "execution_count": null,
   "id": "b46759cd",
   "metadata": {
    "tags": [
     "otter_answer_cell"
    ]
   },
   "outputs": [],
   "source": [
    "# ANSWER CELL\n",
    "# create variables for biochemical oxygen demand, nitrates, and ammonia\n",
    "# bod is already created for you\n",
    "# replace ... with your code to create nit and amm\n",
    "\n",
    "bod = df[df.columns[0]] # or df['BOD(mg/L)']\n",
    "nit = ...\n",
    "amm = ..."
   ]
  },
  {
   "cell_type": "code",
   "execution_count": null,
   "id": "b14b0121",
   "metadata": {
    "deletable": false,
    "editable": false
   },
   "outputs": [],
   "source": [
    "grader.check(\"q1.2\")"
   ]
  },
  {
   "cell_type": "markdown",
   "id": "32e27ab1",
   "metadata": {},
   "source": [
    "### Check your answer to Question 1.1.\n",
    "\n",
    "You can check your answer to Question 1.1. using `bod[row]`, where row would be the **index** (i.e., row number - 1) of the row you are interested in. You do not need to save it as a variable. This is just for you to double-check your answer."
   ]
  },
  {
   "cell_type": "code",
   "execution_count": null,
   "id": "13df1311",
   "metadata": {},
   "outputs": [],
   "source": [
    "# return BOD value for the 30th row\n",
    "..."
   ]
  },
  {
   "cell_type": "markdown",
   "id": "b8c9c7f8",
   "metadata": {},
   "source": [
    "### Numerical Summaries Using `stats` Module\n",
    "\n",
    "In this part, we will calculate different measures of central tendency and variability for the `nit` data using the `stats` module.\n",
    "\n",
    "* Use the `stats.mean()` function to get mean value\n",
    "* Use the `stats.median()` function to get median\n",
    "* Use the `stats.variance()` function to get sample variance\n",
    "* Use the `stats.stdev()` function to get sample standard deviation\n",
    "* (Not required in the questions) You can use the `stats.mode()` function to get mode\n",
    "\n",
    "So, to get the mode of ammonia, we can use `stats.mode(amm)`, where `amm` is the name of the variable you created above that includes the ammonia measurements."
   ]
  },
  {
   "cell_type": "markdown",
   "id": "9e036f8d",
   "metadata": {
    "deletable": false,
    "editable": false
   },
   "source": [
    "<font color='red'>**Question 2.0.**</font> Answer the following questions. For each question, do not just manually type the numeric answer. Use the methods above to determine the value. \n",
    "* What is the mean of nitrates? Assign your answer to `mean_nit`. (0.25 pts)\n",
    "* What is the median of nitrates? Assign your answer to `median_nit`. (0.25 pts)\n",
    "* Is the mean of nitrates less than its median? Construct a logical expression that returns `True` or `False` to answer this question and assign the expression to `q2_0`. (0.25 pts)\n",
    "* What is the variance of nitrates? Assign your answer to `var_nit`. (0.25 pts)\n",
    "* What is the standard deviation of nitrates? Assign your answer to `stdev_nit`. (0.25 pts)\n",
    "* What is the coefficient of variation of nitrates? Compute this value as a decimal and not a percentage. Assign your answer to `cv_nit`. (0.5 pts)"
   ]
  },
  {
   "cell_type": "code",
   "execution_count": null,
   "id": "575591dc",
   "metadata": {
    "tags": [
     "otter_answer_cell"
    ]
   },
   "outputs": [],
   "source": [
    "# ANSWER CELL\n",
    "# calculate the mean of nitrates\n",
    "mean_nit = ...\n",
    "print(f'Mean: {mean_nit:.3f}') if not isinstance(mean_nit, type(Ellipsis)) else None\n",
    "\n",
    "# calculate the median of nitrates\n",
    "median_nit = ...\n",
    "print(f'Median: {median_nit:.3f}') if not isinstance(median_nit, type(Ellipsis)) else None\n",
    "\n",
    "# compare the mean and median of nitrates\n",
    "q2_0 = ...\n",
    "print(f'The mean is less than the median: {q2_0}') if not isinstance(q2_0, type(Ellipsis)) else None\n",
    "\n",
    "# calculate the variance of nitrates\n",
    "var_nit = ...\n",
    "print(f'Variance: {var_nit:.3f}') if not isinstance(var_nit, type(Ellipsis)) else None\n",
    "\n",
    "# calculate the standard deviation of nitrates\n",
    "stdev_nit = ...\n",
    "print(f'Standard deviation: {stdev_nit:.3f}') if not isinstance(stdev_nit, type(Ellipsis)) else None\n",
    "\n",
    "# calculate the coefficient of variation of nitrates\n",
    "cv_nit = ...\n",
    "print(f'Coefficient of variation: {cv_nit:.3f}') if not isinstance(cv_nit, type(Ellipsis)) else None"
   ]
  },
  {
   "cell_type": "code",
   "execution_count": null,
   "id": "45713d0b",
   "metadata": {
    "deletable": false,
    "editable": false
   },
   "outputs": [],
   "source": [
    "grader.check(\"q2.0\")"
   ]
  },
  {
   "cell_type": "markdown",
   "id": "57b78c1f",
   "metadata": {},
   "source": [
    "As scientists and engineers, never report data or measurements without explicitly stating the corresponding units, unless the value is unitless. Including units is crucial for ensuring the accuracy, clarity, and reproducibility of scientific findings. Omitting units can lead to confusion, misinterpretation, and potential errors in analyses. If I ask you to design a structure that can withstand a load equal to 2, how would you proceed? Is it 2 kN? 2 ton? 2 kips? The unit matters.\n",
    "\n",
    "\n",
    "Therefore, as a fundamental practice in scientific communication, always accompany numerical data with their appropriate units to maintain precision and enhance the overall reliability of research outcomes."
   ]
  },
  {
   "cell_type": "markdown",
   "id": "857b6028",
   "metadata": {
    "deletable": false,
    "editable": false
   },
   "source": [
    "<font color='red'>**Question 2.1.**</font> Answer the following questions:\n",
    "\n",
    "* What are the units of the variance of nitrates? Assign your answer to the variable `units_var` as a string. (0.25 pts)\n",
    "\n",
    "    **A.** $mg/L$ \\\n",
    "    **B.** $mg^2/L^2$ \\\n",
    "    **C.** $mg/L^2$ \\\n",
    "    **D.** $mg^2/L$ \\\n",
    "    **E.** Unitless\n",
    "    \n",
    "    \n",
    "* What are the units of the coefficient of variation of nitrates? Assign your answer to the variable `units_cv` as a string. (0.5 pts)\n",
    "\n",
    "    **A.** $mg/L$ \\\n",
    "    **B.** $mg^2/L^2$ \\\n",
    "    **C.** $mg/L^2$ \\\n",
    "    **D.** $mg^2/L$ \\\n",
    "    **E.** Unitless\n",
    "\n",
    "Your answer should be a string, e.g., `\"A\"`, `\"B\"`, etc.\\\n",
    "Remember to put quotes around your answer choice."
   ]
  },
  {
   "cell_type": "code",
   "execution_count": null,
   "id": "1daa7248",
   "metadata": {
    "tags": [
     "otter_answer_cell"
    ]
   },
   "outputs": [],
   "source": [
    "# ANSWER CELL\n",
    "units_var = ...\n",
    "units_cv = ...\n",
    "f'Units variance: {units_var}, Units coefficient of variation: {units_cv}'"
   ]
  },
  {
   "cell_type": "code",
   "execution_count": null,
   "id": "2ee30aa7",
   "metadata": {
    "deletable": false,
    "editable": false
   },
   "outputs": [],
   "source": [
    "grader.check(\"q2.1\")"
   ]
  },
  {
   "cell_type": "markdown",
   "id": "b2da6ab3",
   "metadata": {},
   "source": [
    "### Numerical Summaries Using `numpy` Package\n",
    "\n",
    "Numerical summaries can also be calculated using the `numpy` package. However, it is important to understand any possible differences between packages. Let's look at an example also for the `nit` data.\n",
    "\n",
    "* Use the `np.std()` function with the default parameters"
   ]
  },
  {
   "cell_type": "markdown",
   "id": "3cc88a53",
   "metadata": {
    "deletable": false,
    "editable": false
   },
   "source": [
    "<font color='red'>**Question 3.0.**</font> Answer the following questions. For each question, do not just manually type the numeric answer. Use the methods above to determine the value. \n",
    "* What is the standard deviation of nitrates using `np.std()`? Assign your answer to `stdev_nit_np`. (0.4 pts)\n",
    "* Are the standard deviations computed using `stats` module (saved as variable `stdev_nit`) and `numpy` (saved as variable `stdev_nit_np`) package equal? Construct a logical expression to answer this question and assign it to `q3_0`. (0.1 pts)"
   ]
  },
  {
   "cell_type": "code",
   "execution_count": null,
   "id": "9999ccc5",
   "metadata": {
    "tags": [
     "otter_answer_cell"
    ]
   },
   "outputs": [],
   "source": [
    "# ANSWER CELL\n",
    "# calculate the variance of nitrates\n",
    "stdev_nit_np = ...\n",
    "print(f'Standard deviation using numpy: {stdev_nit_np:.3f}')\n",
    "\n",
    "# compare the standard deviation\n",
    "q3_0 = ...\n",
    "print(f'The standard deviation computed using numpy is equal to that computed using stats: {q3_0}')"
   ]
  },
  {
   "cell_type": "code",
   "execution_count": null,
   "id": "c0d977d5",
   "metadata": {
    "deletable": false,
    "editable": false
   },
   "outputs": [],
   "source": [
    "grader.check(\"q3.0\")"
   ]
  },
  {
   "cell_type": "markdown",
   "id": "85216c25",
   "metadata": {},
   "source": [
    "### Why Are the Values Different?\n",
    "\n",
    "If you got slightly different values from `stats.stdev()` and `np.std()`, do not freak out! If you got the same values, you did something wrong, so go back.\n",
    "\n",
    "Let's try to understand this difference.\n",
    "\n",
    "To answer the next question, you need to understand how `np.std()` works. You can read more about it [here](https://numpy.org/doc/stable/reference/generated/numpy.std.html). Specifically, read and understand the `ddof` parameter."
   ]
  },
  {
   "cell_type": "markdown",
   "id": "693a6224",
   "metadata": {
    "deletable": false,
    "editable": false
   },
   "source": [
    "<font color='red'>**Question 3.1.**</font> Why are the values from `stats.stdev()` and `np.std()` different? Assign ALL that apply to the variable `q3_1`. (0.5 pts)\n",
    "\n",
    "**A.** By default, `np.std()` returns the population standard deviation and not sample standard deviation \\\n",
    "**B.** `np.std()` takes an optional parameter `ddof`: \"Delta Degrees of Freedom\". By default, this is 0 \\\n",
    "**C.** `np.std()` returns the variance and not standard deviation \\\n",
    "**D.** Round-off errors\n",
    "\n",
    "Answer in the next cell. Add each selected choice as a string and separate each two answer choices by a comma. For example, if you want to select `\"A\"` and `\"B\"`, your answer should be `\"A\", \"B\"`.\\\n",
    "Assign your answer to the given variable.\n",
    "Remember to put quotes around each answer choice."
   ]
  },
  {
   "cell_type": "code",
   "execution_count": null,
   "id": "d7d24449",
   "metadata": {
    "tags": [
     "otter_answer_cell"
    ]
   },
   "outputs": [],
   "source": [
    "# ANSWER CELL\n",
    "q3_1 = ...\n",
    "q3_1"
   ]
  },
  {
   "cell_type": "code",
   "execution_count": null,
   "id": "3edbabc3",
   "metadata": {
    "deletable": false,
    "editable": false
   },
   "outputs": [],
   "source": [
    "grader.check(\"q3.1\")"
   ]
  },
  {
   "cell_type": "markdown",
   "id": "50f9f26d",
   "metadata": {},
   "source": [
    "### Other Numerical Summaries in `numpy`\n",
    "\n",
    "The `numpy` package has other functions for numerical summaries."
   ]
  },
  {
   "cell_type": "markdown",
   "id": "260abae7",
   "metadata": {
    "deletable": false,
    "editable": false
   },
   "source": [
    "<font color='red'>**Question 3.2.**</font> Which of the following `numpy` functions exist to calculate numerical summaries similar to the `stats` module? Assign ALL that apply to the variable `q3_2`. (0.5 pts)\n",
    "\n",
    "**A.** `np.mean()`\\\n",
    "**B.** `np.median()`\\\n",
    "**C.** `np.mode()`\n",
    "\n",
    "Try to use the above functions on `nit`. If a function does not exist and you try to run it, you will get an error. If that happens, add a `#` before the code to comment this line and not run it. You should submit your file at the end with **no errors**, so make sure to comment any functions that do not exist in `numpy`.\n",
    "\n",
    "Answer in the next cell. Add each selected choice as a string and separate each two answer choices by a comma. For example, if you want to select `\"A\"` and `\"B\"`, your answer should be `\"A\", \"B\"`.\\\n",
    "Assign your answer to the given variable.\n",
    "Remember to put quotes around each answer choice."
   ]
  },
  {
   "cell_type": "code",
   "execution_count": null,
   "id": "418fffa6",
   "metadata": {
    "tags": [
     "otter_answer_cell"
    ]
   },
   "outputs": [],
   "source": [
    "# ANSWER CELL\n",
    "# try to use the above functions\n",
    "...\n",
    "...\n",
    "..."
   ]
  },
  {
   "cell_type": "code",
   "execution_count": null,
   "id": "bbc31f53",
   "metadata": {
    "tags": [
     "otter_answer_cell"
    ]
   },
   "outputs": [],
   "source": [
    "# ANSWER CELL\n",
    "q3_2 = ...\n",
    "q3_2"
   ]
  },
  {
   "cell_type": "code",
   "execution_count": null,
   "id": "94afbf80",
   "metadata": {
    "deletable": false,
    "editable": false
   },
   "outputs": [],
   "source": [
    "grader.check(\"q3.2\")"
   ]
  },
  {
   "cell_type": "markdown",
   "id": "98694bfd",
   "metadata": {},
   "source": [
    "### Other Methods to Get Numerical Summaries\n",
    "\n",
    "There are other packages besides `stats` and `numpy` to get numerical summaries. Always make sure you understand the default parameters and check your values using different packages when in doubt.\n",
    "\n",
    "Finally, let's use the `describe()` method of Dataframes to get several descriptive statistics for the `nit` data.\n",
    "\n",
    "* Use the `DataFrame.describe()` method with the default parameters, where `DataFrame` should be replaced with the variable name of your data\n",
    "\n",
    "You can read more about it here: [`DataFrame.describe()`](https://pandas.pydata.org/docs/reference/api/pandas.DataFrame.describe.html)."
   ]
  },
  {
   "cell_type": "markdown",
   "id": "f6562d6b",
   "metadata": {
    "deletable": false,
    "editable": false
   },
   "source": [
    "<font color='red'>**Question 4.0.**</font> Which of the following is(are) output(s), by default, of the `describe()` function? Assign ALL that apply to the variable `q4_0`. (0.5 pts)\n",
    "\n",
    "**A.** Mean\\\n",
    "**B.** Median\\\n",
    "**C.** Mode\\\n",
    "**D.** 25th percentile\n",
    "\n",
    "Answer in the next cell. Add each selected choice as a string and separate each two answer choices by a comma. For example, if you want to select `\"A\"` and `\"B\"`, your answer should be `\"A\", \"B\"`.\\\n",
    "Assign your answer to the given variable.\n",
    "Remember to put quotes around each answer choice."
   ]
  },
  {
   "cell_type": "code",
   "execution_count": null,
   "id": "f7448bfa",
   "metadata": {
    "tags": [
     "otter_answer_cell"
    ]
   },
   "outputs": [],
   "source": [
    "# ANSWER CELL\n",
    "# get descriptive statistics for nitrates using DataFrame.describe()\n",
    "# replace DataFrame with the variable you want\n",
    "nit_stats = ...\n",
    "print(nit_stats)"
   ]
  },
  {
   "cell_type": "code",
   "execution_count": null,
   "id": "9f636274",
   "metadata": {
    "tags": [
     "otter_answer_cell"
    ]
   },
   "outputs": [],
   "source": [
    "# ANSWER CELL\n",
    "q4_0 = ...\n",
    "q4_0"
   ]
  },
  {
   "cell_type": "code",
   "execution_count": null,
   "id": "939e0ff0",
   "metadata": {
    "deletable": false,
    "editable": false
   },
   "outputs": [],
   "source": [
    "grader.check(\"q4.0\")"
   ]
  },
  {
   "cell_type": "markdown",
   "id": "dc0dbfc8",
   "metadata": {},
   "source": [
    "### Histogram Plots Using `matplotlib.pyplot`\n",
    "\n",
    "In this part, we will plot histograms for the `bod` data using `matplotlib.pyplot`.\n",
    "\n",
    "* Read more about `plt.hist()` [here](https://matplotlib.org/stable/api/_as_gen/matplotlib.pyplot.hist.html).\n",
    "* You can also run `?plt.hist` in a code cell to read more about it\n",
    "* You will need to understand the following parameters to solve the next questions:\n",
    "    * bins\n",
    "    * weights"
   ]
  },
  {
   "cell_type": "code",
   "execution_count": null,
   "id": "32077170",
   "metadata": {},
   "outputs": [],
   "source": [
    "# learn more about matplotlib.pyplot.hist\n",
    "?plt.hist"
   ]
  },
  {
   "cell_type": "markdown",
   "id": "491a628c",
   "metadata": {
    "deletable": false,
    "editable": false
   },
   "source": [
    "<font color='red'>**Question 5.0.**</font> Plot a histogram for the `bod` data with `bins=5` then answer the questions below. To clearly see the bars, you can specify the edge color of the bins as follows, where `k` stands for black:\n",
    "* `plt.hist(bod, bins=5, edgecolor='k')`\n",
    "\n",
    "Answer the following questions. For each question, manually type the numeric answer.\n",
    "* What is the maximum frequency that you observe? Assign your answer to `max_freq`. (0.25 pts)\n",
    "* How many bins share this maximum frequency? Assign your answer to `max_bins`. (0.25 pts)"
   ]
  },
  {
   "cell_type": "code",
   "execution_count": null,
   "id": "78980817",
   "metadata": {
    "tags": [
     "otter_answer_cell"
    ]
   },
   "outputs": [],
   "source": [
    "# ANSWER CELL\n",
    "# plot a histogram of BOD using bins = 5 (simply copy the line of code from the text above)\n",
    "...\n",
    "\n",
    "# display all figures\n",
    "plt.show()"
   ]
  },
  {
   "cell_type": "code",
   "execution_count": null,
   "id": "6c1aef93",
   "metadata": {
    "tags": [
     "otter_answer_cell"
    ]
   },
   "outputs": [],
   "source": [
    "# ANSWER CELL\n",
    "# assign the numeric values\n",
    "max_freq = ...\n",
    "max_bins = ...\n",
    "print(f'The maximum frequency is {max_freq} and is observed for {max_bins} bins.')"
   ]
  },
  {
   "cell_type": "code",
   "execution_count": null,
   "id": "32ee6b78",
   "metadata": {
    "deletable": false,
    "editable": false
   },
   "outputs": [],
   "source": [
    "grader.check(\"q5.0\")"
   ]
  },
  {
   "cell_type": "markdown",
   "id": "d23e6498",
   "metadata": {},
   "source": [
    "### Label your axes!!\n",
    "\n",
    "Whenever you are presenting a plot, whether for a lab, homework, or project (and in your professional career), ALWAYS label your axes and add units where relevant. You can also add a title to your plot.\n",
    "\n",
    "Let's re-plot the histogram for the `bod`, now adding axes labels and controlling the appearance of the figure. Run the code below to check it out! In all of the remaining figures, follow a similar format."
   ]
  },
  {
   "cell_type": "code",
   "execution_count": null,
   "id": "035cd84c",
   "metadata": {},
   "outputs": [],
   "source": [
    "# create figure and axes\n",
    "fig_1, ax_1 = plt.subplots(nrows=1, ncols=1, figsize=(4,4))\n",
    "\n",
    "# specify number of bins\n",
    "N = 5\n",
    "\n",
    "# plot first axes (plot)\n",
    "# set title, xlabel, and ylabel\n",
    "ax_1.hist(bod, bins=N, edgecolor='black')\n",
    "ax_1.set(title='5 Bins BOD histogram', \n",
    "         xlabel='BOD (mg/L)', \n",
    "         ylabel='Frequency')\n",
    "\n",
    "# automatically adjust the size and positions\n",
    "plt.tight_layout()\n",
    "\n",
    "# display the figure \n",
    "plt.show()"
   ]
  },
  {
   "cell_type": "markdown",
   "id": "55185545",
   "metadata": {},
   "source": [
    "### Trying Different Bin Numbers"
   ]
  },
  {
   "cell_type": "markdown",
   "id": "bd97272a",
   "metadata": {
    "deletable": false,
    "editable": false
   },
   "source": [
    "<font color='red'>**Question 5.1.**</font> Modify the code below to make three histograms for `bod` with the following number of bins (0.5 pts):\n",
    "1. The first plot should have `bins = 2`\n",
    "2. The second/middle plot should have `bins = 10`\n",
    "3. The third plot should have `bins = 50`"
   ]
  },
  {
   "cell_type": "code",
   "execution_count": null,
   "id": "9caedf3e",
   "metadata": {
    "tags": [
     "otter_answer_cell"
    ]
   },
   "outputs": [],
   "source": [
    "# ANSWER CELL\n",
    "\n",
    "# Do not modify this line for grading purposes\n",
    "import matplotlib.pyplot as plt\n",
    "\n",
    "# Edit the code below to make three histogram subplots in 1 figure (only edit where you have ...)\n",
    "# One way to do so is using plt.subplots(nrows, ncols)\n",
    "# This will create subplots and organizes them in a grid-like structure\n",
    "\n",
    "# I am providing you with many of the commands here for you to practice.\n",
    "\n",
    "# create figure and axes\n",
    "fig_2, ax_2 = plt.subplots(nrows=1, ncols=3, figsize=(12,4))\n",
    "\n",
    "# plot first axes (plot)\n",
    "# specify number of bins for first subplot\n",
    "N = 2\n",
    "# Save the plot as variable q5_1_0\n",
    "q5_1_0 = ax_2[0].hist(bod, bins=N, edgecolor='black') # using ax_2[0] because first subplot is index 0\n",
    "# set title, xlabel, and ylabel\n",
    "ax_2[0].set(title=f'{N} Bins BOD histogram', \n",
    "            xlabel='BOD(mg/L)', \n",
    "            ylabel='Frequency')\n",
    "\n",
    "# plot second axes (plot)\n",
    "# first, specify the number of bins for the second plot\n",
    "N = ...\n",
    "# second, create the plot. The second plot will have index [1].\n",
    "# Save the plot as variable q5_1_1\n",
    "q5_1_1 = ...\n",
    "# third, set title, xlabel, and ylabel\n",
    "...\n",
    "\n",
    "# plot third axes (plot)\n",
    "# specify number of bins\n",
    "N = ...\n",
    "# Save the plot as variable q5_1_2\n",
    "q5_1_2 = ...\n",
    "# set title, xlabel, and ylabel\n",
    "...\n",
    "\n",
    "# automatically adjust the size and positions of the subplots to prevent overlaps\n",
    "plt.tight_layout()\n",
    "\n",
    "# display the figure \n",
    "plt.show()"
   ]
  },
  {
   "cell_type": "code",
   "execution_count": null,
   "id": "1fd8e051",
   "metadata": {
    "deletable": false,
    "editable": false
   },
   "outputs": [],
   "source": [
    "grader.check(\"q5.1\")"
   ]
  },
  {
   "cell_type": "markdown",
   "id": "3e759996",
   "metadata": {
    "deletable": false,
    "editable": false
   },
   "source": [
    "<font color='red'>**Question 5.2.**</font> Based on your plots, which number of bins is optimal for this dataset? Assign your answer to the variable `q_5_2` as a string. (0.5 pts)\n",
    "\n",
    "**A.** `bins = 2`\\\n",
    "**B.** `bins = 10`\\\n",
    "**C.** `bins = 50`\n",
    "\n",
    "Your answer should be a string, e.g., `\"A\"`, `\"B\"`, etc.\\\n",
    "Remember to put quotes around your answer choice."
   ]
  },
  {
   "cell_type": "code",
   "execution_count": null,
   "id": "ba95f3f6",
   "metadata": {
    "tags": [
     "otter_answer_cell"
    ]
   },
   "outputs": [],
   "source": [
    "# ANSWER CELL\n",
    "q5_2 = ...\n",
    "q5_2"
   ]
  },
  {
   "cell_type": "code",
   "execution_count": null,
   "id": "10754795",
   "metadata": {
    "deletable": false,
    "editable": false
   },
   "outputs": [],
   "source": [
    "grader.check(\"q5.2\")"
   ]
  },
  {
   "cell_type": "markdown",
   "id": "2a252527",
   "metadata": {},
   "source": [
    "### Histogram Plot with Frequency, Relative Frequency, and Density\n",
    "\n",
    "So far, we have been specifying the total number of bins, which results in equal bin widths. You can alternatively specify the values for the bin edges, and thus, assign unequal bin widths. So in this part, we will specify the edges of the bins using:\\\n",
    "`bins=[2.2, 2.5, 3.2, 3.3, 3.8, 4.5]`\n",
    "\n",
    "Also, by default, `plt.hist()` plots the frequency (i.e., count of the number of sample data that fall into each bin). We can alternatively plot proportions (i.e., relative frequency: frequency/sample size) or densities (proportions/bin width)."
   ]
  },
  {
   "cell_type": "markdown",
   "id": "caff0d54",
   "metadata": {
    "deletable": false,
    "editable": false
   },
   "source": [
    "<font color='red'>**Question 5.3.**</font> Modify the code below and plot, in the same figure, three histograms for `bod` all using:\\\n",
    "`bins=[2.2, 2.5, 3.2, 3.3, 3.8, 4.5]`, such that (1 pt):\n",
    "\n",
    "1. The first plot should have frequency on the y-axis (code already provided).\n",
    "2. The second (middle) plot should have relative frequency on the y-axis. For this, you need to add between parentheses the parameter `weights=np.ones_like(bod)/len(bod)`, in addition to specifying the bins as defined above. This simply multiplies the data by 1/sample size, which would give us proportions.\n",
    "3. The third plot should have density on the y-axis. For this, you need to to add between parentheses `density=True` (do not specify weights), in addition to specifying the bins as defined above.\n",
    "4. For each plot, set the x-axis label to \"BOD (mg/L)\".\n",
    "5. For each plot, set the correct y-axis label.\n",
    "6. For each plot, set the correct title. The title should include whether the plot is for \"frequency\", \"relative frequency\", or \"density\". Also, the title should mention that this is a \"histogram\" for \"BOD\""
   ]
  },
  {
   "cell_type": "code",
   "execution_count": null,
   "id": "cab54c8a",
   "metadata": {
    "tags": [
     "otter_answer_cell"
    ]
   },
   "outputs": [],
   "source": [
    "# ANSWER CELL\n",
    "\n",
    "# Do not modify this line for grading purposes\n",
    "import matplotlib.pyplot as plt\n",
    "\n",
    "# Edit the code below to make three histogram subplots in 1 figure (only edit where you have ...)\n",
    "# One way to do so is using plt.subplots(nrows, ncols)\n",
    "# This will create subplots and organizes them in a grid-like structure\n",
    "\n",
    "# I am providing you with many of the commands here for you to practice.\n",
    "\n",
    "# create figure and axes\n",
    "fig_3, ax_3 = plt.subplots(nrows=1, ncols=3, figsize=(12,4))\n",
    "\n",
    "# specify bins edges (same for all three subplots)\n",
    "bins = [2.2, 2.5, 3.2, 3.3, 3.8, 4.5]\n",
    "\n",
    "# plot first axes (plot) for frequency\n",
    "q5_3_0 = ax_3[0].hist(bod, bins=bins, edgecolor='black') # using ax_3[0] for first subplot\n",
    "# set title, xlabel, and ylabel\n",
    "ax_3[0].set(title='Frequency BOD histogram',\n",
    "            xlabel='BOD (mg/L)', \n",
    "            ylabel='Frequency')\n",
    "\n",
    "# plot second axes (plot) for relative frequency\n",
    "# Save the plot as variable q5_3_1\n",
    "q5_3_1 = ...\n",
    "# set title, xlabel, and ylabel\n",
    "...\n",
    "\n",
    "# plot third axes (plot) for density\n",
    "# Save the plot as variable q5_3_2\n",
    "q5_3_2 = ...\n",
    "# set title, xlabel, and ylabel\n",
    "...\n",
    "\n",
    "# automatically adjust the size and positions of the subplots to prevent overlaps\n",
    "plt.tight_layout()\n",
    "\n",
    "# display the figure \n",
    "plt.show()"
   ]
  },
  {
   "cell_type": "code",
   "execution_count": null,
   "id": "1fa79d7b",
   "metadata": {
    "deletable": false,
    "editable": false
   },
   "outputs": [],
   "source": [
    "grader.check(\"q5.3\")"
   ]
  },
  {
   "cell_type": "markdown",
   "id": "70997aa4",
   "metadata": {
    "deletable": false,
    "editable": false
   },
   "source": [
    "<font color='red'>**Question 5.4.**</font> Based on your plot of frequency, relative frequency, and density using the given bin edges, which of the following statement(s) is(are) True? Assign ALL that apply to the variable `q5_4`. (0.5 pts)\n",
    "\n",
    "**A.** The maximum density is around 0.8 and occurs between 3.2 and 3.3 mg/L \\\n",
    "**B.** It is appropriate to show a histogram of frequency in this case \\\n",
    "**C.** The three plots for frequency, relative frequency, and density all have the exact same shape, but different y-axis values \\\n",
    "**D.** It is appropriate to show a histogram of relative frequency in this case \\\n",
    "**E.** It is appropriate to show a histogram of density in this case\n",
    "\n",
    "Answer in the next cell. Add each selected choice as a string and separate each two answer choices by a comma. For example, if you want to select `\"A\"` and `\"B\"`, your answer should be `\"A\", \"B\"`.\\\n",
    "Assign your answer to the given variable.\n",
    "Remember to put quotes around each answer choice."
   ]
  },
  {
   "cell_type": "code",
   "execution_count": null,
   "id": "3ba2fe78",
   "metadata": {
    "tags": [
     "otter_answer_cell"
    ]
   },
   "outputs": [],
   "source": [
    "# ANSWER CELL\n",
    "q5_4 = ...\n",
    "q5_4"
   ]
  },
  {
   "cell_type": "code",
   "execution_count": null,
   "id": "17faa591",
   "metadata": {
    "deletable": false,
    "editable": false
   },
   "outputs": [],
   "source": [
    "grader.check(\"q5.4\")"
   ]
  },
  {
   "cell_type": "markdown",
   "id": "be84d600",
   "metadata": {},
   "source": [
    "### Boxplots Using matplotlib.pyplot\n",
    "\n",
    "Boxplots can be plotted using the [`plt.boxplot()`](https://matplotlib.org/stable/api/_as_gen/matplotlib.pyplot.boxplot.html) function.\n",
    "\n",
    "Run the code below to look at an example. We will plot three boxplots for random data `a`, `b`, and `c`."
   ]
  },
  {
   "cell_type": "code",
   "execution_count": null,
   "id": "ed0cb8a0",
   "metadata": {},
   "outputs": [],
   "source": [
    "# randomly generate an array with 100 numbers\n",
    "a = np.random.randn(100)\n",
    "\n",
    "# randomly generate another array with 100 numbers\n",
    "b = 2*(np.random.randn(100)+1)\n",
    "\n",
    "# randomly generate another array with 100 numbers\n",
    "c = 2*(np.random.randn(100)+1)\n",
    "\n",
    "# create figure and axes\n",
    "fig_4, ax_4 = plt.subplots(nrows=1, ncols=3, figsize=(12,4))\n",
    "\n",
    "# plot first axes (plot)\n",
    "# set title, xlabel, and ylabel\n",
    "ax_4[0].boxplot(a)\n",
    "ax_4[0].set(title='boxplot of a',\n",
    "            ylabel='a')\n",
    "\n",
    "# plot second axes (plot) \n",
    "# set title, xlabel, and ylabel\n",
    "ax_4[1].boxplot(b)\n",
    "ax_4[1].set(title='boxplot of b',\n",
    "            ylabel='b')\n",
    "\n",
    "# plot thid axes (plot) \n",
    "# set title, xlabel, and ylabel\n",
    "ax_4[2].boxplot(c)\n",
    "ax_4[2].set(title='boxplot of c',\n",
    "            ylabel='c')\n",
    "\n",
    "# automatically adjust the size and positions of the subplots to prevent overlaps\n",
    "plt.tight_layout()\n",
    "\n",
    "# display the figure \n",
    "plt.show()"
   ]
  },
  {
   "cell_type": "markdown",
   "id": "f1d29d10",
   "metadata": {},
   "source": [
    "If we wish to compare the boxplots of `a`, `b`, and `c`, we should plot them on the same figure. Notice that the limits for the y-axes above are different, and thus, the above plots are not an effective way to compare `a`, `b`, and `c`.\n",
    "\n",
    "Let's plot all boxplots together. This will provide a better graphical representation because we can effectively compare all data sets. Run the code below to create a better boxplot of `a`, `b`, and `c`."
   ]
  },
  {
   "cell_type": "code",
   "execution_count": null,
   "id": "68a4cca5",
   "metadata": {},
   "outputs": [],
   "source": [
    "# create figure and axes\n",
    "fig_5, ax_5 = plt.subplots(nrows=1, ncols=1, figsize=(4,4))\n",
    "\n",
    "# boxplot of a, b, and c in one plot\n",
    "ax_5.boxplot([a, b, c])\n",
    "ax_5.set(title = 'boxplot of a, b, & c',\n",
    "         xticks=[1, 2, 3], \n",
    "         xticklabels=[\"a\", \"b\", \"c\"],\n",
    "         ylabel='Values (units)')\n",
    "\n",
    "# automatically adjust the size and positions of the subplots to prevent overlaps\n",
    "plt.tight_layout()\n",
    "\n",
    "# display the figure \n",
    "plt.show()"
   ]
  },
  {
   "cell_type": "markdown",
   "id": "bc803acc",
   "metadata": {},
   "source": [
    "### Boxplots for `bod`, `nit`, `amm` "
   ]
  },
  {
   "cell_type": "markdown",
   "id": "eb158a6d",
   "metadata": {
    "deletable": false,
    "editable": false
   },
   "source": [
    "<font color='red'>**Question 6.0.**</font> Modify the code below to create three boxplots **in the same plot and in this order**: (1)`bod`, (2)`nit`, (3)`amm` (0.5 pts) .\n",
    "\n",
    "Include the units, mg/L, in the y-axis label.\n",
    "\n",
    "Set the x-axis tick labels equal to `['bod', 'nit', 'amm']`.\n",
    "\n",
    "You can refer to the code above for an example."
   ]
  },
  {
   "cell_type": "code",
   "execution_count": null,
   "id": "c3e05232",
   "metadata": {
    "tags": [
     "otter_answer_cell"
    ]
   },
   "outputs": [],
   "source": [
    "# ANSWER CELL\n",
    "\n",
    "# Do not modify this line for grading purposes\n",
    "import matplotlib.pyplot as plt\n",
    "\n",
    "# create figure and axes\n",
    "fig_6, ax_6 = plt.subplots(nrows=1, ncols=1, figsize=(4,4))\n",
    "\n",
    "# boxplot of bod, nit, and amm in one plot\n",
    "# simply copy the code from above and modify it\n",
    "# NOTE that the axes object is named ax_6. So, you should use ax_6.boxplot(...)\n",
    "# Save the plot as variable q6_0\n",
    "# set xticklabels and ylabel\n",
    "q6_0 = ...\n",
    "...\n",
    "\n",
    "# automatically adjust the size and positions of the subplots to prevent overlaps\n",
    "plt.tight_layout()\n",
    "\n",
    "# display the figure \n",
    "plt.show()"
   ]
  },
  {
   "cell_type": "code",
   "execution_count": null,
   "id": "145b0364",
   "metadata": {
    "deletable": false,
    "editable": false
   },
   "outputs": [],
   "source": [
    "grader.check(\"q6.0\")"
   ]
  },
  {
   "cell_type": "markdown",
   "id": "64340f58",
   "metadata": {
    "deletable": false,
    "editable": false
   },
   "source": [
    "<font color='red'>**Question 6.1.**</font> Based on the boxplots for `bod`, `nit`, `amm`, which of the following statement(s) is(are) true? Assign ALL that apply to the variable `q6_1`. (0.5 pts)\n",
    "\n",
    "**A.** The nitrates variable has the most number of outliers \\\n",
    "**B.** The ammonia variable has the lowest standard deviation \\\n",
    "**C.** The median for BOD is greater than that of nitrates \\\n",
    "**D.** The horizontal orange lines represent the means for each variable \\\n",
    "**E.** The nitrates data are negatively skewed (skewed to the left)\n",
    "\n",
    "Answer in the next cell. Add each selected choice as a string and separate each two answer choices by a comma. For example, if you want to select `\"A\"` and `\"B\"`, your answer should be `\"A\", \"B\"`.\\\n",
    "Assign your answer to the given variable.\n",
    "Remember to put quotes around each answer choice."
   ]
  },
  {
   "cell_type": "code",
   "execution_count": null,
   "id": "8e5c2e57",
   "metadata": {
    "tags": [
     "otter_answer_cell"
    ]
   },
   "outputs": [],
   "source": [
    "# ANSWER CELL\n",
    "q6_1 = ...\n",
    "q6_1"
   ]
  },
  {
   "cell_type": "code",
   "execution_count": null,
   "id": "5082c436",
   "metadata": {
    "deletable": false,
    "editable": false
   },
   "outputs": [],
   "source": [
    "grader.check(\"q6.1\")"
   ]
  },
  {
   "cell_type": "markdown",
   "id": "45b25cd0",
   "metadata": {},
   "source": [
    "### Scatter Plots Using matplotlib.pyplot\n",
    "\n",
    "Scatter plots of bivariate data can be plotted using the [`plt.scatter(x, y)`](https://matplotlib.org/stable/api/_as_gen/matplotlib.pyplot.scatter.html) function.\n",
    "\n",
    "You can control the marker shape, size, fill color, edge color and many more. Click on the function above to read more about some of its parameters.\n",
    "\n",
    "Run the code below to look at an example for data `a` and `b`."
   ]
  },
  {
   "cell_type": "code",
   "execution_count": null,
   "id": "d0a778f0",
   "metadata": {},
   "outputs": [],
   "source": [
    "# create figure and axes\n",
    "fig_7, ax_7 = plt.subplots(nrows=1, ncols=1, figsize=(4,4))\n",
    "\n",
    "# scatter plot of b versus a\n",
    "ax_7.scatter(a, b, c='orange', ec='k')\n",
    "ax_7.set(title = 'Scatterplot of b versus a',\n",
    "         xlabel = 'a',\n",
    "         ylabel = 'b')\n",
    "\n",
    "# automatically adjust the size and positions of the subplots to prevent overlaps\n",
    "plt.tight_layout()\n",
    "\n",
    "# display the figure \n",
    "plt.show()"
   ]
  },
  {
   "cell_type": "markdown",
   "id": "4726f506",
   "metadata": {},
   "source": [
    "### Scatterplot for `bod` and `nit`"
   ]
  },
  {
   "cell_type": "markdown",
   "id": "ba4f1780",
   "metadata": {
    "deletable": false,
    "editable": false
   },
   "source": [
    "<font color='red'>**Question 7.0.**</font> Modify the code below to create a scatter plot of `bod` (y-axis) versus `nit` (x-axis) (0.25 pts).\n",
    "\n",
    "You can refer to the code above for an example."
   ]
  },
  {
   "cell_type": "code",
   "execution_count": null,
   "id": "a3736e4f",
   "metadata": {
    "tags": [
     "otter_answer_cell"
    ]
   },
   "outputs": [],
   "source": [
    "# ANSWER CELL\n",
    "\n",
    "# Do not modify this line for grading purposes\n",
    "import matplotlib.pyplot as plt\n",
    "from matplotlib.collections import PathCollection\n",
    "\n",
    "# create figure and axes\n",
    "fig_8, ax_8 = plt.subplots(nrows=1, ncols=1, figsize=(4,4))\n",
    "\n",
    "# scatter plot\n",
    "# simply copy the code from above and modify it\n",
    "# NOTE that the axes object is named ax_8. So, you should use ax_8.scatter(...)\n",
    "# Save the plot as variable q7_0\n",
    "q7_0 = ...\n",
    "...\n",
    "\n",
    "# automatically adjust the size and positions of the subplots to prevent overlaps\n",
    "plt.tight_layout()\n",
    "\n",
    "# display the figure \n",
    "plt.show()"
   ]
  },
  {
   "cell_type": "code",
   "execution_count": null,
   "id": "0212ed29",
   "metadata": {
    "deletable": false,
    "editable": false
   },
   "outputs": [],
   "source": [
    "grader.check(\"q7.0\")"
   ]
  },
  {
   "cell_type": "markdown",
   "id": "5edbd305",
   "metadata": {
    "deletable": false,
    "editable": false
   },
   "source": [
    "<font color='red'>**Question 7.1.**</font> Based on your scatter plot, what can you tell about the association between BOD and nitrate measurements (positive, negative, none)? Assign your answer to the variable `q7_1` as a string. (0.25 pts)\n",
    "\n",
    "**A.** There is a positive association, meaning, as Nitrates tend to increase, BOD tend to increase, on average. \\\n",
    "**B.** There is a positive association, meaning, as Nitrates tend to increase, BOD tend to decrease, on average. \\\n",
    "**C.** There is a negative association, meaning, as Nitrates tend to decrease, BOD tend to increase, on average. \\\n",
    "**D.** There appears to be no association. \n",
    "\n",
    "Your answer should be a string, e.g., `\"A\"`, `\"B\"`, etc.\\\n",
    "Remember to put quotes around your answer choice."
   ]
  },
  {
   "cell_type": "code",
   "execution_count": null,
   "id": "67e437e5",
   "metadata": {
    "tags": [
     "otter_answer_cell"
    ]
   },
   "outputs": [],
   "source": [
    "# ANSWER CELL\n",
    "q7_1 = ...\n",
    "q7_1"
   ]
  },
  {
   "cell_type": "code",
   "execution_count": null,
   "id": "bc527407",
   "metadata": {
    "deletable": false,
    "editable": false
   },
   "outputs": [],
   "source": [
    "grader.check(\"q7.1\")"
   ]
  },
  {
   "cell_type": "markdown",
   "id": "f20bba6f",
   "metadata": {},
   "source": [
    "### You're done with this Lab!\n",
    "\n",
    "**Important submission information:** After completing the assignment, click on the Save icon from the Tool Bar &nbsp;<i class=\"fa fa-save\" style=\"font-size:16px;\"></i>&nbsp;. After saving your notebook, **run the cell with** `grader.check_all()` and confirm that you pass the same tests as in the notebook. Then, **run the final cell** `grader.export()` and click the link to download the zip file. Finally, go to Gradescope and submit the zip file to the corresponding assignment. \n",
    "\n",
    "**Once you have submitted, stay on the Gradescope page to confirm that you pass the same tests as in the notebook.**"
   ]
  },
  {
   "cell_type": "code",
   "execution_count": null,
   "id": "4d1647c8",
   "metadata": {
    "tags": []
   },
   "outputs": [],
   "source": [
    "%matplotlib inline\n",
    "img = mpimg.imread('resources/animal.jpg')\n",
    "imgplot = plt.imshow(img)\n",
    "imgplot.axes.get_xaxis().set_visible(False)\n",
    "imgplot.axes.get_yaxis().set_visible(False)\n",
    "print(\"Congratulations on finishing this lab!\")\n",
    "plt.show()"
   ]
  },
  {
   "cell_type": "markdown",
   "id": "9ee94746",
   "metadata": {
    "deletable": false,
    "editable": false
   },
   "source": [
    "---\n",
    "\n",
    "To double-check your work, the cell below will rerun all of the autograder tests."
   ]
  },
  {
   "cell_type": "code",
   "execution_count": null,
   "id": "fd766036",
   "metadata": {
    "deletable": false,
    "editable": false
   },
   "outputs": [],
   "source": [
    "grader.check_all()"
   ]
  },
  {
   "cell_type": "markdown",
   "id": "06e0ffe4",
   "metadata": {
    "deletable": false,
    "editable": false
   },
   "source": [
    "## Submission\n",
    "\n",
    "Make sure you have run all cells in your notebook in order before running the cell below, so that all images/graphs appear in the output. The cell below will generate a zip file for you to submit. **Please save before exporting!**\n",
    "\n",
    "Make sure you submit the .zip file to Gradescope."
   ]
  },
  {
   "cell_type": "code",
   "execution_count": null,
   "id": "0ece9337",
   "metadata": {
    "deletable": false,
    "editable": false
   },
   "outputs": [],
   "source": [
    "# Save your notebook first, then run this cell to export your submission.\n",
    "grader.export(pdf=False)"
   ]
  },
  {
   "cell_type": "markdown",
   "id": "42aaafea",
   "metadata": {},
   "source": [
    " "
   ]
  }
 ],
 "metadata": {
  "kernelspec": {
   "display_name": "Python 3 (ipykernel)",
   "language": "python",
   "name": "python3"
  },
  "language_info": {
   "codemirror_mode": {
    "name": "ipython",
    "version": 3
   },
   "file_extension": ".py",
   "mimetype": "text/x-python",
   "name": "python",
   "nbconvert_exporter": "python",
   "pygments_lexer": "ipython3",
   "version": "3.11.13"
  },
  "otter": {
   "OK_FORMAT": true,
   "assignment_name": "lab02",
   "tests": {
    "q1.0": {
     "name": "q1.0",
     "points": 0.25,
     "suites": [
      {
       "cases": [
        {
         "code": ">>> assert len(q1_0) == 2\n>>> assert isinstance(q1_0, tuple)\n",
         "failure_message": "Incorrect answer format. Your answer should be a tuple with two values.",
         "hidden": false,
         "locked": false,
         "points": 0,
         "success_message": "Correct answer format."
        },
        {
         "code": ">>> assert get_hash(q1_0) == 'b2e21042fae9da0e07c67b36ec8b6ece'\n",
         "failure_message": "Incorrect answer.",
         "hidden": false,
         "locked": false,
         "points": 0.25
        }
       ],
       "scored": true,
       "setup": "",
       "teardown": "",
       "type": "doctest"
      }
     ]
    },
    "q1.1": {
     "name": "q1.1",
     "points": 0.25,
     "suites": [
      {
       "cases": [
        {
         "code": ">>> assert get_hash(round(q1_1, 2)) == 'e878d7de08eaf7ff9f6b17a7c74a69a3'\n",
         "failure_message": "Incorrect answer.",
         "hidden": false,
         "locked": false,
         "points": 0.25
        }
       ],
       "scored": true,
       "setup": "",
       "teardown": "",
       "type": "doctest"
      }
     ]
    },
    "q1.2": {
     "name": "q1.2",
     "points": 0.5,
     "suites": [
      {
       "cases": [
        {
         "code": ">>> assert get_hash(len(nit)) == 'a5771bce93e200c36f7cd9dfd0e5deaa'\n>>> assert get_hash(sum(nit)) == 'ea21ec9f0105c377ee6a517577466548'\n",
         "failure_message": "Incorrect answer for nit.",
         "hidden": false,
         "locked": false,
         "points": 0.25
        },
        {
         "code": ">>> assert get_hash(len(amm)) == 'a5771bce93e200c36f7cd9dfd0e5deaa'\n>>> assert get_hash(sum(amm)) == 'c56f63731243d14f264644fac03a875f'\n",
         "failure_message": "Incorrect answer for amm.",
         "hidden": false,
         "locked": false,
         "points": 0.25
        }
       ],
       "scored": true,
       "setup": "",
       "teardown": "",
       "type": "doctest"
      }
     ]
    },
    "q2.0": {
     "name": "q2.0",
     "points": 1.75,
     "suites": [
      {
       "cases": [
        {
         "code": ">>> assert get_hash(round(mean_nit, 10)) == '29ffe183acfd5b038f7852471bdc44b5'\n",
         "failure_message": "Incorrect answer for mean.",
         "hidden": false,
         "locked": false,
         "points": 0.25
        },
        {
         "code": ">>> assert get_hash(round(median_nit, 10)) == '8f66c7eeb1b6527818fff27037d9a7ce'\n",
         "failure_message": "Incorrect answer for median.",
         "hidden": false,
         "locked": false,
         "points": 0.25
        },
        {
         "code": ">>> assert get_hash(q2_0) == 'f827cf462f62848df37c5e1e94a4da74'\n",
         "failure_message": "Incorrect comparison between mean and median. Your expression should retrun True or False, depending on whether the mean of nitrates is less than the median.",
         "hidden": false,
         "locked": false,
         "points": 0.25
        },
        {
         "code": ">>> assert get_hash(round(var_nit, 10)) == '5a469c38884862411e5c25d88aa366b3'\n",
         "failure_message": "Incorrect answer for variance.",
         "hidden": false,
         "locked": false,
         "points": 0.25
        },
        {
         "code": ">>> assert get_hash(round(stdev_nit, 10)) == 'a3cb463cb66bad8aa2324bd40e36a68b'\n",
         "failure_message": "Incorrect answer for standard deviation.",
         "hidden": false,
         "locked": false,
         "points": 0.25
        },
        {
         "code": ">>> assert get_hash(round(cv_nit, 10)) == '8724165084c8a9a582bb4cfe5b70f10e'\n",
         "failure_message": "Incorrect answer for coefficient of variation.",
         "hidden": false,
         "locked": false,
         "points": 0.5
        }
       ],
       "scored": true,
       "setup": "",
       "teardown": "",
       "type": "doctest"
      }
     ]
    },
    "q2.1": {
     "name": "q2.1",
     "points": 0.75,
     "suites": [
      {
       "cases": [
        {
         "code": ">>> assert len(units_var) == 1\n>>> assert isinstance(units_var, str)\n>>> assert len(units_cv) == 1\n>>> assert isinstance(units_cv, str)\n",
         "failure_message": "Incorrect answer format. Make sure you only have the letter of your answer choice in quotes.",
         "hidden": false,
         "locked": false,
         "points": 0,
         "success_message": "Correct answer format."
        },
        {
         "code": ">>> assert get_hash(units_var.upper()) == '9d5ed678fe57bcca610140957afab571'\n",
         "failure_message": "Incorrect answer for variance.",
         "hidden": false,
         "locked": false,
         "points": 0.25
        },
        {
         "code": ">>> assert get_hash(units_cv.upper()) == '3a3ea00cfc35332cedf6e5e9a32e94da'\n",
         "failure_message": "Incorrect answer for coefficient of variation.",
         "hidden": false,
         "locked": false,
         "points": 0.5
        }
       ],
       "scored": true,
       "setup": "",
       "teardown": "",
       "type": "doctest"
      }
     ]
    },
    "q3.0": {
     "name": "q3.0",
     "points": 0.5,
     "suites": [
      {
       "cases": [
        {
         "code": ">>> assert get_hash(round(stdev_nit_np, 10)) == 'bcf64f6dfd6c65bc771c8be7cfb1571f'\n",
         "failure_message": "Incorrect answer for standard deviation.",
         "hidden": false,
         "locked": false,
         "points": 0.4
        },
        {
         "code": ">>> assert get_hash(q3_0) == 'f8320b26d30ab433c5a54546d21f414c'\n",
         "failure_message": "Incorrect comparison. Your expression should retrun True or False, depending on whether the values are equal or not.",
         "hidden": false,
         "locked": false,
         "points": 0.1
        }
       ],
       "scored": true,
       "setup": "",
       "teardown": "",
       "type": "doctest"
      }
     ]
    },
    "q3.1": {
     "name": "q3.1",
     "points": 0.5,
     "suites": [
      {
       "cases": [
        {
         "code": ">>> assert isinstance(q3_1, (tuple, str))\n>>> assert all((isinstance(option, str) for option in q3_1))\n>>> assert all((len(option) == 1 for option in q3_1))\n",
         "failure_message": "Incorrect answer format. Make sure you only have the letter of your answer choice in quotes and answers are separated by commas.",
         "hidden": false,
         "locked": false,
         "points": 0,
         "success_message": "Correct answer format."
        },
        {
         "code": ">>> assert get_hash('A' in q3_1 or 'a' in q3_1) == 'f827cf462f62848df37c5e1e94a4da74'\n",
         "failure_message": "Incorrect answer.",
         "hidden": false,
         "locked": false,
         "points": 0.2
        },
        {
         "code": ">>> assert get_hash('B' in q3_1 or 'b' in q3_1) == 'f827cf462f62848df37c5e1e94a4da74'\n",
         "failure_message": "Incorrect answer.",
         "hidden": false,
         "locked": false,
         "points": 0.2
        },
        {
         "code": ">>> assert get_hash('C' in q3_1 or 'c' in q3_1) == 'f8320b26d30ab433c5a54546d21f414c'\n",
         "failure_message": "Incorrect answer.",
         "hidden": false,
         "locked": false,
         "points": 0.05
        },
        {
         "code": ">>> assert get_hash('D' in q3_1 or 'd' in q3_1) == 'f8320b26d30ab433c5a54546d21f414c'\n",
         "failure_message": "Incorrect answer.",
         "hidden": false,
         "locked": false,
         "points": 0.05
        }
       ],
       "scored": true,
       "setup": "",
       "teardown": "",
       "type": "doctest"
      }
     ]
    },
    "q3.2": {
     "name": "q3.2",
     "points": 0.5,
     "suites": [
      {
       "cases": [
        {
         "code": ">>> assert isinstance(q3_2, (tuple, str))\n>>> assert all((isinstance(option, str) for option in q3_2))\n>>> assert all((len(option) == 1 for option in q3_2))\n",
         "failure_message": "Incorrect answer format. Make sure you only have the letter of your answer choice in quotes and answers are separated by commas.",
         "hidden": false,
         "locked": false,
         "points": 0,
         "success_message": "Correct answer format."
        },
        {
         "code": ">>> assert any(('7fc56270e7a70fa81a5935b72eacbe29' == get_hash(option.upper()) for option in q3_2))\n",
         "failure_message": "Incorrect answer.",
         "hidden": false,
         "locked": false,
         "points": 0.225
        },
        {
         "code": ">>> assert any(('9d5ed678fe57bcca610140957afab571' == get_hash(option.upper()) for option in q3_2))\n",
         "failure_message": "Incorrect answer.",
         "hidden": false,
         "locked": false,
         "points": 0.225
        },
        {
         "code": ">>> assert not any(('0d61f8370cad1d412f80b84d143e1257' == get_hash(option.upper()) for option in q3_2))\n",
         "failure_message": "Incorrect answer.",
         "hidden": false,
         "locked": false,
         "points": 0.05
        }
       ],
       "scored": true,
       "setup": "",
       "teardown": "",
       "type": "doctest"
      }
     ]
    },
    "q4.0": {
     "name": "q4.0",
     "points": 0.5,
     "suites": [
      {
       "cases": [
        {
         "code": ">>> assert isinstance(q4_0, (tuple, str))\n>>> assert all((isinstance(option, str) for option in q4_0))\n>>> assert all((len(option) == 1 for option in q4_0))\n",
         "failure_message": "Incorrect answer format. Make sure you only have the letter of your answer choice in quotes and answers are separated by commas.",
         "hidden": false,
         "locked": false,
         "points": 0,
         "success_message": "Correct answer format."
        },
        {
         "code": ">>> assert any(('7fc56270e7a70fa81a5935b72eacbe29' == get_hash(option.upper()) for option in q4_0))\n",
         "failure_message": "Incorrect answer.",
         "hidden": false,
         "locked": false,
         "points": 0.15
        },
        {
         "code": ">>> assert any(('9d5ed678fe57bcca610140957afab571' == get_hash(option.upper()) for option in q4_0))\n",
         "failure_message": "Incorrect answer.",
         "hidden": false,
         "locked": false,
         "points": 0.15
        },
        {
         "code": ">>> assert any(('f623e75af30e62bbd73d6df5b50bb7b5' == get_hash(option.upper()) for option in q4_0))\n",
         "failure_message": "Incorrect answer.",
         "hidden": false,
         "locked": false,
         "points": 0.15
        },
        {
         "code": ">>> assert not any(('0d61f8370cad1d412f80b84d143e1257' == get_hash(option.upper()) for option in q4_0))\n",
         "failure_message": "Incorrect answer.",
         "hidden": false,
         "locked": false,
         "points": 0.05
        }
       ],
       "scored": true,
       "setup": "",
       "teardown": "",
       "type": "doctest"
      }
     ]
    },
    "q5.0": {
     "name": "q5.0",
     "points": 0.5,
     "suites": [
      {
       "cases": [
        {
         "code": ">>> assert get_hash(int(max_freq)) == 'c20ad4d76fe97759aa27a0c99bff6710'\n",
         "failure_message": "Incorrect answer for maximum frequency.",
         "hidden": false,
         "locked": false,
         "points": 0.25
        },
        {
         "code": ">>> assert get_hash(int(max_bins)) == 'c81e728d9d4c2f636f067f89cc14862c'\n",
         "failure_message": "Incorrect answer for number of bins.",
         "hidden": false,
         "locked": false,
         "points": 0.25
        }
       ],
       "scored": true,
       "setup": "",
       "teardown": "",
       "type": "doctest"
      }
     ]
    },
    "q5.1": {
     "name": "q5.1",
     "points": 0.5,
     "suites": [
      {
       "cases": [
        {
         "code": ">>> assert isinstance(q5_1_0, tuple)\n>>> assert isinstance(q5_1_1, tuple)\n>>> assert isinstance(q5_1_2, tuple)\n>>> assert len(q5_1_0) == 3\n>>> assert len(q5_1_1) == 3\n>>> assert len(q5_1_2) == 3\n",
         "failure_message": "Make sure to save the histograms as objects \"q5_1_0\", \"q5_1_1\", \"q5_1_2\".",
         "hidden": false,
         "locked": false,
         "points": 0
        },
        {
         "code": ">>> assert get_hash(len(q5_1_0[0])) == 'c81e728d9d4c2f636f067f89cc14862c'\n>>> assert get_hash(len(q5_1_0[1])) == 'eccbc87e4b5ce2fe28308fd9f2a7baf3'\n>>> assert get_hash(sum(q5_1_0[0])) == '140c93142d2695247f269ee4af3001b0'\n>>> assert get_hash(sum(q5_1_0[1])) == '0f71debbbf7482af76bfcf51281ca3b4'\n",
         "failure_message": "Check histogram for N = 2. Do not edit the code for q5_1_0.",
         "hidden": false,
         "locked": false,
         "points": 0
        },
        {
         "code": ">>> assert get_hash(len(q5_1_1[0])) == 'd3d9446802a44259755d38e6d163e820'\n>>> assert get_hash(len(q5_1_1[1])) == '6512bd43d9caa6e02c990b0a82652dca'\n>>> assert get_hash(sum(q5_1_1[0])) == '140c93142d2695247f269ee4af3001b0'\n>>> assert get_hash(sum(q5_1_1[1])) == '0c7222e0c37195904a780a6cec18fa01'\n",
         "failure_message": "Check histogram for N = 10.",
         "hidden": false,
         "locked": false,
         "points": 0.25
        },
        {
         "code": ">>> assert get_hash(len(q5_1_2[0])) == 'c0c7c76d30bd3dcaefc96f40275bdc0a'\n>>> assert get_hash(len(q5_1_2[1])) == '2838023a778dfaecdc212708f721b788'\n>>> assert get_hash(sum(q5_1_2[0])) == '140c93142d2695247f269ee4af3001b0'\n>>> assert get_hash(sum(q5_1_2[1])) == '27ff9bfcef066862e4e924e3e8ae9234'\n",
         "failure_message": "Check histogram for N = 50.",
         "hidden": false,
         "locked": false,
         "points": 0.25
        }
       ],
       "scored": true,
       "setup": "",
       "teardown": "",
       "type": "doctest"
      }
     ]
    },
    "q5.2": {
     "name": "q5.2",
     "points": 0.5,
     "suites": [
      {
       "cases": [
        {
         "code": ">>> assert len(q5_2) == 1\n>>> assert isinstance(q5_2, str)\n",
         "failure_message": "Incorrect answer format. Make sure you only have the letter of your answer choice in quotes.",
         "hidden": false,
         "locked": false,
         "points": 0,
         "success_message": "Correct answer format."
        },
        {
         "code": ">>> assert get_hash(q5_2.upper()) == '9d5ed678fe57bcca610140957afab571'\n>>> assert isinstance(q5_1_0, tuple)\n>>> assert isinstance(q5_1_1, tuple)\n>>> assert isinstance(q5_1_2, tuple)\n>>> assert len(q5_1_0) == 3\n>>> assert len(q5_1_1) == 3\n>>> assert len(q5_1_2) == 3\n",
         "failure_message": "Incorrect answer.",
         "hidden": false,
         "locked": false,
         "points": 0.5
        }
       ],
       "scored": true,
       "setup": "",
       "teardown": "",
       "type": "doctest"
      }
     ]
    },
    "q5.3": {
     "name": "q5.3",
     "points": null,
     "suites": [
      {
       "cases": [
        {
         "code": ">>> assert type(fig_3).__name__ == 'Figure'\n>>> assert len(ax_3) == 3\n",
         "failure_message": "Make sure to create a figure with 1x3 subplot layout and assign them to \"fig_3\" and \"ax_3\".",
         "hidden": false,
         "locked": false,
         "points": 0
        },
        {
         "code": ">>> assert isinstance(q5_3_0, tuple)\n>>> assert isinstance(q5_3_1, tuple)\n>>> assert isinstance(q5_3_2, tuple)\n>>> assert len(q5_3_0) == 3\n>>> assert len(q5_3_1) == 3\n>>> assert len(q5_3_2) == 3\n",
         "failure_message": "Make sure to save the histograms as objects \"q5_3_0\", \"q5_3_1\", \"q5_3_2\".",
         "hidden": false,
         "locked": false,
         "points": 0
        },
        {
         "code": ">>> assert get_hash(len(q5_3_0[0])) == 'e4da3b7fbbce2345d7772b0674a318d5'\n>>> assert get_hash(len(q5_3_0[1])) == '1679091c5a880faf6fb5e6087eb1b2dc'\n>>> assert get_hash(sum(q5_3_0[0])) == '140c93142d2695247f269ee4af3001b0'\n>>> assert get_hash(sum(q5_3_0[1])) == '5276857864dd0d201daa7c2f2b3e8a71'\n",
         "failure_message": "Check frequency histogram data. Do not edit the code for q5_2_0.",
         "hidden": false,
         "locked": false,
         "points": 0
        },
        {
         "code": ">>> assert get_hash(len(q5_3_1[0])) == 'e4da3b7fbbce2345d7772b0674a318d5'\n>>> assert get_hash(len(q5_3_1[1])) == '1679091c5a880faf6fb5e6087eb1b2dc'\n>>> assert get_hash(sum(q5_3_1[0])) == '7083dd3fcc3b8b8c81e2409c38ec454c'\n>>> assert get_hash(sum(q5_3_1[1])) == '5276857864dd0d201daa7c2f2b3e8a71'\n",
         "failure_message": "Check relative frequency histogram data. Make sure you are specifying the correct bins and correctly specifying weights.",
         "hidden": false,
         "locked": false,
         "points": 0.25
        },
        {
         "code": ">>> assert get_hash(len(q5_3_2[0])) == 'e4da3b7fbbce2345d7772b0674a318d5'\n>>> assert get_hash(len(q5_3_2[1])) == '1679091c5a880faf6fb5e6087eb1b2dc'\n>>> assert get_hash(sum(q5_3_2[0])) == '6e9e1b05d61707c2e57bbd7a443fb511'\n>>> assert get_hash(sum(q5_3_2[1])) == '5276857864dd0d201daa7c2f2b3e8a71'\n",
         "failure_message": "Check density histogram data. Make sure you are specifying the correct bins and correctly specifying density.",
         "hidden": false,
         "locked": false,
         "points": 0.25
        },
        {
         "code": ">>> keywords = ['BOD', 'MG', '/', 'L']\n>>> for ax in fig_3.axes:\n...     assert all((word in ax.get_xlabel().upper() for word in keywords)), 'Check the x-axis labels.'\n",
         "failure_message": "Check x-axis labels. Make sure correct units are included.",
         "hidden": false,
         "locked": false,
         "points": 0.2
        },
        {
         "code": ">>> keywords = ['FREQUENCY']\n>>> assert all((word in fig_3.axes[0].get_ylabel().upper() for word in keywords))\n",
         "failure_message": "Check y-axis labels.",
         "hidden": false,
         "locked": false,
         "points": 0.05
        },
        {
         "code": ">>> keywords = ['RELATIVE', 'FREQUENCY']\n>>> assert all((word in fig_3.axes[1].get_ylabel().upper() for word in keywords))\n",
         "failure_message": "Check y-axis labels.",
         "hidden": false,
         "locked": false,
         "points": 0.05
        },
        {
         "code": ">>> keywords = ['DENSITY']\n>>> assert all((word in fig_3.axes[2].get_ylabel().upper() for word in keywords))\n>>> assert 'FREQUENCY' not in fig_3.axes[2].get_ylabel().upper()\n>>> assert 'RELATIVE' not in fig_3.axes[2].get_ylabel().upper()\n",
         "failure_message": "Check y-axis labels.",
         "hidden": false,
         "locked": false,
         "points": 0.05
        },
        {
         "code": ">>> keywords = ['FREQUENCY', 'HISTOGRAM', 'BOD']\n>>> assert all((word in fig_3.axes[0].get_title().upper() for word in keywords))\n",
         "failure_message": "Check the axes titles.",
         "hidden": false,
         "locked": false,
         "points": 0.05
        },
        {
         "code": ">>> keywords = ['RELATIVE', 'FREQUENCY', 'HISTOGRAM', 'BOD']\n>>> assert all((word in fig_3.axes[1].get_title().upper() for word in keywords))\n",
         "failure_message": "Check the axes titles.",
         "hidden": false,
         "locked": false,
         "points": 0.05
        },
        {
         "code": ">>> keywords = ['DENSITY', 'HISTOGRAM', 'BOD']\n>>> assert all((word in fig_3.axes[2].get_title().upper() for word in keywords))\n>>> assert 'FREQUENCY' not in fig_3.axes[2].get_title().upper()\n>>> assert 'RELATIVE' not in fig_3.axes[2].get_title().upper()\n",
         "failure_message": "Check the axes titles.",
         "hidden": false,
         "locked": false,
         "points": 0.05
        }
       ],
       "scored": true,
       "setup": "",
       "teardown": "",
       "type": "doctest"
      }
     ]
    },
    "q5.4": {
     "name": "q5.4",
     "points": 0.5,
     "suites": [
      {
       "cases": [
        {
         "code": ">>> assert isinstance(q5_4, (tuple, str))\n>>> assert all((isinstance(option, str) for option in q5_4))\n>>> assert all((len(option) == 1 for option in q5_4))\n",
         "failure_message": "Incorrect answer format. Make sure you only have the letter of your answer choice in quotes and answers are separated by commas.",
         "hidden": false,
         "locked": false,
         "points": 0,
         "success_message": "Correct answer format."
        },
        {
         "code": ">>> assert any(('7fc56270e7a70fa81a5935b72eacbe29' == get_hash(option.upper()) for option in q5_4))\n",
         "failure_message": "Incorrect answer.",
         "hidden": false,
         "locked": false,
         "points": 0.15
        },
        {
         "code": ">>> assert any(('3a3ea00cfc35332cedf6e5e9a32e94da' == get_hash(option.upper()) for option in q5_4))\n",
         "failure_message": "Incorrect answer.",
         "hidden": false,
         "locked": false,
         "points": 0.2
        },
        {
         "code": ">>> assert not any(('9d5ed678fe57bcca610140957afab571' == get_hash(option.upper()) for option in q5_4))\n",
         "failure_message": "Incorrect answer.",
         "hidden": false,
         "locked": false,
         "points": 0.05
        },
        {
         "code": ">>> assert not any(('0d61f8370cad1d412f80b84d143e1257' == get_hash(option.upper()) for option in q5_4))\n",
         "failure_message": "Incorrect answer.",
         "hidden": false,
         "locked": false,
         "points": 0.05
        },
        {
         "code": ">>> assert not any(('f623e75af30e62bbd73d6df5b50bb7b5' == get_hash(option.upper()) for option in q5_4))\n",
         "failure_message": "Incorrect answer.",
         "hidden": false,
         "locked": false,
         "points": 0.05
        }
       ],
       "scored": true,
       "setup": "",
       "teardown": "",
       "type": "doctest"
      }
     ]
    },
    "q6.0": {
     "name": "q6.0",
     "points": 0.5,
     "suites": [
      {
       "cases": [
        {
         "code": ">>> assert type(fig_6).__name__ == 'Figure'\n>>> assert type(ax_6).__name__ == 'Axes'\n",
         "failure_message": "Make sure to create a figure with 1 axes and assign them to \"fig_6\" and \"ax_6\".",
         "hidden": false,
         "locked": false,
         "points": 0
        },
        {
         "code": ">>> assert isinstance(q6_0, dict)\n",
         "failure_message": "Make sure to save the boxplot as object \"q6_0\".",
         "hidden": false,
         "locked": false,
         "points": 0
        },
        {
         "code": ">>> assert get_hash(sum(q6_0['boxes'][0].get_ydata())) == '27832a0bdee151b440a5f49bcd5af026'\n>>> assert get_hash(len(q6_0['boxes'][0].get_ydata())) == 'e4da3b7fbbce2345d7772b0674a318d5'\n",
         "failure_message": "Check boxplots. First one should be for bod.",
         "hidden": false,
         "locked": false,
         "points": 0.1
        },
        {
         "code": ">>> assert get_hash(sum(q6_0['boxes'][1].get_ydata())) == '349f936687d11c23c32a8fce03747e11'\n>>> assert get_hash(len(q6_0['boxes'][1].get_ydata())) == 'e4da3b7fbbce2345d7772b0674a318d5'\n",
         "failure_message": "Check boxplots. Second one should be for nit.",
         "hidden": false,
         "locked": false,
         "points": 0.1
        },
        {
         "code": ">>> assert get_hash(sum(q6_0['boxes'][2].get_ydata())) == '762f49c2b9f4e488840b503486ffb454'\n>>> assert get_hash(len(q6_0['boxes'][2].get_ydata())) == 'e4da3b7fbbce2345d7772b0674a318d5'\n",
         "failure_message": "Check boxplots. Third one should be for amm.",
         "hidden": false,
         "locked": false,
         "points": 0.1
        },
        {
         "code": ">>> keywords = ['MG', '/', 'L']\n>>> assert all((word in fig_6.axes[0].get_ylabel().upper() for word in keywords))\n",
         "failure_message": "Check y-axis label. Make sure the units are included.",
         "hidden": false,
         "locked": false,
         "points": 0.1
        },
        {
         "code": ">>> assert fig_6.axes[0].xaxis.get_ticklabels()[0].get_text().upper() == 'BOD'\n>>> assert fig_6.axes[0].xaxis.get_ticklabels()[1].get_text().upper() == 'NIT'\n>>> assert fig_6.axes[0].xaxis.get_ticklabels()[2].get_text().upper() == 'AMM'\n",
         "failure_message": "Check x-axis tick labels.",
         "hidden": false,
         "locked": false,
         "points": 0.1
        }
       ],
       "scored": true,
       "setup": "",
       "teardown": "",
       "type": "doctest"
      }
     ]
    },
    "q6.1": {
     "name": "q6.1",
     "points": 0.5,
     "suites": [
      {
       "cases": [
        {
         "code": ">>> assert isinstance(q6_1, (tuple, str))\n>>> assert all((isinstance(option, str) for option in q6_1))\n>>> assert all((len(option) == 1 for option in q6_1))\n",
         "failure_message": "Incorrect answer format. Make sure you only have the letter of your answer choice in quotes and answers are separated by commas.",
         "hidden": false,
         "locked": false,
         "points": 0,
         "success_message": "Correct answer format."
        },
        {
         "code": ">>> assert any(('7fc56270e7a70fa81a5935b72eacbe29' == get_hash(option.upper()) for option in q6_1))\n",
         "failure_message": "Incorrect answer.",
         "hidden": false,
         "locked": false,
         "points": 0.15
        },
        {
         "code": ">>> assert any(('9d5ed678fe57bcca610140957afab571' == get_hash(option.upper()) for option in q6_1))\n",
         "failure_message": "Incorrect answer.",
         "hidden": false,
         "locked": false,
         "points": 0.15
        },
        {
         "code": ">>> assert any(('3a3ea00cfc35332cedf6e5e9a32e94da' == get_hash(option.upper()) for option in q6_1))\n",
         "failure_message": "Incorrect answer.",
         "hidden": false,
         "locked": false,
         "points": 0.1
        },
        {
         "code": ">>> assert not any(('0d61f8370cad1d412f80b84d143e1257' == get_hash(option.upper()) for option in q6_1))\n",
         "failure_message": "Incorrect answer.",
         "hidden": false,
         "locked": false,
         "points": 0.05
        },
        {
         "code": ">>> assert not any(('f623e75af30e62bbd73d6df5b50bb7b5' == get_hash(option.upper()) for option in q6_1))\n",
         "failure_message": "Incorrect answer.",
         "hidden": false,
         "locked": false,
         "points": 0.05
        }
       ],
       "scored": true,
       "setup": "",
       "teardown": "",
       "type": "doctest"
      }
     ]
    },
    "q7.0": {
     "name": "q7.0",
     "points": 0.25,
     "suites": [
      {
       "cases": [
        {
         "code": ">>> assert isinstance(q7_0, PathCollection)\n",
         "failure_message": "Make sure to save the scatterplot as object \"q7_0\".",
         "hidden": false,
         "locked": false,
         "points": 0
        },
        {
         "code": ">>> assert get_hash(sum(q7_0.get_offsets()[:, 0])) == 'ea21ec9f0105c377ee6a517577466548'\n",
         "failure_message": "Make sure to plot nitrates on x-axis.",
         "hidden": false,
         "locked": false,
         "points": 0.125
        },
        {
         "code": ">>> assert get_hash(sum(q7_0.get_offsets()[:, 1])) == '5321d4d80248e9696ab0919817d0b81f'\n",
         "failure_message": "Make sure to plot BOD on y-axis.",
         "hidden": false,
         "locked": false,
         "points": 0.125
        }
       ],
       "scored": true,
       "setup": "",
       "teardown": "",
       "type": "doctest"
      }
     ]
    },
    "q7.1": {
     "name": "q7.1",
     "points": 0.25,
     "suites": [
      {
       "cases": [
        {
         "code": ">>> assert len(q7_1) == 1\n>>> assert isinstance(q7_1, str)\n",
         "failure_message": "Incorrect answer format. Make sure you only have the letter of your answer choice in quotes.",
         "hidden": false,
         "locked": false,
         "points": 0,
         "success_message": "Correct answer format."
        },
        {
         "code": ">>> assert get_hash(q7_1.upper()) == '7fc56270e7a70fa81a5935b72eacbe29'\n",
         "failure_message": "Incorrect answer.",
         "hidden": false,
         "locked": false,
         "points": 0.25
        }
       ],
       "scored": true,
       "setup": "",
       "teardown": "",
       "type": "doctest"
      }
     ]
    }
   }
  }
 },
 "nbformat": 4,
 "nbformat_minor": 5
}
